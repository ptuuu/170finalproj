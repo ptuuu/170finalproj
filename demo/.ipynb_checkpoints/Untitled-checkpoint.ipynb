{
 "cells": [
  {
   "cell_type": "code",
   "execution_count": 1,
   "metadata": {},
   "outputs": [],
   "source": [
    "from textrank4zh import TextRank4Keyword,TextRank4Sentence\n",
    "from sklearn.feature_extraction.text import TfidfVectorizer\n",
    "import pandas as pd\n",
    "import numpy as np\n",
    "import jieba.analyse\n",
    "import os\n",
    "import pickle\n",
    "import lightgbm as lgb\n",
    "from sklearn.model_selection import train_test_split\n",
    "from sklearn.metrics import mean_squared_error\n",
    "from sklearn.ensemble import GradientBoostingRegressor"
   ]
  },
  {
   "cell_type": "code",
   "execution_count": 2,
   "metadata": {},
   "outputs": [],
   "source": [
    "# 获取关键词的函数\n",
    "def get_keywords(x):\n",
    "    if pd.isna(x):\n",
    "        return np.nan\n",
    "    else:\n",
    "        # 使用textrank提取关键词前20\n",
    "        tr4w = TextRank4Keyword(stop_words_file='./base_data/stopword.data')\n",
    "        tr4w.train(text=x, speech_tag_filter=True, lower=True, window=2)\n",
    "        keywords_textrank = tr4w.get_keywords(10, word_min_len=2)\n",
    "        # 依据tfidf提取关键词前20\n",
    "        keywords_tfidf = jieba.analyse.extract_tags(x)[:10]\n",
    "        # 取交集，两种方法共同出现的, ，这样的结果更准确\n",
    "        result_ = list(set(keywords_textrank).intersection(set(keywords_tfidf)))\n",
    "        return result_"
   ]
  },
  {
   "cell_type": "code",
   "execution_count": 3,
   "metadata": {},
   "outputs": [],
   "source": [
    "# 读取数据\n",
    "df = pd.read_csv('./raw_data/datawithcor.csv')\n",
    "# 去除Narrative y为nan的值\n",
    "df = df[df.Fatality_Rate.notna()]\n",
    "df = df[df.Narrative.notna()]"
   ]
  },
  {
   "cell_type": "code",
   "execution_count": 4,
   "metadata": {},
   "outputs": [
    {
     "name": "stderr",
     "output_type": "stream",
     "text": [
      "Building prefix dict from the default dictionary ...\n",
      "Loading model from cache C:\\Users\\86135\\AppData\\Local\\Temp\\jieba.cache\n",
      "Loading model cost 1.580 seconds.\n",
      "Prefix dict has been built successfully.\n"
     ]
    }
   ],
   "source": [
    "# 提取关键字\n",
    "df['key_words'] = df.Narrative.apply(lambda x: get_keywords(x))"
   ]
  },
  {
   "cell_type": "code",
   "execution_count": 11,
   "metadata": {},
   "outputs": [],
   "source": [
    "# 设置x_columns和y_columns名字\n",
    "x_columns = ['year', 'Type', 'Operator', 'Lat', 'Long', 'key_words']\n",
    "y_columns = 'Fatality_Rate'"
   ]
  },
  {
   "cell_type": "code",
   "execution_count": 6,
   "metadata": {},
   "outputs": [],
   "source": [
    "# 数据预处理\n",
    "# Lat, Long 取绝对值\n",
    "df.Lat = df.Lat.abs()\n",
    "df.Long = df.Long.abs()"
   ]
  },
  {
   "cell_type": "code",
   "execution_count": 7,
   "metadata": {},
   "outputs": [],
   "source": [
    "# 因为Type 和 Operator只有2类，所以进行0,1标记即可\n",
    "type_dict = {'Caproni': 0, 'Felixstowe': 1}\n",
    "operator_dict = {'Caproni': 0, 'Royal Air Force - RAF': 1}\n",
    "df.Type = df.Type.map(type_dict)\n",
    "df.Operator = df.Operator.map(operator_dict)"
   ]
  },
  {
   "cell_type": "code",
   "execution_count": 8,
   "metadata": {},
   "outputs": [],
   "source": [
    "# Narrative提取关键词后，因为数量和单词都不同，所以进行tf-idf\n",
    "# 数据预处理，将每行的list中用' '连接\n",
    "df['key_words_new'] = df.key_words.apply(lambda x: ' '.join(x))\n",
    "# 计算tfidf\n",
    "tf_train = TfidfVectorizer()\n",
    "tf_result = tf_train.fit_transform(df.key_words_new.tolist())"
   ]
  },
  {
   "cell_type": "code",
   "execution_count": 9,
   "metadata": {},
   "outputs": [],
   "source": [
    "# 存储基础数据，以便之后预测\n",
    "if os.path.exists('./base_data/vocabulary.json'):\n",
    "    os.remove('./base_data/vocabulary.json')\n",
    "if os.path.exists('./base_data/idfs.npy'):\n",
    "    os.remove('./base_data/idfs.npy')\n",
    "f1 = open('./base_data/vocabulary.json', 'wb')\n",
    "file = tf_train.vocabulary_\n",
    "pickle.dump(file,f1)\n",
    "f1.close()\n",
    "idfs = tf_train.idf_\n",
    "np.save('./base_data/idfs.npy',idfs)\n",
    "# tfidf 加载模型供预测用\n",
    "# idfs = np.load('./base_data/idfs_con.npy')\n",
    "# x_list = [[contents_[i],add_info[i],x_list_1[i],x_list_2[i]] for i in range(len(x_list_1))]\n",
    "# vocabulary_import = pickle.load(open('./base_data/vocabulary_con.json','rb'))\n",
    "# tf_train = MyVectorizer(vocabulary = vocabulary_import)\n",
    "# tf_train._tfidf._idf_diag = sp.spdiags(idfs,\n",
    "#                                      diags = 0,\n",
    "#                                      m = len(idfs),\n",
    "#                                      n = len(idfs))"
   ]
  },
  {
   "cell_type": "code",
   "execution_count": 12,
   "metadata": {},
   "outputs": [],
   "source": [
    "# 将tfidf结果和之前'Type', 'Operator', 'Lat', 'Long'合并\n",
    "a = df[x_columns[:-1]]\n",
    "all_feature = np.hstack((a,  tf_result.toarray()))"
   ]
  },
  {
   "cell_type": "code",
   "execution_count": 14,
   "metadata": {},
   "outputs": [],
   "source": [
    "# 构建模型\n",
    "# 分训练集和测试机\n",
    "x_train, x_test, y_train, y_test = train_test_split(all_feature, df[y_columns],  test_size=0.3, random_state=0)"
   ]
  },
  {
   "cell_type": "code",
   "execution_count": 15,
   "metadata": {},
   "outputs": [
    {
     "name": "stdout",
     "output_type": "stream",
     "text": [
      "mse:  0.1362350917314941\n"
     ]
    }
   ],
   "source": [
    "# lgb\n",
    "gbm = lgb.LGBMRegressor(objective='regression', num_leaves=31, learning_rate=0.05, n_estimators=100)\n",
    "gbm.fit(x_train, y_train)\n",
    "y_pre = gbm.predict(x_test)\n",
    "print('mse: ', mean_squared_error(y_test, y_pre))"
   ]
  },
  {
   "cell_type": "code",
   "execution_count": null,
   "metadata": {},
   "outputs": [],
   "source": [
    "# 其他模型可以自己加"
   ]
  }
 ],
 "metadata": {
  "kernelspec": {
   "display_name": "Python 3",
   "language": "python",
   "name": "python3"
  },
  "language_info": {
   "codemirror_mode": {
    "name": "ipython",
    "version": 3
   },
   "file_extension": ".py",
   "mimetype": "text/x-python",
   "name": "python",
   "nbconvert_exporter": "python",
   "pygments_lexer": "ipython3",
   "version": "3.7.0"
  }
 },
 "nbformat": 4,
 "nbformat_minor": 2
}
