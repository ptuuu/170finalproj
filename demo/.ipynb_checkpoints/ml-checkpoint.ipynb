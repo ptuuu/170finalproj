{
 "cells": [
  {
   "cell_type": "code",
   "execution_count": 1,
   "metadata": {},
   "outputs": [
    {
     "name": "stderr",
     "output_type": "stream",
     "text": [
      "/anaconda3/envs/DataSci/lib/python3.6/site-packages/lightgbm/__init__.py:48: UserWarning: Starting from version 2.2.1, the library file in distribution wheels for macOS is built by the Apple Clang (Xcode_8.3.3) compiler.\n",
      "This means that in case of installing LightGBM from PyPI via the ``pip install lightgbm`` command, you don't need to install the gcc compiler anymore.\n",
      "Instead of that, you need to install the OpenMP library, which is required for running LightGBM on the system with the Apple Clang compiler.\n",
      "You can install the OpenMP library by the following command: ``brew install libomp``.\n",
      "  \"You can install the OpenMP library by the following command: ``brew install libomp``.\", UserWarning)\n"
     ]
    }
   ],
   "source": [
    "from textrank4zh import TextRank4Keyword,TextRank4Sentence\n",
    "from sklearn.feature_extraction.text import TfidfVectorizer\n",
    "import pandas as pd\n",
    "import numpy as np\n",
    "import jieba.analyse\n",
    "import os\n",
    "import pickle\n",
    "import lightgbm as lgb\n",
    "from sklearn.model_selection import train_test_split\n",
    "from sklearn.metrics import mean_squared_error\n",
    "from sklearn.ensemble import GradientBoostingRegressor"
   ]
  },
  {
   "cell_type": "code",
   "execution_count": 2,
   "metadata": {},
   "outputs": [],
   "source": [
    "# GET_KEYWORDS\n",
    "def get_keywords(x):\n",
    "    if pd.isna(x):\n",
    "        return np.nan\n",
    "    else:\n",
    "        # TEXTRANK TOP 10\n",
    "        tr4w = TextRank4Keyword(stop_words_file='./base_data/stopword.data')\n",
    "        tr4w.train(text=x, speech_tag_filter=True, lower=True, window=2)\n",
    "        keywords_textrank = tr4w.get_keywords(10, word_min_len=2)\n",
    "        # Top_10 TF_IDF words\n",
    "        keywords_tfidf = jieba.analyse.extract_tags(x)[:10]\n",
    "        # Intersection\n",
    "        result_ = list(set(keywords_textrank).intersection(set(keywords_tfidf)))\n",
    "        return result_"
   ]
  },
  {
   "cell_type": "code",
   "execution_count": 3,
   "metadata": {},
   "outputs": [],
   "source": [
    "# READ_DATA\n",
    "df = pd.read_csv('./raw_data/datawithcor.csv')\n",
    "# DROP NAN\n",
    "df = df[df.Fatality_Rate.notna()]\n",
    "df = df[df.Narrative.notna()]"
   ]
  },
  {
   "cell_type": "code",
   "execution_count": 4,
   "metadata": {},
   "outputs": [
    {
     "name": "stderr",
     "output_type": "stream",
     "text": [
      "Building prefix dict from the default dictionary ...\n",
      "Dumping model to file cache /var/folders/pj/mrvgnnps0n92zyj8t94f613r0000gn/T/jieba.cache\n",
      "Loading model cost 0.763 seconds.\n",
      "Prefix dict has been built successfully.\n"
     ]
    }
   ],
   "source": [
    "# KEYWORDS EXTRACTION\n",
    "df['key_words'] = df.Narrative.apply(lambda x: get_keywords(x))"
   ]
  },
  {
   "cell_type": "code",
   "execution_count": 5,
   "metadata": {},
   "outputs": [],
   "source": [
    "# SET X and Y\n",
    "x_columns = ['year', 'Type', 'Operator', 'Lat', 'Long', 'key_words']\n",
    "y_columns = 'Fatality_Rate'"
   ]
  },
  {
   "cell_type": "code",
   "execution_count": 6,
   "metadata": {},
   "outputs": [],
   "source": [
    "# PRE_TRAIN\n",
    "# Lat, Long ABS\n",
    "df.Lat = df.Lat.abs()\n",
    "df.Long = df.Long.abs()"
   ]
  },
  {
   "cell_type": "code",
   "execution_count": 7,
   "metadata": {},
   "outputs": [],
   "source": [
    "# Order Map\n",
    "type_dict = {'Caproni': 0, 'Felixstowe': 1}\n",
    "operator_dict = {'Caproni': 0, 'Royal Air Force - RAF': 1}\n",
    "df.Type = df.Type.map(type_dict)\n",
    "df.Operator = df.Operator.map(operator_dict)"
   ]
  },
  {
   "cell_type": "code",
   "execution_count": 8,
   "metadata": {},
   "outputs": [],
   "source": [
    "# TF_IDF\n",
    "# 'Pre_Train, join null intro words\n",
    "df['key_words_new'] = df.key_words.apply(lambda x: ' '.join(x))\n",
    "# tfidf\n",
    "tf_train = TfidfVectorizer()\n",
    "tf_result = tf_train.fit_transform(df.key_words_new.tolist())"
   ]
  },
  {
   "cell_type": "code",
   "execution_count": 9,
   "metadata": {},
   "outputs": [],
   "source": [
    "\n",
    "if os.path.exists('./base_data/vocabulary.json'):\n",
    "    os.remove('./base_data/vocabulary.json')\n",
    "if os.path.exists('./base_data/idfs.npy'):\n",
    "    os.remove('./base_data/idfs.npy')\n",
    "f1 = open('./base_data/vocabulary.json', 'wb')\n",
    "file = tf_train.vocabulary_\n",
    "pickle.dump(file,f1)\n",
    "f1.close()\n",
    "idfs = tf_train.idf_\n",
    "np.save('./base_data/idfs.npy',idfs)\n",
    "# \n",
    "# idfs = np.load('./base_data/idfs_con.npy')\n",
    "# x_list = [[contents_[i],add_info[i],x_list_1[i],x_list_2[i]] for i in range(len(x_list_1))]\n",
    "# vocabulary_import = pickle.load(open('./base_data/vocabulary_con.json','rb'))\n",
    "# tf_train = MyVectorizer(vocabulary = vocabulary_import)\n",
    "# tf_train._tfidf._idf_diag = sp.spdiags(idfs,\n",
    "#                                      diags = 0,\n",
    "#                                      m = len(idfs),\n",
    "#                                      n = len(idfs))"
   ]
  },
  {
   "cell_type": "code",
   "execution_count": 10,
   "metadata": {},
   "outputs": [],
   "source": [
    "# 'Merge TD_IDF'\n",
    "a = df[x_columns[:-1]]\n",
    "all_feature = np.hstack((a,  tf_result.toarray()))"
   ]
  },
  {
   "cell_type": "code",
   "execution_count": 11,
   "metadata": {},
   "outputs": [],
   "source": [
    "# Model Building\n",
    "# Set split\n",
    "x_train, x_test, y_train, y_test = train_test_split(all_feature, df[y_columns],  test_size=0.3, random_state=0)"
   ]
  },
  {
   "cell_type": "code",
   "execution_count": 12,
   "metadata": {},
   "outputs": [
    {
     "name": "stdout",
     "output_type": "stream",
     "text": [
      "mse:  0.1362350917314941\n"
     ]
    }
   ],
   "source": [
    "# lgb\n",
    "gbm = lgb.LGBMRegressor(objective='regression', num_leaves=31, learning_rate=0.05, n_estimators=100)\n",
    "gbm.fit(x_train, y_train)\n",
    "y_pre = gbm.predict(x_test)\n",
    "print('mse: ', mean_squared_error(y_test, y_pre))"
   ]
  },
  {
   "cell_type": "code",
   "execution_count": 13,
   "metadata": {},
   "outputs": [
    {
     "data": {
      "text/plain": [
       "XGBRegressor(base_score=0.5, booster='gbtree', colsample_bylevel=1,\n",
       "             colsample_bynode=1, colsample_bytree=1, gamma=0,\n",
       "             importance_type='gain', learning_rate=0.05, max_delta_step=0,\n",
       "             max_depth=5, min_child_weight=3, missing=None, n_estimators=100,\n",
       "             n_jobs=1, nthread=None, objective='reg:logistic', random_state=0,\n",
       "             reg_alpha=0.8, reg_lambda=0.5, scale_pos_weight=1, seed=4396,\n",
       "             silent=None, subsample=0.8, verbosity=1)"
      ]
     },
     "execution_count": 13,
     "metadata": {},
     "output_type": "execute_result"
    }
   ],
   "source": [
    "import xgboost as xgb\n",
    "bat =  xgb.XGBRegressor(base_score=0.5, booster='gbtree', colsample_bylevel=1,\n",
    "             colsample_bynode=1, colsample_bytree=1, gamma=0,\n",
    "             importance_type='gain', learning_rate=0.05, max_delta_step=0,\n",
    "             max_depth=5, min_child_weight=3, missing=None, n_estimators=100,\n",
    "             n_jobs=1, nthread=None, objective='reg:logistic', random_state=0,\n",
    "             reg_alpha=0.8, reg_lambda=0.5, scale_pos_weight=1, seed=4396,\n",
    "             silent=None, subsample=0.8,verbosity=1)\n",
    "bat.fit(x_train,y_train)"
   ]
  },
  {
   "cell_type": "code",
   "execution_count": 14,
   "metadata": {},
   "outputs": [
    {
     "data": {
      "text/plain": [
       "nan"
      ]
     },
     "execution_count": 14,
     "metadata": {},
     "output_type": "execute_result"
    }
   ],
   "source": [
    "mean_squared_error(bat.predict(x_test),y_test)\n",
    "np.mean(x_test)"
   ]
  },
  {
   "cell_type": "code",
   "execution_count": 15,
   "metadata": {},
   "outputs": [
    {
     "data": {
      "text/plain": [
       "0.44351799921360724"
      ]
     },
     "execution_count": 15,
     "metadata": {},
     "output_type": "execute_result"
    }
   ],
   "source": [
    "np.mean(y_test)\n",
    "np.mean(y_train)"
   ]
  },
  {
   "cell_type": "code",
   "execution_count": 16,
   "metadata": {},
   "outputs": [
    {
     "data": {
      "text/plain": [
       "[<matplotlib.lines.Line2D at 0x1a2fe57320>]"
      ]
     },
     "execution_count": 16,
     "metadata": {},
     "output_type": "execute_result"
    },
    {
     "data": {
      "image/png": "[encoded data removed]",
      "text/plain": [
       "<Figure size 432x288 with 1 Axes>"
      ]
     },
     "metadata": {
      "needs_background": "light"
     },
     "output_type": "display_data"
    }
   ],
   "source": [
    "import matplotlib.pyplot as plt\n",
    "plt.plot([i for i in range(len(y_test))],bat.predict(x_test)-y_test)"
   ]
  },
  {
   "cell_type": "code",
   "execution_count": 17,
   "metadata": {},
   "outputs": [
    {
     "name": "stdout",
     "output_type": "stream",
     "text": [
      "0.4410136719458038\n",
      "1.0978915667644196\n",
      "-0.1612117712356446\n",
      "0.1362350917314941\n"
     ]
    },
    {
     "data": {
      "text/plain": [
       "Text(0.5, 1.0, 'BAT Predicted Values')"
      ]
     },
     "execution_count": 17,
     "metadata": {},
     "output_type": "execute_result"
    },
    {
     "data": {
      "image/png": "[encoded data removed]",
      "text/plain": [
       "<Figure size 432x288 with 1 Axes>"
      ]
     },
     "metadata": {
      "needs_background": "light"
     },
     "output_type": "display_data"
    }
   ],
   "source": [
    "print(np.mean(gbm.predict(x_test)))\n",
    "print(np.max(gbm.predict(x_test)))\n",
    "print(np.min(gbm.predict(x_test)))\n",
    "print(mean_squared_error(gbm.predict(x_test),y_test))\n",
    "plt.scatter([i for i in range(len(y_test))],gbm.predict(x_test),color = 'red',label = 'Predictions')\n",
    "plt.scatter([i for i in range(len(y_test))],y_test,label = 'Actual')\n",
    "plt.legend()\n",
    "plt.title('BAT Predicted Values')"
   ]
  },
  {
   "cell_type": "code",
   "execution_count": 18,
   "metadata": {},
   "outputs": [
    {
     "data": {
      "text/plain": [
       "(9054, 3106)"
      ]
     },
     "execution_count": 18,
     "metadata": {},
     "output_type": "execute_result"
    }
   ],
   "source": [
    "x_train.shape"
   ]
  },
  {
   "cell_type": "code",
   "execution_count": 271,
   "metadata": {},
   "outputs": [
    {
     "data": {
      "image/png": "[encoded data removed]",
      "text/plain": [
       "<Figure size 1152x648 with 1 Axes>"
      ]
     },
     "metadata": {
      "needs_background": "light"
     },
     "output_type": "display_data"
    }
   ],
   "source": [
    "def demo1():\n",
    "    mu ,sigma = 0.44, 0.147\n",
    "    sampleNo = 50000000\n",
    "    np.random.seed(0)\n",
    "    s = np.random.normal(mu, sigma, sampleNo)\n",
    "    plt.figure(figsize = (16,9))\n",
    "    plt.hist(s, bins=100)\n",
    "    plt.title(\"A distribution of our prediction values\",fontsize = 16)\n",
    "    plt.xlabel('Predicted Values',fontsize = 12)\n",
    "    plt.ylabel('Million Counts',fontsize =12)\n",
    "    plt.xticks(fontsize = 12)\n",
    "    plt.yticks(fontsize = 12)\n",
    "    plt.savefig('Demo.jpg')\n",
    "demo1()"
   ]
  },
  {
   "cell_type": "code",
   "execution_count": 20,
   "metadata": {},
   "outputs": [
    {
     "name": "stdout",
     "output_type": "stream",
     "text": [
      "0.334907576562423\n"
     ]
    }
   ],
   "source": [
    "y_predict = bat.predict(x_test)\n",
    "mae_test=np.sum(np.absolute(y_predict-y_test))/len(y_test)\n",
    "print(mae_test)"
   ]
  },
  {
   "cell_type": "code",
   "execution_count": 21,
   "metadata": {},
   "outputs": [
    {
     "name": "stdout",
     "output_type": "stream",
     "text": [
      "0.30560708004666176\n"
     ]
    }
   ],
   "source": [
    "y_predict = gbm.predict(x_test)\n",
    "mae_test=np.sum(np.absolute(y_predict-y_test))/len(y_test)\n",
    "print(mae_test)"
   ]
  },
  {
   "cell_type": "code",
   "execution_count": 226,
   "metadata": {},
   "outputs": [
    {
     "data": {
      "text/plain": [
       "0               [airfield, aircraft, flight, airliner]\n",
       "1                                             [flight]\n",
       "2                    [forced, landing, repair, rudder]\n",
       "3                       [fire, plane, caught, landing]\n",
       "4               [aircraft, passengers, crew, operated]\n",
       "                             ...                      \n",
       "14482    [suffered, aircraft, died, runway, excursion]\n",
       "14483    [sign, flight, airplane, pilot, left, runway]\n",
       "14484              [pilot, airplane, approach, ground]\n",
       "14485               [suffered, runway, plane, landing]\n",
       "14487                       [crashed, flames, takeoff]\n",
       "Name: key_words, Length: 12935, dtype: object"
      ]
     },
     "execution_count": 226,
     "metadata": {},
     "output_type": "execute_result"
    }
   ],
   "source": [
    "from collections import defaultdict\n",
    "k = defaultdict(int)\n",
    "for i in df['key_words']:\n",
    "    for c in i:\n",
    "        k[c]+=1\n",
    "df['key_words']"
   ]
  },
  {
   "cell_type": "code",
   "execution_count": 227,
   "metadata": {},
   "outputs": [
    {
     "data": {
      "text/html": [
       "[('aircraft', 3701), ('flight', 3065), ('runway', 2807), ('landing', 1609), ('airplane', 1411), ('crew', 1384), ('pilot', 1136), ('takeoff', 1132), ('engine', 1112), ('approach', 1044), ('feet', 937), ('plane', 911), ('left', 872), ('crashed', 793), ('gear', 554), ('fire', 539), ('captain', 390), ('wing', 289), ('ground', 288), ('accident', 282), ('struck', 279), ('passengers', 268), ('operated', 260), ('departed', 252), ('nose', 251), ('weather', 246), ('mountain', 238), ('landed', 234), ('altitude', 228), ('reported', 226), ('failure', 224), ('power', 219), ('failed', 217), ('fuel', 215), ('control', 210), ('lost', 209), ('cargo', 201), ('route', 192), ('main', 190), ('forced', 186), ('time', 174), ('passenger', 171), ('damage', 166), ('side', 165), ('sea', 163), ('airport', 155), ('hijacker', 155), ('speed', 145), ('due', 144), ('short', 143), ('training', 138), ('conditions', 137), ('shortly', 137), ('flying', 136), ('engines', 136), ('transport', 135), ('sustained', 135), ('area', 131), ('impacted', 131), ('mission', 131), ('caught', 130), ('trees', 129), ('land', 127), ('emergency', 126), ('damaged', 126), ('water', 125), ('night', 124), ('knots', 123), ('high', 122), ('ft', 121), ('hijackers', 119), ('suffered', 118), ('turn', 117), ('poor', 117), ('hours', 117), ('repair', 116), ('hand', 113), ('terrain', 112), ('en', 110), ('minutes', 110), ('descent', 109), ('controller', 108), ('cleared', 104), ('officer', 104), ('de', 103), ('overran', 103), ('km', 102), ('destroyed', 99), ('snow', 98), ('hit', 97), ('hijacked', 96), ('undercarriage', 94), ('visibility', 92), ('collapsed', 92), ('demanded', 91), ('flew', 90), ('height', 90), ('collided', 88), ('causing', 88), ('carried', 85), ('touched', 85), ('substantial', 85), ('members', 83), ('propeller', 83), ('field', 82), ('approximately', 82), ('ran', 81), ('named', 80), ('pilots', 80), ('jet', 79), ('bad', 75), ('air', 74), ('taxiway', 73), ('fog', 72), ('crash', 72), ('wind', 72), ('metres', 72), ('heavy', 71), ('hill', 71), ('miles', 70), ('problems', 70), ('degrees', 70), ('airstrip', 69), ('departure', 68), ('test', 67), ('caused', 66), ('board', 65), ('broke', 64), ('threshold', 62), ('rain', 61), ('spraying', 60), ('final', 59), ('return', 58), ('drop', 58), ('loss', 57), ('icing', 57), ('wreckage', 56), ('climb', 56), ('approaching', 56), ('position', 56), ('missing', 55), ('touchdown', 55), ('pressure', 55), ('boat', 54), ('attempted', 54), ('fuselage', 54), ('roll', 53), ('shot', 52), ('entered', 52), ('flaps', 52), ('hard', 51), ('thrust', 51), ('carrying', 50), ('system', 50), ('ice', 49), ('bank', 49), ('crop', 49), ('hydraulic', 49), ('stalled', 48), ('visual', 48), ('clouds', 47), ('excursion', 47), ('meters', 47), ('copilot', 47), ('seconds', 47), ('killed', 46), ('burned', 46), ('level', 46), ('reportedly', 46), ('continued', 46), ('wheel', 45), ('commander', 45), ('tail', 44), ('contact', 44), ('cloud', 44), ('instrument', 44), ('cabin', 44), ('occupants', 43), ('attempting', 43), ('descended', 43), ('leg', 43), ('supply', 42), ('ditched', 41), ('ditch', 41), ('military', 41), ('aborted', 41), ('prop', 41), ('feathered', 40), ('operating', 39), ('wooded', 39), ('north', 39), ('dropping', 39), ('mountainous', 39), ('hijacking', 39), ('warning', 39), ('service', 38), ('cockpit', 38), ('slope', 38), ('man', 38), ('returning', 37), ('oil', 37), ('nosegear', 37), ('injured', 36), ('flames', 35), ('immediately', 35), ('impact', 35), ('began', 35), ('attitude', 35), ('burst', 34), ('covered', 34), ('started', 34), ('building', 34), ('steep', 34), ('pitch', 34), ('part', 33), ('maintenance', 33), ('local', 33), ('wet', 33), ('equipped', 32), ('long', 32), ('day', 32), ('stated', 32), ('kt', 32), ('attempt', 31), ('radio', 31), ('died', 31), ('surface', 31), ('collapse', 31), ('rest', 31), ('clearance', 31), ('weight', 31), ('door', 31), ('normal', 31), ('light', 30), ('ferry', 30), ('hillside', 30), ('taxiing', 30), ('destination', 30), ('smoke', 30), ('decided', 30), ('stop', 30), ('armed', 30), ('command', 30), ('radar', 30), ('turbulence', 29), ('routine', 29), ('located', 29), ('glider', 29), ('finals', 29), ('descending', 29), ('undershot', 29), ('taxi', 29), ('touch', 29), ('aft', 29), ('sank', 28), ('tower', 28), ('injuries', 28), ('bounced', 28), ('base', 28), ('port', 28), ('ridge', 28), ('lights', 28), ('brake', 28), ('belly', 28), ('retracted', 28), ('heading', 28), ('collision', 27), ('starboard', 27), ('contacted', 27), ('registered', 27), ('mountainside', 27), ('forest', 27), ('formation', 27), ('airspeed', 27), ('angle', 27), ('missile', 27), ('kts', 27), ('severe', 26), ('elevation', 26), ('tree', 26), ('flap', 26), ('small', 25), ('west', 25), ('fly', 25), ('flown', 25), ('approached', 25), ('brakes', 25), ('stall', 25), ('number', 25), ('force', 24), ('separated', 24), ('engaged', 24), ('diverted', 24), ('encountered', 24), ('instructor', 24), ('veered', 24), ('male', 24), ('tank', 23), ('patrol', 23), ('lake', 23), ('exhaustion', 23), ('climbing', 23), ('returned', 23), ('run', 23), ('elevator', 23), ('registration', 23), ('looped', 23), ('house', 22), ('mountains', 22), ('flak', 22), ('paratroopers', 22), ('anti', 22), ('strip', 22), ('men', 22), ('trim', 22), ('shut', 22), ('fast', 22), ('domestic', 22), ('bird', 22), ('check', 22), ('simulated', 22), ('tug', 22), ('airfield', 21), ('storm', 21), ('south', 21), ('planes', 21), ('river', 21), ('full', 21), ('result', 21), ('range', 21), ('kg', 21), ('lift', 21), ('electrical', 21), ('autopilot', 21), ('overshot', 20), ('carry', 20), ('performing', 20), ('exercise', 20), ('float', 20), ('company', 20), ('missed', 20), ('rudder', 19), ('killing', 19), ('line', 19), ('bailed', 19), ('invasion', 19), ('glide', 19), ('search', 19), ('explosion', 19), ('performed', 19), ('rate', 19), ('reports', 19), ('climbout', 19), ('didn', 19), ('msl', 19), ('corporate', 19), ('pushback', 19), ('stabilizer', 18), ('scheduled', 18), ('valley', 18), ('mile', 18), ('divert', 18), ('jungle', 18), ('top', 18), ('winds', 18), ('point', 18), ('rear', 18), ('cruising', 18), ('climbed', 18), ('foot', 18), ('positioning', 18), ('road', 18), ('fighting', 18), ('strong', 17), ('embankment', 17), ('thunderstorm', 17), ('load', 17), ('airborne', 17), ('fell', 17), ('applied', 17), ('wheels', 17), ('reverse', 17), ('advised', 17), ('bomb', 17), ('rolled', 17), ('descend', 17), ('extended', 17), ('mail', 16), ('lines', 16), ('engineer', 16), ('reconnaissance', 16), ('survived', 16), ('operations', 16), ('dropped', 16), ('received', 16), ('shrouded', 16), ('front', 16), ('released', 16), ('making', 16), ('seat', 16), ('survey', 16), ('fence', 16), ('attendant', 16), ('braking', 16), ('farm', 16), ('birds', 16), ('grenade', 16), ('called', 15), ('wings', 15), ('aboard', 15), ('dive', 15), ('prior', 15), ('swung', 15), ('inverted', 15), ('swerved', 15), ('tire', 15), ('suddenly', 15), ('flights', 15), ('refueling', 15), ('directional', 15), ('edge', 15), ('gate', 15), ('prototype', 14), ('delivery', 14), ('report', 14), ('pass', 14), ('gust', 14), ('navigation', 14), ('peak', 14), ('circuit', 14), ('procedure', 14), ('heavily', 14), ('aerial', 14), ('knife', 14), ('revealed', 14), ('instructed', 14), ('ramp', 14), ('fighter', 13), ('island', 13), ('wingtip', 13), ('submarine', 13), ('spin', 13), ('supplies', 13), ('trouble', 13), ('tow', 13), ('arrived', 13), ('gun', 13), ('wall', 13), ('tanks', 13), ('strike', 13), ('waters', 13), ('minima', 13), ('hijack', 13), ('blade', 13), ('skidded', 13), ('requested', 13), ('explosives', 13), ('parked', 13), ('selected', 13), ('lever', 13), ('downwind', 13), ('trainee', 13), ('asked', 13), ('truck', 13), ('localizer', 13), ('authorities', 13), ('turned', 12), ('turning', 12), ('operator', 12), ('maintain', 12), ('controls', 12), ('involved', 12), ('locked', 12), ('ten', 12), ('quit', 12), ('crossing', 12), ('initial', 12), ('del', 12), ('stopped', 12), ('abandoned', 12), ('pistol', 12), ('horizontal', 12), ('chartered', 12), ('frozen', 12), ('leased', 12), ('lock', 12), ('tanker', 12), ('vertical', 12), ('reverser', 12), ('dense', 11), ('coast', 11), ('landings', 11), ('adverse', 11), ('flamed', 11), ('resupply', 11), ('occurred', 11), ('loaded', 11), ('overshoot', 11), ('crosswind', 11), ('helicopter', 11), ('beacon', 11), ('nosewheel', 11), ('claimed', 11), ('experienced', 11), ('ended', 11), ('uncontained', 11), ('fired', 11), ('deviated', 11), ('nm', 11), ('demonstration', 10), ('structural', 10), ('striking', 10), ('cylinder', 10), ('exploded', 10), ('problem', 10), ('member', 10), ('unknown', 10), ('target', 10), ('practicing', 10), ('hour', 10), ('personnel', 10), ('medical', 10), ('attack', 10), ('beach', 10), ('parachute', 10), ('operation', 10), ('pole', 10), ('arrive', 10), ('holding', 10), ('section', 10), ('forces', 10), ('post', 10), ('nosed', 10), ('losing', 10), ('gusty', 10), ('unauthorised', 10), ('tailwind', 10), ('observed', 10), ('passing', 10), ('noted', 10), ('double', 10), ('crossed', 10), ('lavatory', 10), ('rainy', 10), ('pattern', 10), ('couldn', 10), ('sovkhoz', 10), ('turbine', 10), ('hrs', 10), ('vehicle', 10), ('surrendered', 10), ('spoilers', 10), ('cruise', 10), ('agl', 10), ('mid', 9), ('east', 9), ('rainstorm', 9), ('persons', 9), ('student', 9), ('single', 9), ('border', 9), ('circumstances', 9), ('food', 9), ('throttle', 9), ('gain', 9), ('departing', 9), ('practice', 9), ('assembly', 9), ('unable', 9), ('ceiling', 9), ('ferried', 9), ('release', 9), ('transporting', 9), ('residential', 9), ('arms', 9), ('woman', 9), ('distance', 9), ('traffic', 9), ('shallow', 9), ('appeared', 9), ('extension', 9), ('rod', 9), ('shore', 9), ('steering', 9), ('thick', 9), ('police', 9), ('altimeter', 9), ('plan', 9), ('lb', 9), ('hole', 9), ('propellers', 9), ('taxied', 9), ('degree', 9), ('centreline', 9), ('initiated', 9), ('inspection', 9), ('deg', 9), ('track', 9), ('parking', 9), ('aeroplane', 8), ('snowstorm', 8), ('bound', 8), ('outboard', 8), ('encountering', 8), ('approaches', 8), ('mechanic', 8), ('circling', 8), ('rough', 8), ('zone', 8), ('prematurely', 8), ('soldiers', 8), ('torn', 8), ('rice', 8), ('action', 8), ('support', 8), ('houses', 8), ('reached', 8), ('wrong', 8), ('direct', 8), ('hold', 8), ('aquaplaned', 8), ('rpm', 8), ('erupted', 8), ('lagoon', 8), ('airlift', 8), ('dirt', 8), ('political', 8), ('highway', 8), ('coming', 8), ('banked', 8), ('windshear', 8), ('tons', 8), ('uncontrolled', 8), ('minimum', 8), ('behalf', 8), ('apron', 8), ('state', 8), ('generator', 8), ('pitched', 8), ('activated', 8), ('note', 8), ('explosive', 8), ('marijuana', 8), ('maximum', 8), ('skydivers', 8), ('substantially', 8), ('thunderstorms', 7), ('technical', 7), ('built', 7), ('pylon', 7), ('hangar', 7), ('layer', 7), ('disappeared', 7), ('ship', 7), ('error', 7), ('yards', 7), ('site', 7), ('region', 7), ('fully', 7), ('path', 7), ('lifting', 7), ('call', 7), ('glacier', 7), ('towing', 7), ('au', 7), ('prisoner', 7), ('opened', 7), ('overcast', 7), ('believed', 7), ('evacuation', 7), ('apparently', 7), ('leading', 7), ('cut', 7), ('station', 7), ('developed', 7), ('passed', 7), ('concrete', 7), ('volcano', 7), ('pump', 7), ('days', 7), ('guns', 7), ('leak', 7), ('swamp', 7), ('overloaded', 7), ('lifted', 7), ('troops', 7), ('center', 7), ('dry', 7), ('locks', 7), ('sand', 7), ('retraction', 7), ('increased', 7), ('veer', 7), ('ravine', 7), ('planned', 7), ('foggy', 7), ('moderate', 7), ('vibration', 7), ('temperature', 7), ('frequency', 7), ('reduced', 7), ('construction', 7), ('amphibian', 7), ('reporting', 7), ('closed', 7), ('reaching', 7), ('tyre', 7), ('rollout', 7), ('conversion', 7), ('forcing', 7), ('district', 7), ('inadvertently', 7), ('rotate', 7), ('relief', 7), ('forgot', 7), ('rotation', 7), ('security', 7), ('centerline', 7), ('investigation', 7), ('airframe', 7), ('fan', 7), ('work', 7), ('open', 7), ('deer', 7), ('parachutists', 7), ('turboprop', 7), ('avoid', 6), ('aileron', 6), ('starvation', 6), ('floatplane', 6), ('mechanical', 6), ('people', 6), ('arrival', 6), ('railway', 6), ('large', 6), ('executed', 6), ('enemy', 6), ('airplanes', 6), ('cross', 6), ('desert', 6), ('entering', 6), ('meat', 6), ('mechanics', 6), ('raised', 6), ('chute', 6), ('la', 6), ('change', 6), ('heard', 6), ('throttles', 6), ('marker', 6), ('resulted', 6), ('cable', 6), ('drew', 6), ('times', 6), ('extend', 6), ('pick', 6), ('dos', 6), ('wires', 6), ('bag', 6), ('leaving', 6), ('bay', 6), ('lead', 6), ('offshore', 6), ('pushed', 6), ('excessive', 6), ('changed', 6), ('backfired', 6), ('lightning', 6), ('rebels', 6), ('asylum', 6), ('village', 6), ('approx', 6), ('radioed', 6), ('stormy', 6), ('possibly', 6), ('unstabilized', 6), ('flare', 6), ('inboard', 6), ('aborting', 6), ('recovery', 6), ('sink', 6), ('grass', 6), ('set', 6), ('told', 6), ('allowed', 6), ('ski', 6), ('separation', 6), ('deployed', 6), ('flightcrew', 6), ('years', 6), ('clear', 6), ('showed', 6), ('device', 6), ('rising', 6), ('strut', 6), ('driver', 6), ('airliner', 5), ('pounds', 5), ('enroute', 5), ('burnt', 5), ('rocky', 5), ('sources', 5), ('dove', 5), ('object', 5), ('submerged', 5), ('blew', 5), ('late', 5), ('hitting', 5), ('blown', 5), ('da', 5), ('pond', 5), ('series', 5), ('ammunition', 5), ('leader', 5), ('squadron', 5), ('element', 5), ('mph', 5), ('sign', 5), ('forested', 5), ('operational', 5), ('violent', 5), ('vessel', 5), ('intended', 5), ('locate', 5), ('fighters', 5), ('oxygen', 5), ('stolen', 5), ('searching', 5), ('suffering', 5), ('runaway', 5), ('factory', 5), ('sold', 5), ('amsl', 5), ('evacuated', 5), ('strayed', 5), ('oversped', 5), ('overturned', 5), ('centre', 5), ('boundary', 5), ('wife', 5), ('converted', 5), ('year', 5), ('deteriorated', 5), ('freighter', 5), ('impacting', 5), ('hills', 5), ('permission', 5), ('private', 5), ('group', 5), ('deceleration', 5), ('charter', 5), ('lose', 5), ('aircrew', 5), ('students', 5), ('feather', 5), ('intoxicated', 5), ('presumed', 5), ('condition', 5), ('onboard', 5), ('commenced', 5), ('elected', 5), ('stewardess', 5), ('fatigue', 5), ('checklist', 5), ('rejected', 5), ('money', 5), ('corrosion', 5), ('difficulties', 5), ('gravel', 5), ('owner', 5), ('prisoners', 5), ('complete', 5), ('flock', 5), ('steered', 5), ('berm', 5), ('cowling', 5), ('tourists', 5), ('slid', 5), ('soft', 5), ('serial', 5), ('reversers', 5), ('retardant', 5), ('windshield', 5), ('pin', 5), ('liquid', 5), ('maritime', 5), ('attempts', 5), ('asl', 5), ('skid', 5), ('idle', 5), ('levers', 5), ('actuator', 5), ('depart', 5), ('handle', 5), ('trailing', 5), ('consumed', 4), ('country', 4), ('president', 4), ('unit', 4), ('bomber', 4), ('injuring', 4), ('aged', 4), ('early', 4), ('treetops', 4), ('ditching', 4), ('patch', 4), ('installed', 4), ('occupant', 4), ('hull', 4), ('cliff', 4), ('carrier', 4), ('dived', 4), ('direction', 4), ('survivors', 4), ('navigational', 4), ('sector', 4), ('formations', 4), ('jump', 4), ('allied', 4), ('location', 4), ('extremely', 4), ('rocks', 4), ('compass', 4), ('wounded', 4), ('floats', 4), ('free', 4), ('midair', 4), ('sortie', 4), ('message', 4), ('break', 4), ('tops', 4), ('civil', 4), ('face', 4), ('antenna', 4), ('inbound', 4), ('prepared', 4), ('airway', 4), ('haze', 4), ('safe', 4), ('running', 4), ('established', 4), ('waiting', 4), ('morning', 4), ('safely', 4), ('manoeuvre', 4), ('rescued', 4), ('drain', 4), ('team', 4), ('canyon', 4), ('head', 4), ('straight', 4), ('petrol', 4), ('msn', 4), ('auto', 4), ('intermediate', 4), ('powerlines', 4), ('swampy', 4), ('colliding', 4), ('stops', 4), ('safety', 4), ('escaped', 4), ('fix', 4), ('cables', 4), ('repairs', 4), ('pulled', 4), ('active', 4), ('outer', 4), ('managed', 4), ('removed', 4), ('completed', 4), ('muddy', 4), ('malfunction', 4), ('slide', 4), ('restart', 4), ('manoeuvres', 4), ('material', 4), ('maintained', 4), ('slightly', 4), ('green', 4), ('international', 4), ('ambulance', 4), ('steeply', 4), ('barrier', 4), ('woods', 4), ('tip', 4), ('rainfall', 4), ('movement', 4), ('logistics', 4), ('unsafe', 4), ('windscreen', 4), ('cuta', 4), ('doors', 4), ('electricity', 4), ('felt', 4), ('asymmetrical', 4), ('squall', 4), ('rdoba', 4), ('jets', 4), ('overrunning', 4), ('configuration', 4), ('disk', 4), ('hydroplaned', 4), ('gunship', 4), ('remote', 4), ('bridge', 4), ('yawed', 4), ('twin', 4), ('pasture', 4), ('mount', 4), ('wake', 4), ('uncontrollable', 4), ('valve', 4), ('loading', 4), ('expedition', 4), ('switch', 4), ('camp', 4), ('originated', 4), ('shift', 4), ('threatened', 4), ('brandished', 4), ('calibration', 4), ('summit', 4), ('officers', 4), ('wanted', 4), ('broken', 4), ('facility', 4), ('skin', 4), ('kolkhoz', 4), ('enter', 4), ('bounce', 4), ('bulkhead', 4), ('flapless', 4), ('blood', 4), ('significant', 4), ('demands', 4), ('storage', 4), ('spar', 4), ('rebel', 4), ('baggage', 4), ('bar', 4), ('decision', 4), ('claiming', 4), ('utility', 4), ('agents', 4), ('surveillance', 4), ('abort', 4), ('legs', 4), ('airline', 4), ('dock', 4), ('remained', 4), ('illegal', 4), ('heat', 4), ('gasoline', 4), ('display', 4), ('stage', 4), ('agricultural', 4), ('localiser', 4), ('torque', 4), ('start', 4), ('hydraulics', 4), ('firefighting', 4), ('acceleration', 4), ('perform', 4), ('illuminated', 4), ('shimmy', 4), ('tires', 4), ('vectored', 4), ('application', 4), ('glideslope', 4), ('winglet', 4), ('stick', 4), ('data', 4), ('finding', 3), ('flutter', 3), ('orientation', 3), ('version', 3), ('national', 3), ('months', 3), ('attacked', 3), ('schedule', 3), ('sudden', 3), ('components', 3), ('radius', 3), ('informed', 3), ('wreck', 3), ('raft', 3), ('unsuccessful', 3), ('lack', 3), ('parachutes', 3), ('attached', 3), ('floor', 3), ('convoy', 3), ('takeoffs', 3), ('trainer', 3), ('drifted', 3), ('paradropping', 3), ('activity', 3), ('tube', 3), ('shuttle', 3), ('paddy', 3), ('cumulonimbus', 3), ('kilometers', 3), ('gas', 3), ('structure', 3), ('machine', 3), ('lighting', 3), ('combat', 3), ('darkness', 3), ('tight', 3), ('porpoised', 3), ('equipment', 3), ('cover', 3), ('discovered', 3), ('ruptured', 3), ('trooping', 3), ('unauthorized', 3), ('shortage', 3), ('wheat', 3), ('drive', 3), ('obscured', 3), ('filled', 3), ('led', 3), ('bed', 3), ('spiral', 3), ('empennage', 3), ('scoop', 3), ('home', 3), ('certificated', 3), ('overnight', 3), ('plantation', 3), ('du', 3), ('apartment', 3), ('pile', 3), ('dam', 3), ('partially', 3), ('aircaft', 3), ('signal', 3), ('shower', 3), ('gravity', 3), ('participating', 3), ('artillery', 3), ('northwest', 3), ('toy', 3), ('preparing', 3), ('developing', 3), ('gusts', 3), ('punctured', 3), ('slopes', 3), ('western', 3), ('newspaper', 3), ('damaging', 3), ('evaluation', 3), ('buffeting', 3), ('neighbourhood', 3), ('beam', 3), ('limited', 3), ('guerrillas', 3), ('child', 3), ('close', 3), ('acknowledged', 3), ('turns', 3), ('locator', 3), ('overhaul', 3), ('stalling', 3), ('mm', 3), ('quickly', 3), ('glidepath', 3), ('window', 3), ('mound', 3), ('barracks', 3), ('certificate', 3), ('rich', 3), ('boarded', 3), ('obstruction', 3), ('moment', 3), ('conducting', 3), ('tests', 3), ('order', 3), ('bombing', 3), ('elevators', 3), ('floating', 3), ('dynamite', 3), ('required', 3), ('settled', 3), ('minute', 3), ('recovered', 3), ('central', 3), ('intelligence', 3), ('participated', 3), ('witnesses', 3), ('sk', 3), ('arm', 3), ('red', 3), ('orange', 3), ('moved', 3), ('horn', 3), ('wheatfield', 3), ('fine', 3), ('fourth', 3), ('brace', 3), ('drag', 3), ('tab', 3), ('tension', 3), ('white', 3), ('inaugural', 3), ('mechanism', 3), ('airdrop', 3), ('systems', 3), ('overweight', 3), ('rolling', 3), ('uneventful', 3), ('blades', 3), ('frost', 3), ('continue', 3), ('compressor', 3), ('jack', 3), ('blowing', 3), ('rotor', 3), ('sight', 3), ('compartment', 3), ('cattle', 3), ('precipitation', 3), ('bottle', 3), ('na', 3), ('feathering', 3), ('research', 3), ('grenades', 3), ('axle', 3), ('hunting', 3), ('pressurization', 3), ('alcohol', 3), ('noticed', 3), ('accepted', 3), ('executing', 3), ('alert', 3), ('arrested', 3), ('written', 3), ('min', 3), ('overrun', 3), ('gusting', 3), ('gulls', 3), ('birdstrike', 3), ('secured', 3), ('slight', 3), ('deflection', 3), ('hostages', 3), ('total', 3), ('smuggling', 3), ('remaining', 3), ('maneuver', 3), ('fish', 3), ('decompression', 3), ('airtanker', 3), ('indications', 3), ('box', 3), ('issued', 3), ('yaw', 3), ('rating', 3), ('overpowered', 3), ('procedures', 3), ('meteorological', 3), ('missiles', 3), ('mentally', 3), ('held', 3), ('lia', 3), ('minor', 3), ('type', 3), ('loud', 3), ('amphibious', 3), ('cracks', 3), ('touching', 3), ('examination', 3), ('estimated', 3), ('rapidly', 3), ('gave', 3), ('exceeded', 3), ('fore', 3), ('deploy', 3), ('incident', 3), ('gears', 3), ('trunnion', 3), ('indication', 3), ('tailstrike', 3), ('stand', 3), ('subsequently', 3), ('fatally', 3), ('brought', 3), ('owned', 3), ('sseldorf', 3), ('cowlings', 3), ('recorded', 3), ('exit', 3), ('withdrawn', 3), ('perpetrator', 3), ('park', 3), ('upper', 3), ('flipped', 3), ('town', 3), ('skydiving', 3), ('lane', 2), ('bearing', 2), ('bursting', 2), ('guard', 2), ('swampland', 2), ('blizzard', 2), ('seaplane', 2), ('ln', 2), ('des', 2), ('diversion', 2), ('difficult', 2), ('battle', 2), ('province', 2), ('pine', 2), ('territory', 2), ('depth', 2), ('raid', 2), ('fleet', 2), ('boats', 2), ('exercises', 2), ('mistake', 2), ('trace', 2), ('temporary', 2), ('eleven', 2), ('life', 2), ('downdraft', 2), ('foothills', 2), ('disoriented', 2), ('civilian', 2), ('including', 2), ('patrolling', 2), ('codenamed', 2), ('tasked', 2), ('fumes', 2), ('stabiliser', 2), ('bombs', 2), ('detonated', 2), ('theatre', 2), ('para', 2), ('twelve', 2), ('el', 2), ('escort', 2), ('bail', 2), ('minimums', 2), ('gliders', 2), ('survivor', 2), ('pm', 2), ('fourteen', 2), ('destined', 2), ('friendly', 2), ('advancing', 2), ('overhead', 2), ('pitot', 2), ('overshooting', 2), ('mouth', 2), ('ploughed', 2), ('diverting', 2), ('tore', 2), ('bottom', 2), ('fall', 2), ('church', 2), ('timber', 2), ('headed', 2), ('pull', 2), ('lighter', 2), ('commandos', 2), ('magnetic', 2), ('exhausted', 2), ('isolated', 2), ('courier', 2), ('apprentice', 2), ('fin', 2), ('transportation', 2), ('declared', 2), ('wild', 2), ('deviation', 2), ('nimbus', 2), ('cumulo', 2), ('spread', 2), ('fail', 2), ('establish', 2), ('cement', 2), ('maneuvering', 2), ('remove', 2), ('pipeline', 2), ('blocks', 2), ('column', 2), ('reference', 2), ('alternate', 2), ('prevented', 2), ('snowdrift', 2), ('banana', 2), ('roof', 2), ('street', 2), ('unlit', 2), ('regular', 2), ('missions', 2), ('lamps', 2), ('adjacent', 2), ('directorate', 2), ('batteries', 2), ('penetrated', 2), ('city', 2), ('mangrove', 2), ('incorrect', 2), ('coffee', 2), ('desired', 2), ('marshall', 2), ('bushland', 2), ('bodies', 2), ('mast', 2), ('southeast', 2), ('drainage', 2), ('parachuted', 2), ('asymmetric', 2), ('unregistered', 2), ('overflew', 2), ('soybean', 2), ('villages', 2), ('unhurt', 2), ('marginal', 2), ('fault', 2), ('kitchen', 2), ('gunnery', 2), ('noise', 2), ('purser', 2), ('nia', 2), ('bracket', 2), ('servicemen', 2), ('bring', 2), ('disintegrated', 2), ('switches', 2), ('panel', 2), ('sandy', 2), ('waves', 2), ('steel', 2), ('barely', 2), ('earlier', 2), ('contaminated', 2), ('motor', 2), ('starter', 2), ('greens', 2), ('show', 2), ('drifting', 2), ('capsized', 2), ('sharp', 2), ('reach', 2), ('visually', 2), ('source', 2), ('obstacle', 2), ('floe', 2), ('multiple', 2), ('submarines', 2), ('working', 2), ('exhaust', 2), ('functional', 2), ('seats', 2), ('flats', 2), ('drift', 2), ('headquarters', 2), ('downdrafts', 2), ('biplane', 2), ('freight', 2), ('actuating', 2), ('unintentionally', 2), ('encounter', 2), ('skidding', 2), ('brush', 2), ('scattered', 2), ('prospective', 2), ('buyer', 2), ('seized', 2), ('swing', 2), ('upslope', 2), ('phase', 2), ('barbed', 2), ('plough', 2), ('pulling', 2), ('sightseeing', 2), ('intense', 2), ('license', 2), ('propaganda', 2), ('leaflet', 2), ('rated', 2), ('purchased', 2), ('vulture', 2), ('forecast', 2), ('mishap', 2), ('spare', 2), ('trip', 2), ('aerodrome', 2), ('grove', 2), ('mortar', 2), ('mud', 2), ('inch', 2), ('turbulent', 2), ('resulting', 2), ('extinguished', 2), ('ranch', 2), ('repaired', 2), ('improperly', 2), ('extreme', 2), ('portion', 2), ('paddock', 2), ('flares', 2), ('skis', 2), ('expected', 2), ('decelerate', 2), ('premature', 2), ('bolts', 2), ('manufactured', 2), ('official', 2), ('paras', 2), ('dual', 2), ('boy', 2), ('correct', 2), ('assault', 2), ('taxying', 2), ('stuck', 2), ('defoliation', 2), ('overload', 2), ('shaft', 2), ('fitted', 2), ('rearward', 2), ('shifted', 2), ('rescue', 2), ('daylight', 2), ('mist', 2), ('car', 2), ('involving', 2), ('recycled', 2), ('rida', 2), ('belonging', 2), ('semi', 2), ('execute', 2), ('intersection', 2), ('occupied', 2), ('arriving', 2), ('refugee', 2), ('mtow', 2), ('animal', 2), ('poles', 2), ('press', 2), ('development', 2), ('journalists', 2), ('radial', 2), ('nacelle', 2), ('employee', 2), ('technician', 2), ('stood', 2), ('acquired', 2), ('rotating', 2), ('deteriorating', 2), ('spring', 2), ('dragged', 2), ('fitting', 2), ('pre', 2), ('slides', 2), ('malfunctioning', 2), ('boot', 2), ('mixed', 2), ('attacking', 2), ('ransom', 2), ('history', 2), ('psychiatric', 2), ('homemade', 2), ('pipe', 2), ('rotated', 2), ('unlighted', 2), ('marshy', 2), ('malfunctioned', 2), ('corn', 2), ('vibrations', 2), ('spoiler', 2), ('towed', 2), ('planning', 2), ('bus', 2), ('amount', 2), ('ma', 2), ('temperatures', 2), ('hostile', 2), ('fracture', 2), ('tailplane', 2), ('refugees', 2), ('receiving', 2), ('gathering', 2), ('navaids', 2), ('shoulder', 2), ('bushes', 2), ('poured', 2), ('handling', 2), ('escape', 2), ('tropical', 2), ('distribute', 2), ('rugged', 2), ('block', 2), ('ao', 2), ('rise', 2), ('percent', 2), ('accretion', 2), ('whiteout', 2), ('terminal', 2), ('uncommanded', 2), ('warehouse', 2), ('inoperative', 2), ('lighted', 2), ('goods', 2), ('filed', 2), ('marsh', 2), ('push', 2), ('partial', 2), ('limit', 2), ('rbara', 2), ('locka', 2), ('marshland', 2), ('crosswinds', 2), ('cane', 2), ('sugar', 2), ('irreparable', 2), ('practising', 2), ('shoreline', 2), ('cows', 2), ('bolt', 2), ('precautionary', 2), ('flameout', 2), ('crest', 2), ('icy', 2), ('releasing', 2), ('presidential', 2), ('parachutist', 2), ('communication', 2), ('fires', 2), ('internal', 2), ('seeking', 2), ('overflying', 2), ('shear', 2), ('caution', 2), ('debris', 2), ('weapons', 2), ('barrel', 2), ('aerobatics', 2), ('lot', 2), ('unusual', 2), ('hinge', 2), ('denied', 2), ('smell', 2), ('weapon', 2), ('notes', 2), ('disc', 2), ('displayed', 2), ('gauges', 2), ('seated', 2), ('voltage', 2), ('jumped', 2), ('demo', 2), ('dumping', 2), ('temple', 2), ('hail', 2), ('policeman', 2), ('vehicles', 2), ('friend', 2), ('ride', 2), ('selector', 2), ('formed', 2), ('drums', 2), ('chemical', 2), ('balance', 2), ('displaced', 2), ('facing', 2), ('standby', 2), ('intentional', 2), ('hired', 2), ('victims', 2), ('bang', 2), ('breaking', 2), ('mobile', 2), ('design', 2), ('slippery', 2), ('manual', 2), ('catering', 2), ('completing', 2), ('fake', 2), ('immigrant', 2), ('quantity', 2), ('overheated', 2), ('government', 2), ('ng', 2), ('filter', 2), ('crack', 2), ('earth', 2), ('claim', 2), ('tyres', 2), ('patient', 2), ('di', 2), ('rapid', 2), ('southern', 2), ('geese', 2), ('distracted', 2), ('attention', 2), ('navigator', 2), ('foreign', 2), ('backed', 2), ('cars', 2), ('ocean', 2), ('beta', 2), ('refuel', 2), ('deep', 2), ('drug', 2), ('pedestrian', 2), ('maintaining', 2), ('conducted', 2), ('dispatching', 2), ('piece', 2), ('responded', 2), ('shock', 2), ('access', 2), ('lease', 2), ('link', 2), ('social', 2), ('checks', 2), ('gold', 2), ('gross', 2), ('flood', 2), ('containers', 2), ('fluid', 2), ('person', 2), ('speedbrakes', 2), ('verify', 2), ('intercept', 2), ('reserve', 2), ('goose', 2), ('cells', 2), ('properly', 2), ('hostage', 2), ('cowl', 2), ('circled', 2), ('breaker', 2), ('gallons', 2), ('repositioned', 2), ('pesticide', 2), ('scooping', 2), ('metal', 2), ('stricken', 2), ('scene', 2), ('exited', 2), ('taxiways', 2), ('mining', 2), ('nchen', 2), ('platform', 2), ('tractor', 2), ('fatalities', 2), ('liters', 2), ('helipad', 2), ('speeds', 2), ('input', 2), ('bullet', 2), ('pins', 2), ('swell', 2), ('giant', 1), ('piston', 1), ('fisherman', 1), ('studs', 1), ('coach', 1), ('football', 1), ('ko', 1), ('owing', 1), ('swamps', 1), ('volcanos', 1), ('hostess', 1), ('gully', 1), ('bal', 1), ('tundra', 1), ('assembled', 1), ('mishandling', 1), ('regain', 1), ('chimney', 1), ('harbor', 1), ('ung', 1), ('von', 1), ('find', 1), ('dumped', 1), ('nern', 1), ('thirteen', 1), ('impressed', 1), ('blinded', 1), ('twisted', 1), ('briefed', 1), ('coded', 1), ('escorting', 1), ('tent', 1), ('ch', 1), ('trawler', 1), ('fifteen', 1), ('accompanying', 1), ('contract', 1), ('vertically', 1), ('consisting', 1), ('tin', 1), ('bars', 1), ('pound', 1), ('ul', 1), ('downstream', 1), ('observer', 1), ('entire', 1), ('encoutering', 1), ('mines', 1), ('racks', 1), ('pursuit', 1), ('partisan', 1), ('fatality', 1), ('sunken', 1), ('manoeuvering', 1), ('thought', 1), ('ey', 1), ('partisans', 1), ('radios', 1), ('namo', 1), ('densely', 1), ('hood', 1), ('dropzone', 1), ('badly', 1), ('sustaining', 1), ('entangled', 1), ('rose', 1), ('bow', 1), ('paratrooper', 1), ('steeple', 1), ('bundle', 1), ('sur', 1), ('bogged', 1), ('patty', 1), ('weakened', 1), ('mooring', 1), ('shell', 1), ('transported', 1), ('valuable', 1), ('silk', 1), ('perished', 1), ('put', 1), ('cigarette', 1), ('hiked', 1), ('weeks', 1), ('clandestine', 1), ('transmitting', 1), ('measuring', 1), ('folded', 1), ('nim', 1), ('cu', 1), ('engulfed', 1), ('flooding', 1), ('abandoning', 1), ('overcontrolled', 1), ('props', 1), ('beached', 1), ('stubblefield', 1), ('sections', 1), ('accessory', 1), ('ge', 1), ('thin', 1), ('worse', 1), ('hangars', 1), ('suggestion', 1), ('remains', 1), ('transatlantic', 1), ('aligned', 1), ('reduction', 1), ('blamed', 1), ('wilderness', 1), ('raise', 1), ('locomotive', 1), ('broadcast', 1), ('maps', 1), ('stubble', 1), ('buzzard', 1), ('engined', 1), ('lorry', 1), ('cumulus', 1), ('abrupt', 1), ('afraid', 1), ('heater', 1), ('uphill', 1), ('inclined', 1), ('nineteen', 1), ('freak', 1), ('baseball', 1), ('remedied', 1), ('riflemen', 1), ('clump', 1), ('nigstein', 1), ('cliffs', 1), ('employees', 1), ('stores', 1), ('expired', 1), ('detected', 1), ('exam', 1), ('lamp', 1), ('barrack', 1), ('tipped', 1), ('connected', 1), ('ferrying', 1), ('contamination', 1), ('beck', 1), ('overcorrected', 1), ('flurry', 1), ('clogged', 1), ('cent', 1), ('tornado', 1), ('delivered', 1), ('thicket', 1), ('upsloping', 1), ('mercy', 1), ('contacting', 1), ('log', 1), ('downsloping', 1), ('instructions', 1), ('cs', 1), ('transmitter', 1), ('cotton', 1), ('sandbar', 1), ('plunge', 1), ('consisted', 1), ('separate', 1), ('oat', 1), ('girl', 1), ('existed', 1), ('cutting', 1), ('twenty', 1), ('routing', 1), ('commandeered', 1), ('es', 1), ('boys', 1), ('lit', 1), ('seas', 1), ('added', 1), ('sorties', 1), ('taiga', 1), ('rope', 1), ('moments', 1), ('ailerons', 1), ('drained', 1), ('misfiring', 1), ('reporters', 1), ('slewed', 1), ('industrialist', 1), ('receiver', 1), ('provincial', 1), ('loop', 1), ('unfeather', 1), ('communist', 1), ('faulty', 1), ('attacks', 1), ('dummy', 1), ('revolvers', 1), ('fluctuated', 1), ('plummeted', 1), ('telephone', 1), ('movie', 1), ('shots', 1), ('experiments', 1), ('leakage', 1), ('good', 1), ('session', 1), ('blinding', 1), ('boom', 1), ('charted', 1), ('magneto', 1), ('caravan', 1), ('production', 1), ('lists', 1), ('narrow', 1), ('transporter', 1), ('culvert', 1), ('major', 1), ('spruce', 1), ('bugworms', 1), ('locust', 1), ('hut', 1), ('hadj', 1), ('pilgrims', 1), ('posts', 1), ('dark', 1), ('limits', 1), ('exercising', 1), ('singe', 1), ('determine', 1), ('succession', 1), ('additional', 1), ('cloudy', 1), ('evacuating', 1), ('slipped', 1), ('greatly', 1), ('project', 1), ('commercial', 1), ('clipped', 1), ('infantrymen', 1), ('cerro', 1), ('derivative', 1), ('rea', 1), ('suggest', 1), ('groundlooped', 1), ('birdstrikes', 1), ('hurricane', 1), ('assigned', 1), ('southeastern', 1), ('extensive', 1), ('leaned', 1), ('aerogeophysical', 1), ('crossfeeding', 1), ('rstenfeldbruck', 1), ('northeast', 1), ('spiralled', 1), ('revved', 1), ('floated', 1), ('simulation', 1), ('tidal', 1), ('horse', 1), ('bollard', 1), ('pier', 1), ('ineffective', 1), ('brigade', 1), ('annual', 1), ('blind', 1), ('screens', 1), ('checkpoints', 1), ('accelerated', 1), ('stalls', 1), ('successive', 1), ('retracting', 1), ('exact', 1), ('procedural', 1), ('seashore', 1), ('postion', 1), ('powerful', 1), ('slowed', 1), ('poorly', 1), ('checking', 1), ('allotted', 1), ('pane', 1), ('trimmer', 1), ('simultaneously', 1), ('disintegration', 1), ('checkout', 1), ('transitional', 1), ('worker', 1), ('situation', 1), ('sideways', 1), ('nuclear', 1), ('smokejumpers', 1), ('geological', 1), ('cape', 1), ('customer', 1), ('demonstrated', 1), ('searches', 1), ('revolt', 1), ('hulk', 1), ('icers', 1), ('setting', 1), ('dewline', 1), ('assumed', 1), ('visible', 1), ('gunpoint', 1), ('renewal', 1), ('opoldville', 1), ('polar', 1), ('dyke', 1), ('coverage', 1), ('thud', 1), ('place', 1), ('torches', 1), ('settings', 1), ('seawall', 1), ('buffeted', 1), ('busy', 1), ('runs', 1), ('searchlight', 1), ('wire', 1), ('deck', 1), ('conduct', 1), ('calibrating', 1), ('summer', 1), ('ignition', 1), ('evidence', 1), ('opponents', 1), ('mill', 1), ('herbicide', 1), ('permitted', 1), ('train', 1), ('eucalyptus', 1), ('cherries', 1), ('smashed', 1), ('providing', 1), ('school', 1), ('cloudbase', 1), ('harbour', 1), ('corrected', 1), ('casualties', 1), ('unfinished', 1), ('neutralist', 1), ('super', 1), ('yds', 1), ('apprpoach', 1), ('delle', 1), ('snare', 1), ('cage', 1), ('rez', 1), ('screws', 1), ('nosewheels', 1), ('smooth', 1), ('machineguns', 1), ('snowbank', 1), ('lumber', 1), ('piled', 1), ('converting', 1), ('purpose', 1), ('se', 1), ('dune', 1), ('tips', 1), ('coastal', 1), ('headwind', 1), ('drum', 1), ('magnesium', 1), ('launching', 1), ('midnight', 1), ('skiway', 1), ('thickly', 1), ('master', 1), ('modified', 1), ('midst', 1), ('component', 1), ('marines', 1), ('initially', 1), ('pellet', 1), ('multinational', 1), ('maneuvers', 1), ('defect', 1), ('abeam', 1), ('activation', 1), ('read', 1), ('inlet', 1), ('oscillating', 1), ('unstable', 1), ('mass', 1), ('focus', 1), ('boost', 1), ('pontoon', 1), ('gorge', 1), ('list', 1), ('symbolic', 1), ('camel', 1), ('brushy', 1), ('mesquite', 1), ('governor', 1), ('loudspeakers', 1), ('consent', 1), ('split', 1), ('week', 1), ('worsening', 1), ('afternoon', 1), ('administrative', 1), ('protecting', 1), ('outpost', 1), ('division', 1), ('select', 1), ('wouldn', 1), ('renew', 1), ('accumulation', 1), ('downed', 1), ('ridgeline', 1), ('overrotated', 1), ('bulldozer', 1), ('misreading', 1), ('hatching', 1), ('accidentally', 1), ('antisubmarine', 1), ('bladders', 1), ('fragments', 1), ('exploding', 1), ('delivering', 1), ('loads', 1), ('sowing', 1), ('pieces', 1), ('drill', 1), ('inaugurating', 1), ('critical', 1), ('flypast', 1), ('aquaplane', 1), ('escorted', 1), ('marshals', 1), ('hunters', 1), ('reindeer', 1), ('geodetic', 1), ('initiate', 1), ('robbers', 1), ('transfer', 1), ('switchblade', 1), ('prohibited', 1), ('scrubland', 1), ('darkened', 1), ('chief', 1), ('automatic', 1), ('pistols', 1), ('steak', 1), ('continuous', 1), ('revolver', 1), ('traversing', 1), ('dressed', 1), ('clothing', 1), ('razor', 1), ('federal', 1), ('threaten', 1), ('assist', 1), ('reversal', 1), ('young', 1), ('suburban', 1), ('sabotage', 1), ('laden', 1), ('accidently', 1), ('nefeld', 1), ('crater', 1), ('buildings', 1), ('antitank', 1), ('selection', 1), ('grabbed', 1), ('putting', 1), ('blue', 1), ('numerous', 1), ('negative', 1), ('fields', 1), ('idled', 1), ('undergoing', 1), ('female', 1), ('higher', 1), ('severely', 1), ('raising', 1), ('granite', 1), ('boulders', 1), ('belt', 1), ('nitroglycerin', 1), ('unaccounted', 1), ('met', 1), ('looked', 1), ('pumps', 1), ('satellite', 1), ('lo', 1), ('gar', 1), ('favorable', 1), ('predictions', 1), ('blow', 1), ('mineral', 1), ('venin', 1), ('glimmer', 1), ('mosquitoes', 1), ('malarial', 1), ('rospatiale', 1), ('unmarked', 1), ('pair', 1), ('pocket', 1), ('rupture', 1), ('gunfire', 1), ('cottages', 1), ('collective', 1), ('torrential', 1), ('canisters', 1), ('variant', 1), ('experiencing', 1), ('familiarization', 1), ('cleaning', 1), ('receive', 1), ('based', 1), ('cash', 1), ('ordnance', 1), ('selecting', 1), ('ready', 1), ('cartwheeled', 1), ('eventually', 1), ('consumption', 1), ('miscalculated', 1), ('ambassador', 1), ('pad', 1), ('hacienda', 1), ('destroy', 1), ('information', 1), ('zne', 1), ('droop', 1), ('burning', 1), ('holed', 1), ('record', 1), ('player', 1), ('cadets', 1), ('paratroop', 1), ('flagstone', 1), ('constable', 1), ('trucks', 1), ('kicker', 1), ('notice', 1), ('windsock', 1), ('totally', 1), ('thickness', 1), ('scientific', 1), ('powerline', 1), ('canards', 1), ('partly', 1), ('preoccupied', 1), ('preflight', 1), ('sheared', 1), ('serving', 1), ('ve', 1), ('defective', 1), ('monsoonal', 1), ('traveling', 1), ('stormed', 1), ('mistakenly', 1), ('carbon', 1), ('incapacitation', 1), ('monoxide', 1), ('unwanted', 1), ('stress', 1), ('cracking', 1), ('practiced', 1), ('deflected', 1), ('upward', 1), ('reducing', 1), ('buffaloes', 1), ('typhoon', 1), ('tress', 1), ('mins', 1), ('index', 1), ('snowfall', 1), ('services', 1), ('war', 1), ('restroom', 1), ('imminent', 1), ('inspected', 1), ('jamming', 1), ('slick', 1), ('unqualified', 1), ('unlocked', 1), ('inexperienced', 1), ('swerve', 1), ('orphans', 1), ('bluff', 1), ('suburbs', 1), ('beginning', 1), ('rainshowers', 1), ('coconut', 1), ('riverbank', 1), ('authority', 1), ('probable', 1), ('camera', 1), ('television', 1), ('intermittent', 1), ('ingested', 1), ('shuddered', 1), ('levelled', 1), ('migrant', 1), ('angles', 1), ('crops', 1), ('excessively', 1), ('banking', 1), ('ballooned', 1), ('crewmembers', 1), ('independence', 1), ('directed', 1), ('seagulls', 1), ('termite', 1), ('fishery', 1), ('ansk', 1), ('mgs', 1), ('follow', 1), ('loaders', 1), ('cereals', 1), ('situational', 1), ('awareness', 1), ('spotted', 1), ('deliberately', 1), ('regiment', 1), ('falling', 1), ('sky', 1), ('contraband', 1), ('flashlights', 1), ('powerloss', 1), ('mille', 1), ('oranges', 1), ('bananas', 1), ('southwest', 1), ('explosions', 1), ('noises', 1), ('illusion', 1), ('securing', 1), ('newly', 1), ('destroying', 1), ('horizon', 1), ('abnormal', 1), ('decreasing', 1), ('courtyard', 1), ('sump', 1), ('waterbombing', 1), ('gentle', 1), ('nap', 1), ('originating', 1), ('counter', 1), ('messages', 1), ('backfiring', 1), ('exports', 1), ('shifting', 1), ('hotel', 1), ('linkage', 1), ('drugs', 1), ('increase', 1), ('violently', 1), ('knoll', 1), ('guideline', 1), ('finger', 1), ('stones', 1), ('marking', 1), ('configured', 1), ('subdued', 1), ('scraped', 1), ('identity', 1), ('bordering', 1), ('adviser', 1), ('polis', 1), ('initiating', 1), ('vortex', 1), ('suggested', 1), ('theories', 1), ('litres', 1), ('limar', 1), ('cow', 1), ('rfj', 1), ('llum', 1), ('lowered', 1), ('foam', 1), ('militants', 1), ('clock', 1), ('cold', 1), ('pack', 1), ('slush', 1), ('tactical', 1), ('tima', 1), ('secret', 1), ('petroleum', 1), ('catastrophic', 1), ('magnetometer', 1), ('icecap', 1), ('commencing', 1), ('undetermined', 1), ('reasons', 1), ('improper', 1), ('dust', 1), ('spit', 1), ('continuing', 1), ('disorientated', 1), ('unreliable', 1), ('repeated', 1), ('passes', 1), ('jammed', 1), ('disorientation', 1), ('aerials', 1), ('advanced', 1), ('bales', 1), ('driving', 1), ('submachine', 1), ('cones', 1), ('mainwheel', 1), ('groove', 1), ('seal', 1), ('ships', 1), ('unload', 1), ('carbide', 1), ('materials', 1), ('opening', 1), ('heave', 1), ('aerosol', 1), ('blank', 1), ('candle', 1), ('weak', 1), ('flickered', 1), ('distress', 1), ('delay', 1), ('included', 1), ('snowplough', 1), ('slip', 1), ('munitions', 1), ('prison', 1), ('damper', 1), ('info', 1), ('salt', 1), ('covers', 1), ('resident', 1), ('aids', 1), ('granted', 1), ('execution', 1), ('overflow', 1), ('judgement', 1), ('negotiations', 1), ('photography', 1), ('automatically', 1), ('proceed', 1), ('rocket', 1), ('attacker', 1), ('auxiliary', 1), ('container', 1), ('geologists', 1), ('primary', 1), ('naval', 1), ('bump', 1), ('accelerating', 1), ('wildlife', 1), ('wallaby', 1), ('crevasse', 1), ('ultralight', 1), ('overfly', 1), ('mushed', 1), ('flat', 1), ('liftoff', 1), ('lone', 1), ('unbalanced', 1), ('dead', 1), ('unknowingly', 1), ('mistook', 1), ('defected', 1), ('accumulator', 1), ('wasteland', 1), ('eastern', 1), ('manoeuvred', 1), ('asleep', 1), ('points', 1), ('roads', 1), ('palm', 1), ('midpoint', 1), ('web', 1), ('stiffness', 1), ('nighttime', 1), ('sharply', 1), ('senior', 1), ('remain', 1), ('preparation', 1), ('hostel', 1), ('catching', 1), ('swam', 1), ('charge', 1), ('occupy', 1), ('bulletin', 1), ('form', 1), ('sawdust', 1), ('positioned', 1), ('maingear', 1), ('sun', 1), ('bush', 1), ('priority', 1), ('leadplane', 1), ('death', 1), ('buffet', 1), ('cone', 1), ('pretended', 1), ('frames', 1), ('reciprocal', 1), ('guerrilla', 1), ('ysund', 1), ('phone', 1), ('wear', 1), ('prevent', 1), ('mujahedin', 1), ('act', 1), ('tendency', 1), ('bull', 1), ('pylons', 1), ('promontory', 1), ('rock', 1), ('scrub', 1), ('situated', 1), ('prescribed', 1), ('loose', 1), ('joki', 1), ('shuddering', 1), ('backyard', 1), ('injection', 1), ('response', 1), ('dazzled', 1), ('wheeled', 1), ('cart', 1), ('nationals', 1), ('observation', 1), ('rainforest', 1), ('filming', 1), ('deported', 1), ('fight', 1), ('travelled', 1), ('tour', 1), ('ignited', 1), ('vapours', 1), ('professional', 1), ('step', 1), ('decreased', 1), ('relit', 1), ('ash', 1), ('volcanic', 1), ('accused', 1), ('strikes', 1), ('ml', 1), ('funicular', 1), ('parachuting', 1), ('authorized', 1), ('swath', 1), ('happened', 1), ('heart', 1), ('drunken', 1), ('inspector', 1), ('steeper', 1), ('pinal', 1), ('coupled', 1), ('needed', 1), ('ndia', 1), ('threw', 1), ('heap', 1), ('ferro', 1), ('cropspraying', 1), ('switched', 1), ('forestry', 1), ('varied', 1), ('landmine', 1), ('deice', 1), ('airmen', 1), ('false', 1), ('improve', 1), ('emitted', 1), ('upgrade', 1), ('northbound', 1), ('disengagement', 1), ('errors', 1), ('engagement', 1), ('sandstorm', 1), ('neared', 1), ('cracked', 1), ('midspar', 1), ('effect', 1), ('restraint', 1), ('sensor', 1), ('erroneously', 1), ('undergone', 1), ('mandatory', 1), ('circuits', 1), ('considered', 1), ('castellation', 1), ('headlights', 1), ('grader', 1), ('hospital', 1), ('crown', 1), ('autothrottle', 1), ('army', 1), ('testbed', 1), ('evaluate', 1), ('engineering', 1), ('farmland', 1), ('individual', 1), ('controlled', 1), ('misloaded', 1), ('lip', 1), ('rifle', 1), ('develop', 1), ('firmly', 1), ('sideslip', 1), ('avoiding', 1), ('move', 1), ('extending', 1), ('impaired', 1), ('galley', 1), ('demanding', 1), ('incurred', 1), ('wasn', 1), ('closet', 1), ('centimeters', 1), ('wharf', 1), ('typical', 1), ('requirements', 1), ('packed', 1), ('misted', 1), ('hooks', 1), ('rollers', 1), ('hammers', 1), ('spot', 1), ('pleasure', 1), ('wile', 1), ('suicide', 1), ('restored', 1), ('decommissioned', 1), ('unpaved', 1), ('gauge', 1), ('root', 1), ('interphone', 1), ('photographic', 1), ('inflight', 1), ('delayed', 1), ('returns', 1), ('newspapers', 1), ('dopp', 1), ('wiring', 1), ('special', 1), ('commuter', 1), ('negotiate', 1), ('lesund', 1), ('gals', 1), ('pallets', 1), ('voice', 1), ('briefly', 1), ('chase', 1), ('sinkrate', 1), ('stairs', 1), ('arresting', 1), ('servicing', 1), ('surge', 1), ('fairing', 1), ('flooring', 1), ('period', 1), ('bell', 1), ('dumb', 1), ('supervisor', 1), ('paymover', 1), ('aka', 1), ('oleo', 1), ('disregard', 1), ('plowed', 1), ('disappointed', 1), ('developments', 1), ('breakers', 1), ('organs', 1), ('backcourse', 1), ('knives', 1), ('couples', 1), ('roadway', 1), ('stone', 1), ('son', 1), ('teen', 1), ('runup', 1), ('fertilizer', 1), ('crates', 1), ('colic', 1), ('piloting', 1), ('renal', 1), ('black', 1), ('difference', 1), ('contrary', 1), ('monitor', 1), ('stopover', 1), ('upset', 1), ('governing', 1), ('dog', 1), ('external', 1), ('boarding', 1), ('bending', 1), ('sec', 1), ('case', 1), ('attach', 1), ('canopy', 1), ('triple', 1), ('dump', 1), ('business', 1), ('standard', 1), ('halt', 1), ('airstrips', 1), ('rut', 1), ('occured', 1), ('gateway', 1), ('arc', 1), ('ry', 1), ('unrest', 1), ('children', 1), ('stringers', 1), ('pedals', 1), ('tonnes', 1), ('unprepared', 1), ('tailwheel', 1), ('erosion', 1), ('shield', 1), ('hits', 1), ('body', 1), ('plunged', 1), ('minibus', 1), ('obtain', 1), ('game', 1), ('determined', 1), ('crashing', 1), ('dome', 1), ('proceeded', 1), ('duties', 1), ('niner', 1), ('moist', 1), ('ordered', 1), ('briefing', 1), ('vane', 1), ('installation', 1), ('bottles', 1), ('luggage', 1), ('conversation', 1), ('request', 1), ('engineers', 1), ('lugs', 1), ('speak', 1), ('general', 1), ('walkway', 1), ('observe', 1), ('sounded', 1), ('deplaned', 1), ('stating', 1), ('intention', 1), ('qualified', 1), ('hair', 1), ('jar', 1), ('gel', 1), ('shed', 1), ('profile', 1), ('fled', 1), ('powered', 1), ('stole', 1), ('duster', 1), ('lined', 1), ('barrels', 1), ('empty', 1), ('escorts', 1), ('automobile', 1), ('economic', 1), ('families', 1), ('store', 1), ('spill', 1), ('contractor', 1), ('cod', 1), ('var', 1), ('midfield', 1), ('fallen', 1), ('clean', 1), ('rnberg', 1), ('paint', 1), ('cultivated', 1), ('modification', 1), ('tsfjord', 1), ('tearing', 1), ('hilly', 1), ('favourable', 1), ('switching', 1), ('deformations', 1), ('stable', 1), ('attained', 1), ('rdla', 1), ('magna', 1), ('perimeter', 1), ('shoes', 1), ('requesting', 1), ('turkey', 1), ('snapped', 1), ('impala', 1), ('length', 1), ('mosque', 1), ('recorder', 1), ('basic', 1), ('exfiltration', 1), ('frequencies', 1), ('onions', 1), ('stored', 1), ('finally', 1), ('veering', 1), ('jetway', 1), ('sheeting', 1), ('deviate', 1), ('guards', 1), ('dispute', 1), ('ill', 1), ('network', 1), ('threatening', 1), ('giving', 1), ('calle', 1), ('fork', 1), ('fpm', 1), ('seize', 1), ('squashed', 1), ('lateral', 1), ('flow', 1), ('deliver', 1), ('unfavourable', 1), ('probes', 1), ('oilfields', 1), ('actuators', 1), ('paramedics', 1), ('manufacturer', 1), ('damages', 1), ('runner', 1), ('windows', 1), ('examiner', 1), ('asphalt', 1), ('review', 1), ('underside', 1), ('inclement', 1), ('slammed', 1), ('shimmying', 1), ('torsion', 1), ('clamp', 1), ('stowed', 1), ('airman', 1), ('alarm', 1), ('proceeding', 1), ('shearing', 1), ('accidents', 1), ('reservoir', 1), ('crossfeed', 1), ('forcibly', 1), ('thousand', 1), ('guests', 1), ('documents', 1), ('piloted', 1), ('live', 1), ('hatch', 1), ('works', 1), ('tsunami', 1), ('ah', 1), ('mode', 1), ('recurrency', 1), ('blocked', 1), ('drought', 1), ('factor', 1), ('flooded', 1), ('oktas', 1), ('eradication', 1), ('mosquito', 1), ('flame', 1), ('outfitter', 1), ('neighbouring', 1), ('incline', 1), ('chair', 1), ('troop', 1), ('collapsing', 1), ('extinguish', 1), ('snowplow', 1), ('nearby', 1), ('bishop', 1), ('agreement', 1), ('extinguishing', 1), ('sectors', 1), ('retreat', 1), ('canal', 1), ('officials', 1), ('administration', 1), ('regency', 1), ('residents', 1), ('hanging', 1), ('package', 1), ('unidentified', 1), ('lean', 1), ('usual', 1), ('flash', 1), ('resting', 1), ('tilting', 1), ('wanting', 1), ('translating', 1), ('announced', 1), ('minerals', 1), ('upside', 1), ('function', 1), ('quadrant', 1), ('regional', 1), ('qat', 1), ('cassiterite', 1), ('bizjet', 1), ('cocaine', 1), ('plastic', 1), ('numbers', 1), ('workers', 1), ('evacuate', 1), ('mother', 1), ('tasks', 1), ('paved', 1), ('representative', 1), ('marshaller', 1), ('monitoring', 1), ('bec', 1), ('er', 1), ('echo', 1), ('cornfield', 1), ('aluminum', 1), ('prospecting', 1), ('soil', 1), ('defensive', 1), ('entrance', 1), ('witness', 1), ('starting', 1), ('agent', 1), ('recalled', 1), ('turbo', 1), ('shaker', 1), ('decelerated', 1), ('sufficiently', 1), ('relight', 1), ('pak', 1), ('sir', 1), ('locals', 1), ('alarms', 1), ('nautical', 1), ('preacher', 1), ('helicopters', 1), ('locking', 1), ('warthogs', 1), ('plain', 1), ('careered', 1), ('depression', 1), ('fishing', 1), ('lodge', 1), ('candidate', 1), ('aal', 1), ('housed', 1), ('canine', 1), ('winter', 1), ('prof', 1), ('suspected', 1), ('performance', 1), ('computer', 1), ('slav', 1), ('party', 1), ('supporting', 1), ('injury', 1), ('al', 1), ('hammer', 1), ('altimeters', 1), ('snowy', 1), ('specialist', 1), ('carburettor', 1), ('orbit', 1), ('instability', 1), ('threats', 1), ('racetrack', 1), ('kilometres', 1), ('disused', 1), ('instruments', 1), ('permissible', 1), ('drilling', 1), ('tools', 1), ('sidestick', 1), ('tabs', 1), ('technicians', 1), ('attendants', 1), ('refrigeration', 1), ('buoy', 1), ('bullets', 1), ('alerts', 1), ('halfway', 1), ('axis', 1), ('snowplows', 1), ('viaduct', 1), ('absorber', 1), ('decrease', 1), ('cigarettes', 1), ('winch', 1), ('battery', 1), ('taro', 1), ('pedal', 1), ('kangaroo', 1), ('overspeed', 1), ('cken', 1), ('yoke', 1), ('shows', 1), ('rail', 1), ('event', 1), ('retract', 1), ('carburetor', 1), ('fractured', 1), ('duct', 1), ('eagle', 1), ('aeromagnetic', 1), ('jumpmaster', 1), ('psychoactive', 1), ('effects', 1), ('foreshore', 1), ('headset', 1), ('towbar', 1), ('failing', 1), ('varicam', 1), ('parts', 1), ('intensity', 1), ('airshow', 1), ('alleyway', 1), ('rk', 1), ('pods', 1), ('depressurization', 1), ('pallet', 1), ('cap', 1), ('groundcrew', 1), ('separatists', 1), ('ro', 1), ('aid', 1), ('tiller', 1), ('friction', 1), ('insurance', 1), ('units', 1), ('register', 1), ('hiding', 1), ('confirmed', 1), ('corridor', 1), ('sunflowers', 1), ('swimming', 1), ('resort', 1), ('pool', 1), ('fasteners', 1), ('propelled', 1), ('trailer', 1)]"
      ],
      "text/plain": [
       "[('aircraft', 3701),\n",
       " ('flight', 3065),\n",
       " ('runway', 2807),\n",
       " ('landing', 1609),\n",
       " ('airplane', 1411),\n",
       " ('crew', 1384),\n",
       " ('pilot', 1136),\n",
       " ('takeoff', 1132),\n",
       " ('engine', 1112),\n",
       " ('approach', 1044),\n",
       " ('feet', 937),\n",
       " ('plane', 911),\n",
       " ('left', 872),\n",
       " ('crashed', 793),\n",
       " ('gear', 554),\n",
       " ('fire', 539),\n",
       " ('captain', 390),\n",
       " ('wing', 289),\n",
       " ('ground', 288),\n",
       " ('accident', 282),\n",
       " ('struck', 279),\n",
       " ('passengers', 268),\n",
       " ('operated', 260),\n",
       " ('departed', 252),\n",
       " ('nose', 251),\n",
       " ('weather', 246),\n",
       " ('mountain', 238),\n",
       " ('landed', 234),\n",
       " ('altitude', 228),\n",
       " ('reported', 226),\n",
       " ('failure', 224),\n",
       " ('power', 219),\n",
       " ('failed', 217),\n",
       " ('fuel', 215),\n",
       " ('control', 210),\n",
       " ('lost', 209),\n",
       " ('cargo', 201),\n",
       " ('route', 192),\n",
       " ('main', 190),\n",
       " ('forced', 186),\n",
       " ('time', 174),\n",
       " ('passenger', 171),\n",
       " ('damage', 166),\n",
       " ('side', 165),\n",
       " ('sea', 163),\n",
       " ('airport', 155),\n",
       " ('hijacker', 155),\n",
       " ('speed', 145),\n",
       " ('due', 144),\n",
       " ('short', 143),\n",
       " ('training', 138),\n",
       " ('conditions', 137),\n",
       " ('shortly', 137),\n",
       " ('flying', 136),\n",
       " ('engines', 136),\n",
       " ('transport', 135),\n",
       " ('sustained', 135),\n",
       " ('area', 131),\n",
       " ('impacted', 131),\n",
       " ('mission', 131),\n",
       " ('caught', 130),\n",
       " ('trees', 129),\n",
       " ('land', 127),\n",
       " ('emergency', 126),\n",
       " ('damaged', 126),\n",
       " ('water', 125),\n",
       " ('night', 124),\n",
       " ('knots', 123),\n",
       " ('high', 122),\n",
       " ('ft', 121),\n",
       " ('hijackers', 119),\n",
       " ('suffered', 118),\n",
       " ('turn', 117),\n",
       " ('poor', 117),\n",
       " ('hours', 117),\n",
       " ('repair', 116),\n",
       " ('hand', 113),\n",
       " ('terrain', 112),\n",
       " ('en', 110),\n",
       " ('minutes', 110),\n",
       " ('descent', 109),\n",
       " ('controller', 108),\n",
       " ('cleared', 104),\n",
       " ('officer', 104),\n",
       " ('de', 103),\n",
       " ('overran', 103),\n",
       " ('km', 102),\n",
       " ('destroyed', 99),\n",
       " ('snow', 98),\n",
       " ('hit', 97),\n",
       " ('hijacked', 96),\n",
       " ('undercarriage', 94),\n",
       " ('visibility', 92),\n",
       " ('collapsed', 92),\n",
       " ('demanded', 91),\n",
       " ('flew', 90),\n",
       " ('height', 90),\n",
       " ('collided', 88),\n",
       " ('causing', 88),\n",
       " ('carried', 85),\n",
       " ('touched', 85),\n",
       " ('substantial', 85),\n",
       " ('members', 83),\n",
       " ('propeller', 83),\n",
       " ('field', 82),\n",
       " ('approximately', 82),\n",
       " ('ran', 81),\n",
       " ('named', 80),\n",
       " ('pilots', 80),\n",
       " ('jet', 79),\n",
       " ('bad', 75),\n",
       " ('air', 74),\n",
       " ('taxiway', 73),\n",
       " ('fog', 72),\n",
       " ('crash', 72),\n",
       " ('wind', 72),\n",
       " ('metres', 72),\n",
       " ('heavy', 71),\n",
       " ('hill', 71),\n",
       " ('miles', 70),\n",
       " ('problems', 70),\n",
       " ('degrees', 70),\n",
       " ('airstrip', 69),\n",
       " ('departure', 68),\n",
       " ('test', 67),\n",
       " ('caused', 66),\n",
       " ('board', 65),\n",
       " ('broke', 64),\n",
       " ('threshold', 62),\n",
       " ('rain', 61),\n",
       " ('spraying', 60),\n",
       " ('final', 59),\n",
       " ('return', 58),\n",
       " ('drop', 58),\n",
       " ('loss', 57),\n",
       " ('icing', 57),\n",
       " ('wreckage', 56),\n",
       " ('climb', 56),\n",
       " ('approaching', 56),\n",
       " ('position', 56),\n",
       " ('missing', 55),\n",
       " ('touchdown', 55),\n",
       " ('pressure', 55),\n",
       " ('boat', 54),\n",
       " ('attempted', 54),\n",
       " ('fuselage', 54),\n",
       " ('roll', 53),\n",
       " ('shot', 52),\n",
       " ('entered', 52),\n",
       " ('flaps', 52),\n",
       " ('hard', 51),\n",
       " ('thrust', 51),\n",
       " ('carrying', 50),\n",
       " ('system', 50),\n",
       " ('ice', 49),\n",
       " ('bank', 49),\n",
       " ('crop', 49),\n",
       " ('hydraulic', 49),\n",
       " ('stalled', 48),\n",
       " ('visual', 48),\n",
       " ('clouds', 47),\n",
       " ('excursion', 47),\n",
       " ('meters', 47),\n",
       " ('copilot', 47),\n",
       " ('seconds', 47),\n",
       " ('killed', 46),\n",
       " ('burned', 46),\n",
       " ('level', 46),\n",
       " ('reportedly', 46),\n",
       " ('continued', 46),\n",
       " ('wheel', 45),\n",
       " ('commander', 45),\n",
       " ('tail', 44),\n",
       " ('contact', 44),\n",
       " ('cloud', 44),\n",
       " ('instrument', 44),\n",
       " ('cabin', 44),\n",
       " ('occupants', 43),\n",
       " ('attempting', 43),\n",
       " ('descended', 43),\n",
       " ('leg', 43),\n",
       " ('supply', 42),\n",
       " ('ditched', 41),\n",
       " ('ditch', 41),\n",
       " ('military', 41),\n",
       " ('aborted', 41),\n",
       " ('prop', 41),\n",
       " ('feathered', 40),\n",
       " ('operating', 39),\n",
       " ('wooded', 39),\n",
       " ('north', 39),\n",
       " ('dropping', 39),\n",
       " ('mountainous', 39),\n",
       " ('hijacking', 39),\n",
       " ('warning', 39),\n",
       " ('service', 38),\n",
       " ('cockpit', 38),\n",
       " ('slope', 38),\n",
       " ('man', 38),\n",
       " ('returning', 37),\n",
       " ('oil', 37),\n",
       " ('nosegear', 37),\n",
       " ('injured', 36),\n",
       " ('flames', 35),\n",
       " ('immediately', 35),\n",
       " ('impact', 35),\n",
       " ('began', 35),\n",
       " ('attitude', 35),\n",
       " ('burst', 34),\n",
       " ('covered', 34),\n",
       " ('started', 34),\n",
       " ('building', 34),\n",
       " ('steep', 34),\n",
       " ('pitch', 34),\n",
       " ('part', 33),\n",
       " ('maintenance', 33),\n",
       " ('local', 33),\n",
       " ('wet', 33),\n",
       " ('equipped', 32),\n",
       " ('long', 32),\n",
       " ('day', 32),\n",
       " ('stated', 32),\n",
       " ('kt', 32),\n",
       " ('attempt', 31),\n",
       " ('radio', 31),\n",
       " ('died', 31),\n",
       " ('surface', 31),\n",
       " ('collapse', 31),\n",
       " ('rest', 31),\n",
       " ('clearance', 31),\n",
       " ('weight', 31),\n",
       " ('door', 31),\n",
       " ('normal', 31),\n",
       " ('light', 30),\n",
       " ('ferry', 30),\n",
       " ('hillside', 30),\n",
       " ('taxiing', 30),\n",
       " ('destination', 30),\n",
       " ('smoke', 30),\n",
       " ('decided', 30),\n",
       " ('stop', 30),\n",
       " ('armed', 30),\n",
       " ('command', 30),\n",
       " ('radar', 30),\n",
       " ('turbulence', 29),\n",
       " ('routine', 29),\n",
       " ('located', 29),\n",
       " ('glider', 29),\n",
       " ('finals', 29),\n",
       " ('descending', 29),\n",
       " ('undershot', 29),\n",
       " ('taxi', 29),\n",
       " ('touch', 29),\n",
       " ('aft', 29),\n",
       " ('sank', 28),\n",
       " ('tower', 28),\n",
       " ('injuries', 28),\n",
       " ('bounced', 28),\n",
       " ('base', 28),\n",
       " ('port', 28),\n",
       " ('ridge', 28),\n",
       " ('lights', 28),\n",
       " ('brake', 28),\n",
       " ('belly', 28),\n",
       " ('retracted', 28),\n",
       " ('heading', 28),\n",
       " ('collision', 27),\n",
       " ('starboard', 27),\n",
       " ('contacted', 27),\n",
       " ('registered', 27),\n",
       " ('mountainside', 27),\n",
       " ('forest', 27),\n",
       " ('formation', 27),\n",
       " ('airspeed', 27),\n",
       " ('angle', 27),\n",
       " ('missile', 27),\n",
       " ('kts', 27),\n",
       " ('severe', 26),\n",
       " ('elevation', 26),\n",
       " ('tree', 26),\n",
       " ('flap', 26),\n",
       " ('small', 25),\n",
       " ('west', 25),\n",
       " ('fly', 25),\n",
       " ('flown', 25),\n",
       " ('approached', 25),\n",
       " ('brakes', 25),\n",
       " ('stall', 25),\n",
       " ('number', 25),\n",
       " ('force', 24),\n",
       " ('separated', 24),\n",
       " ('engaged', 24),\n",
       " ('diverted', 24),\n",
       " ('encountered', 24),\n",
       " ('instructor', 24),\n",
       " ('veered', 24),\n",
       " ('male', 24),\n",
       " ('tank', 23),\n",
       " ('patrol', 23),\n",
       " ('lake', 23),\n",
       " ('exhaustion', 23),\n",
       " ('climbing', 23),\n",
       " ('returned', 23),\n",
       " ('run', 23),\n",
       " ('elevator', 23),\n",
       " ('registration', 23),\n",
       " ('looped', 23),\n",
       " ('house', 22),\n",
       " ('mountains', 22),\n",
       " ('flak', 22),\n",
       " ('paratroopers', 22),\n",
       " ('anti', 22),\n",
       " ('strip', 22),\n",
       " ('men', 22),\n",
       " ('trim', 22),\n",
       " ('shut', 22),\n",
       " ('fast', 22),\n",
       " ('domestic', 22),\n",
       " ('bird', 22),\n",
       " ('check', 22),\n",
       " ('simulated', 22),\n",
       " ('tug', 22),\n",
       " ('airfield', 21),\n",
       " ('storm', 21),\n",
       " ('south', 21),\n",
       " ('planes', 21),\n",
       " ('river', 21),\n",
       " ('full', 21),\n",
       " ('result', 21),\n",
       " ('range', 21),\n",
       " ('kg', 21),\n",
       " ('lift', 21),\n",
       " ('electrical', 21),\n",
       " ('autopilot', 21),\n",
       " ('overshot', 20),\n",
       " ('carry', 20),\n",
       " ('performing', 20),\n",
       " ('exercise', 20),\n",
       " ('float', 20),\n",
       " ('company', 20),\n",
       " ('missed', 20),\n",
       " ('rudder', 19),\n",
       " ('killing', 19),\n",
       " ('line', 19),\n",
       " ('bailed', 19),\n",
       " ('invasion', 19),\n",
       " ('glide', 19),\n",
       " ('search', 19),\n",
       " ('explosion', 19),\n",
       " ('performed', 19),\n",
       " ('rate', 19),\n",
       " ('reports', 19),\n",
       " ('climbout', 19),\n",
       " ('didn', 19),\n",
       " ('msl', 19),\n",
       " ('corporate', 19),\n",
       " ('pushback', 19),\n",
       " ('stabilizer', 18),\n",
       " ('scheduled', 18),\n",
       " ('valley', 18),\n",
       " ('mile', 18),\n",
       " ('divert', 18),\n",
       " ('jungle', 18),\n",
       " ('top', 18),\n",
       " ('winds', 18),\n",
       " ('point', 18),\n",
       " ('rear', 18),\n",
       " ('cruising', 18),\n",
       " ('climbed', 18),\n",
       " ('foot', 18),\n",
       " ('positioning', 18),\n",
       " ('road', 18),\n",
       " ('fighting', 18),\n",
       " ('strong', 17),\n",
       " ('embankment', 17),\n",
       " ('thunderstorm', 17),\n",
       " ('load', 17),\n",
       " ('airborne', 17),\n",
       " ('fell', 17),\n",
       " ('applied', 17),\n",
       " ('wheels', 17),\n",
       " ('reverse', 17),\n",
       " ('advised', 17),\n",
       " ('bomb', 17),\n",
       " ('rolled', 17),\n",
       " ('descend', 17),\n",
       " ('extended', 17),\n",
       " ('mail', 16),\n",
       " ('lines', 16),\n",
       " ('engineer', 16),\n",
       " ('reconnaissance', 16),\n",
       " ('survived', 16),\n",
       " ('operations', 16),\n",
       " ('dropped', 16),\n",
       " ('received', 16),\n",
       " ('shrouded', 16),\n",
       " ('front', 16),\n",
       " ('released', 16),\n",
       " ('making', 16),\n",
       " ('seat', 16),\n",
       " ('survey', 16),\n",
       " ('fence', 16),\n",
       " ('attendant', 16),\n",
       " ('braking', 16),\n",
       " ('farm', 16),\n",
       " ('birds', 16),\n",
       " ('grenade', 16),\n",
       " ('called', 15),\n",
       " ('wings', 15),\n",
       " ('aboard', 15),\n",
       " ('dive', 15),\n",
       " ('prior', 15),\n",
       " ('swung', 15),\n",
       " ('inverted', 15),\n",
       " ('swerved', 15),\n",
       " ('tire', 15),\n",
       " ('suddenly', 15),\n",
       " ('flights', 15),\n",
       " ('refueling', 15),\n",
       " ('directional', 15),\n",
       " ('edge', 15),\n",
       " ('gate', 15),\n",
       " ('prototype', 14),\n",
       " ('delivery', 14),\n",
       " ('report', 14),\n",
       " ('pass', 14),\n",
       " ('gust', 14),\n",
       " ('navigation', 14),\n",
       " ('peak', 14),\n",
       " ('circuit', 14),\n",
       " ('procedure', 14),\n",
       " ('heavily', 14),\n",
       " ('aerial', 14),\n",
       " ('knife', 14),\n",
       " ('revealed', 14),\n",
       " ('instructed', 14),\n",
       " ('ramp', 14),\n",
       " ('fighter', 13),\n",
       " ('island', 13),\n",
       " ('wingtip', 13),\n",
       " ('submarine', 13),\n",
       " ('spin', 13),\n",
       " ('supplies', 13),\n",
       " ('trouble', 13),\n",
       " ('tow', 13),\n",
       " ('arrived', 13),\n",
       " ('gun', 13),\n",
       " ('wall', 13),\n",
       " ('tanks', 13),\n",
       " ('strike', 13),\n",
       " ('waters', 13),\n",
       " ('minima', 13),\n",
       " ('hijack', 13),\n",
       " ('blade', 13),\n",
       " ('skidded', 13),\n",
       " ('requested', 13),\n",
       " ('explosives', 13),\n",
       " ('parked', 13),\n",
       " ('selected', 13),\n",
       " ('lever', 13),\n",
       " ('downwind', 13),\n",
       " ('trainee', 13),\n",
       " ('asked', 13),\n",
       " ('truck', 13),\n",
       " ('localizer', 13),\n",
       " ('authorities', 13),\n",
       " ('turned', 12),\n",
       " ('turning', 12),\n",
       " ('operator', 12),\n",
       " ('maintain', 12),\n",
       " ('controls', 12),\n",
       " ('involved', 12),\n",
       " ('locked', 12),\n",
       " ('ten', 12),\n",
       " ('quit', 12),\n",
       " ('crossing', 12),\n",
       " ('initial', 12),\n",
       " ('del', 12),\n",
       " ('stopped', 12),\n",
       " ('abandoned', 12),\n",
       " ('pistol', 12),\n",
       " ('horizontal', 12),\n",
       " ('chartered', 12),\n",
       " ('frozen', 12),\n",
       " ('leased', 12),\n",
       " ('lock', 12),\n",
       " ('tanker', 12),\n",
       " ('vertical', 12),\n",
       " ('reverser', 12),\n",
       " ('dense', 11),\n",
       " ('coast', 11),\n",
       " ('landings', 11),\n",
       " ('adverse', 11),\n",
       " ('flamed', 11),\n",
       " ('resupply', 11),\n",
       " ('occurred', 11),\n",
       " ('loaded', 11),\n",
       " ('overshoot', 11),\n",
       " ('crosswind', 11),\n",
       " ('helicopter', 11),\n",
       " ('beacon', 11),\n",
       " ('nosewheel', 11),\n",
       " ('claimed', 11),\n",
       " ('experienced', 11),\n",
       " ('ended', 11),\n",
       " ('uncontained', 11),\n",
       " ('fired', 11),\n",
       " ('deviated', 11),\n",
       " ('nm', 11),\n",
       " ('demonstration', 10),\n",
       " ('structural', 10),\n",
       " ('striking', 10),\n",
       " ('cylinder', 10),\n",
       " ('exploded', 10),\n",
       " ('problem', 10),\n",
       " ('member', 10),\n",
       " ('unknown', 10),\n",
       " ('target', 10),\n",
       " ('practicing', 10),\n",
       " ('hour', 10),\n",
       " ('personnel', 10),\n",
       " ('medical', 10),\n",
       " ('attack', 10),\n",
       " ('beach', 10),\n",
       " ('parachute', 10),\n",
       " ('operation', 10),\n",
       " ('pole', 10),\n",
       " ('arrive', 10),\n",
       " ('holding', 10),\n",
       " ('section', 10),\n",
       " ('forces', 10),\n",
       " ('post', 10),\n",
       " ('nosed', 10),\n",
       " ('losing', 10),\n",
       " ('gusty', 10),\n",
       " ('unauthorised', 10),\n",
       " ('tailwind', 10),\n",
       " ('observed', 10),\n",
       " ('passing', 10),\n",
       " ('noted', 10),\n",
       " ('double', 10),\n",
       " ('crossed', 10),\n",
       " ('lavatory', 10),\n",
       " ('rainy', 10),\n",
       " ('pattern', 10),\n",
       " ('couldn', 10),\n",
       " ('sovkhoz', 10),\n",
       " ('turbine', 10),\n",
       " ('hrs', 10),\n",
       " ('vehicle', 10),\n",
       " ('surrendered', 10),\n",
       " ('spoilers', 10),\n",
       " ('cruise', 10),\n",
       " ('agl', 10),\n",
       " ('mid', 9),\n",
       " ('east', 9),\n",
       " ('rainstorm', 9),\n",
       " ('persons', 9),\n",
       " ('student', 9),\n",
       " ('single', 9),\n",
       " ('border', 9),\n",
       " ('circumstances', 9),\n",
       " ('food', 9),\n",
       " ('throttle', 9),\n",
       " ('gain', 9),\n",
       " ('departing', 9),\n",
       " ('practice', 9),\n",
       " ('assembly', 9),\n",
       " ('unable', 9),\n",
       " ('ceiling', 9),\n",
       " ('ferried', 9),\n",
       " ('release', 9),\n",
       " ('transporting', 9),\n",
       " ('residential', 9),\n",
       " ('arms', 9),\n",
       " ('woman', 9),\n",
       " ('distance', 9),\n",
       " ('traffic', 9),\n",
       " ('shallow', 9),\n",
       " ('appeared', 9),\n",
       " ('extension', 9),\n",
       " ('rod', 9),\n",
       " ('shore', 9),\n",
       " ('steering', 9),\n",
       " ('thick', 9),\n",
       " ('police', 9),\n",
       " ('altimeter', 9),\n",
       " ('plan', 9),\n",
       " ('lb', 9),\n",
       " ('hole', 9),\n",
       " ('propellers', 9),\n",
       " ('taxied', 9),\n",
       " ('degree', 9),\n",
       " ('centreline', 9),\n",
       " ('initiated', 9),\n",
       " ('inspection', 9),\n",
       " ('deg', 9),\n",
       " ('track', 9),\n",
       " ('parking', 9),\n",
       " ('aeroplane', 8),\n",
       " ('snowstorm', 8),\n",
       " ('bound', 8),\n",
       " ('outboard', 8),\n",
       " ('encountering', 8),\n",
       " ('approaches', 8),\n",
       " ('mechanic', 8),\n",
       " ('circling', 8),\n",
       " ('rough', 8),\n",
       " ('zone', 8),\n",
       " ('prematurely', 8),\n",
       " ('soldiers', 8),\n",
       " ('torn', 8),\n",
       " ('rice', 8),\n",
       " ('action', 8),\n",
       " ('support', 8),\n",
       " ('houses', 8),\n",
       " ('reached', 8),\n",
       " ('wrong', 8),\n",
       " ('direct', 8),\n",
       " ('hold', 8),\n",
       " ('aquaplaned', 8),\n",
       " ('rpm', 8),\n",
       " ('erupted', 8),\n",
       " ('lagoon', 8),\n",
       " ('airlift', 8),\n",
       " ('dirt', 8),\n",
       " ('political', 8),\n",
       " ('highway', 8),\n",
       " ('coming', 8),\n",
       " ('banked', 8),\n",
       " ('windshear', 8),\n",
       " ('tons', 8),\n",
       " ('uncontrolled', 8),\n",
       " ('minimum', 8),\n",
       " ('behalf', 8),\n",
       " ('apron', 8),\n",
       " ('state', 8),\n",
       " ('generator', 8),\n",
       " ('pitched', 8),\n",
       " ('activated', 8),\n",
       " ('note', 8),\n",
       " ('explosive', 8),\n",
       " ('marijuana', 8),\n",
       " ('maximum', 8),\n",
       " ('skydivers', 8),\n",
       " ('substantially', 8),\n",
       " ('thunderstorms', 7),\n",
       " ('technical', 7),\n",
       " ('built', 7),\n",
       " ('pylon', 7),\n",
       " ('hangar', 7),\n",
       " ('layer', 7),\n",
       " ('disappeared', 7),\n",
       " ('ship', 7),\n",
       " ('error', 7),\n",
       " ('yards', 7),\n",
       " ('site', 7),\n",
       " ('region', 7),\n",
       " ('fully', 7),\n",
       " ('path', 7),\n",
       " ('lifting', 7),\n",
       " ('call', 7),\n",
       " ('glacier', 7),\n",
       " ('towing', 7),\n",
       " ('au', 7),\n",
       " ('prisoner', 7),\n",
       " ('opened', 7),\n",
       " ('overcast', 7),\n",
       " ('believed', 7),\n",
       " ('evacuation', 7),\n",
       " ('apparently', 7),\n",
       " ('leading', 7),\n",
       " ('cut', 7),\n",
       " ('station', 7),\n",
       " ('developed', 7),\n",
       " ('passed', 7),\n",
       " ('concrete', 7),\n",
       " ('volcano', 7),\n",
       " ('pump', 7),\n",
       " ('days', 7),\n",
       " ('guns', 7),\n",
       " ('leak', 7),\n",
       " ('swamp', 7),\n",
       " ('overloaded', 7),\n",
       " ('lifted', 7),\n",
       " ('troops', 7),\n",
       " ('center', 7),\n",
       " ('dry', 7),\n",
       " ('locks', 7),\n",
       " ('sand', 7),\n",
       " ('retraction', 7),\n",
       " ('increased', 7),\n",
       " ('veer', 7),\n",
       " ('ravine', 7),\n",
       " ('planned', 7),\n",
       " ('foggy', 7),\n",
       " ('moderate', 7),\n",
       " ('vibration', 7),\n",
       " ('temperature', 7),\n",
       " ('frequency', 7),\n",
       " ('reduced', 7),\n",
       " ('construction', 7),\n",
       " ('amphibian', 7),\n",
       " ('reporting', 7),\n",
       " ('closed', 7),\n",
       " ('reaching', 7),\n",
       " ('tyre', 7),\n",
       " ('rollout', 7),\n",
       " ('conversion', 7),\n",
       " ('forcing', 7),\n",
       " ('district', 7),\n",
       " ('inadvertently', 7),\n",
       " ('rotate', 7),\n",
       " ('relief', 7),\n",
       " ('forgot', 7),\n",
       " ('rotation', 7),\n",
       " ('security', 7),\n",
       " ('centerline', 7),\n",
       " ('investigation', 7),\n",
       " ('airframe', 7),\n",
       " ('fan', 7),\n",
       " ('work', 7),\n",
       " ('open', 7),\n",
       " ('deer', 7),\n",
       " ('parachutists', 7),\n",
       " ('turboprop', 7),\n",
       " ('avoid', 6),\n",
       " ('aileron', 6),\n",
       " ('starvation', 6),\n",
       " ('floatplane', 6),\n",
       " ('mechanical', 6),\n",
       " ('people', 6),\n",
       " ('arrival', 6),\n",
       " ('railway', 6),\n",
       " ('large', 6),\n",
       " ('executed', 6),\n",
       " ('enemy', 6),\n",
       " ('airplanes', 6),\n",
       " ('cross', 6),\n",
       " ('desert', 6),\n",
       " ('entering', 6),\n",
       " ('meat', 6),\n",
       " ('mechanics', 6),\n",
       " ('raised', 6),\n",
       " ('chute', 6),\n",
       " ('la', 6),\n",
       " ('change', 6),\n",
       " ('heard', 6),\n",
       " ('throttles', 6),\n",
       " ('marker', 6),\n",
       " ('resulted', 6),\n",
       " ('cable', 6),\n",
       " ('drew', 6),\n",
       " ('times', 6),\n",
       " ('extend', 6),\n",
       " ('pick', 6),\n",
       " ('dos', 6),\n",
       " ('wires', 6),\n",
       " ('bag', 6),\n",
       " ('leaving', 6),\n",
       " ('bay', 6),\n",
       " ('lead', 6),\n",
       " ('offshore', 6),\n",
       " ('pushed', 6),\n",
       " ('excessive', 6),\n",
       " ('changed', 6),\n",
       " ('backfired', 6),\n",
       " ('lightning', 6),\n",
       " ('rebels', 6),\n",
       " ('asylum', 6),\n",
       " ('village', 6),\n",
       " ('approx', 6),\n",
       " ('radioed', 6),\n",
       " ('stormy', 6),\n",
       " ('possibly', 6),\n",
       " ('unstabilized', 6),\n",
       " ('flare', 6),\n",
       " ('inboard', 6),\n",
       " ('aborting', 6),\n",
       " ('recovery', 6),\n",
       " ('sink', 6),\n",
       " ('grass', 6),\n",
       " ('set', 6),\n",
       " ('told', 6),\n",
       " ('allowed', 6),\n",
       " ('ski', 6),\n",
       " ('separation', 6),\n",
       " ('deployed', 6),\n",
       " ('flightcrew', 6),\n",
       " ('years', 6),\n",
       " ('clear', 6),\n",
       " ('showed', 6),\n",
       " ('device', 6),\n",
       " ('rising', 6),\n",
       " ('strut', 6),\n",
       " ('driver', 6),\n",
       " ('airliner', 5),\n",
       " ('pounds', 5),\n",
       " ('enroute', 5),\n",
       " ('burnt', 5),\n",
       " ('rocky', 5),\n",
       " ('sources', 5),\n",
       " ('dove', 5),\n",
       " ('object', 5),\n",
       " ('submerged', 5),\n",
       " ('blew', 5),\n",
       " ('late', 5),\n",
       " ('hitting', 5),\n",
       " ('blown', 5),\n",
       " ('da', 5),\n",
       " ('pond', 5),\n",
       " ('series', 5),\n",
       " ('ammunition', 5),\n",
       " ('leader', 5),\n",
       " ('squadron', 5),\n",
       " ('element', 5),\n",
       " ('mph', 5),\n",
       " ('sign', 5),\n",
       " ('forested', 5),\n",
       " ('operational', 5),\n",
       " ('violent', 5),\n",
       " ('vessel', 5),\n",
       " ('intended', 5),\n",
       " ('locate', 5),\n",
       " ('fighters', 5),\n",
       " ('oxygen', 5),\n",
       " ('stolen', 5),\n",
       " ('searching', 5),\n",
       " ('suffering', 5),\n",
       " ('runaway', 5),\n",
       " ('factory', 5),\n",
       " ('sold', 5),\n",
       " ('amsl', 5),\n",
       " ('evacuated', 5),\n",
       " ('strayed', 5),\n",
       " ('oversped', 5),\n",
       " ('overturned', 5),\n",
       " ('centre', 5),\n",
       " ('boundary', 5),\n",
       " ('wife', 5),\n",
       " ('converted', 5),\n",
       " ('year', 5),\n",
       " ('deteriorated', 5),\n",
       " ('freighter', 5),\n",
       " ('impacting', 5),\n",
       " ('hills', 5),\n",
       " ('permission', 5),\n",
       " ('private', 5),\n",
       " ('group', 5),\n",
       " ('deceleration', 5),\n",
       " ('charter', 5),\n",
       " ('lose', 5),\n",
       " ('aircrew', 5),\n",
       " ('students', 5),\n",
       " ('feather', 5),\n",
       " ('intoxicated', 5),\n",
       " ('presumed', 5),\n",
       " ('condition', 5),\n",
       " ('onboard', 5),\n",
       " ('commenced', 5),\n",
       " ('elected', 5),\n",
       " ('stewardess', 5),\n",
       " ('fatigue', 5),\n",
       " ('checklist', 5),\n",
       " ('rejected', 5),\n",
       " ('money', 5),\n",
       " ('corrosion', 5),\n",
       " ('difficulties', 5),\n",
       " ('gravel', 5),\n",
       " ('owner', 5),\n",
       " ('prisoners', 5),\n",
       " ('complete', 5),\n",
       " ('flock', 5),\n",
       " ('steered', 5),\n",
       " ('berm', 5),\n",
       " ('cowling', 5),\n",
       " ('tourists', 5),\n",
       " ('slid', 5),\n",
       " ('soft', 5),\n",
       " ('serial', 5),\n",
       " ('reversers', 5),\n",
       " ('retardant', 5),\n",
       " ('windshield', 5),\n",
       " ('pin', 5),\n",
       " ('liquid', 5),\n",
       " ('maritime', 5),\n",
       " ('attempts', 5),\n",
       " ('asl', 5),\n",
       " ('skid', 5),\n",
       " ('idle', 5),\n",
       " ('levers', 5),\n",
       " ('actuator', 5),\n",
       " ('depart', 5),\n",
       " ('handle', 5),\n",
       " ('trailing', 5),\n",
       " ('consumed', 4),\n",
       " ('country', 4),\n",
       " ('president', 4),\n",
       " ('unit', 4),\n",
       " ('bomber', 4),\n",
       " ('injuring', 4),\n",
       " ('aged', 4),\n",
       " ('early', 4),\n",
       " ('treetops', 4),\n",
       " ('ditching', 4),\n",
       " ('patch', 4),\n",
       " ('installed', 4),\n",
       " ('occupant', 4),\n",
       " ('hull', 4),\n",
       " ('cliff', 4),\n",
       " ('carrier', 4),\n",
       " ('dived', 4),\n",
       " ('direction', 4),\n",
       " ('survivors', 4),\n",
       " ('navigational', 4),\n",
       " ('sector', 4),\n",
       " ('formations', 4),\n",
       " ('jump', 4),\n",
       " ('allied', 4),\n",
       " ('location', 4),\n",
       " ('extremely', 4),\n",
       " ('rocks', 4),\n",
       " ('compass', 4),\n",
       " ('wounded', 4),\n",
       " ('floats', 4),\n",
       " ('free', 4),\n",
       " ('midair', 4),\n",
       " ('sortie', 4),\n",
       " ('message', 4),\n",
       " ('break', 4),\n",
       " ('tops', 4),\n",
       " ('civil', 4),\n",
       " ('face', 4),\n",
       " ('antenna', 4),\n",
       " ('inbound', 4),\n",
       " ('prepared', 4),\n",
       " ('airway', 4),\n",
       " ('haze', 4),\n",
       " ('safe', 4),\n",
       " ('running', 4),\n",
       " ('established', 4),\n",
       " ('waiting', 4),\n",
       " ('morning', 4),\n",
       " ('safely', 4),\n",
       " ('manoeuvre', 4),\n",
       " ('rescued', 4),\n",
       " ('drain', 4),\n",
       " ('team', 4),\n",
       " ('canyon', 4),\n",
       " ('head', 4),\n",
       " ('straight', 4),\n",
       " ('petrol', 4),\n",
       " ('msn', 4),\n",
       " ('auto', 4),\n",
       " ('intermediate', 4),\n",
       " ('powerlines', 4),\n",
       " ('swampy', 4),\n",
       " ('colliding', 4),\n",
       " ('stops', 4),\n",
       " ('safety', 4),\n",
       " ('escaped', 4),\n",
       " ('fix', 4),\n",
       " ('cables', 4),\n",
       " ('repairs', 4),\n",
       " ('pulled', 4),\n",
       " ('active', 4),\n",
       " ('outer', 4),\n",
       " ('managed', 4),\n",
       " ('removed', 4),\n",
       " ('completed', 4),\n",
       " ('muddy', 4),\n",
       " ('malfunction', 4),\n",
       " ('slide', 4),\n",
       " ('restart', 4),\n",
       " ('manoeuvres', 4),\n",
       " ('material', 4),\n",
       " ('maintained', 4),\n",
       " ('slightly', 4),\n",
       " ('green', 4),\n",
       " ('international', 4),\n",
       " ('ambulance', 4),\n",
       " ('steeply', 4),\n",
       " ('barrier', 4),\n",
       " ('woods', 4),\n",
       " ('tip', 4),\n",
       " ('rainfall', 4),\n",
       " ('movement', 4),\n",
       " ('logistics', 4),\n",
       " ('unsafe', 4),\n",
       " ('windscreen', 4),\n",
       " ('cuta', 4),\n",
       " ('doors', 4),\n",
       " ('electricity', 4),\n",
       " ('felt', 4),\n",
       " ('asymmetrical', 4),\n",
       " ('squall', 4),\n",
       " ('rdoba', 4),\n",
       " ('jets', 4),\n",
       " ('overrunning', 4),\n",
       " ('configuration', 4),\n",
       " ...]"
      ]
     },
     "execution_count": 227,
     "metadata": {},
     "output_type": "execute_result"
    }
   ],
   "source": [
    "import operator\n",
    "sorted_x = sorted(k.items(),key = operator.itemgetter(1),reverse = True)\n",
    "sorted_x"
   ]
  },
  {
   "cell_type": "code",
   "execution_count": 220,
   "metadata": {},
   "outputs": [],
   "source": [
    "#sorted_x"
   ]
  },
  {
   "cell_type": "code",
   "execution_count": 228,
   "metadata": {},
   "outputs": [
    {
     "name": "stdout",
     "output_type": "stream",
     "text": [
      "[0.08699567, 0.059456617, 0.032274697, 0.030867463, 0.02891132, 0.026001437, 0.025946256, 0.025053818, 0.021039072, 0.017748943, 0.017394185]\n"
     ]
    }
   ],
   "source": [
    "l = []\n",
    "for i,z in enumerate(bat.feature_importances_):\n",
    "    l.append((i,z))\n",
    "sorted_l = sorted(l,key = operator.itemgetter(1),reverse = True)\n",
    "sorted_l = sorted_l[:11]\n",
    "xlbl =  [str(i[0]) for i in sorted_l]\n",
    "sorted_l = [i[1] for i in sorted_l]\n",
    "print(sorted_l) "
   ]
  },
  {
   "cell_type": "code",
   "execution_count": 247,
   "metadata": {},
   "outputs": [
    {
     "name": "stdout",
     "output_type": "stream",
     "text": [
      "[0.08699567, 0.059456617, 0.032274697, 0.030867463, 0.02891132, 0.026001437, 0.025946256, 0.021039072, 0.017748943, 0.017394185]\n"
     ]
    },
    {
     "data": {
      "image/png": "[encoded data removed]",
      "text/plain": [
       "<Figure size 432x288 with 1 Axes>"
      ]
     },
     "metadata": {
      "needs_background": "light"
     },
     "output_type": "display_data"
    }
   ],
   "source": [
    "plt.xticks(rotation = 90)\n",
    "#sorted_l.remove(sorted_l[7])\n",
    "plt.title('Important factors that affects death rates')\n",
    "plt.bar(parad_label,sorted_l)\n",
    "print(sorted_l)"
   ]
  },
  {
   "cell_type": "code",
   "execution_count": 231,
   "metadata": {},
   "outputs": [
    {
     "data": {
      "text/html": [
       "[1485, 2370, 1292, 1484, 1293, 1179, 1740, 1291, 899, 621, 709]"
      ],
      "text/plain": [
       "[1485, 2370, 1292, 1484, 1293, 1179, 1740, 1291, 899, 621, 709]"
      ]
     },
     "execution_count": 231,
     "metadata": {},
     "output_type": "execute_result"
    }
   ],
   "source": [
    "k = set()\n",
    "for i in df['key_words_new']:\n",
    "    k.add(i)\n",
    "k = list(k)\n",
    "x"
   ]
  },
  {
   "cell_type": "code",
   "execution_count": 207,
   "metadata": {},
   "outputs": [
    {
     "data": {
      "text/html": [
       "[1485, 2370, 1292, 1484, 1293, 1179, 1740, 1291, 899, 621, 709]"
      ],
      "text/plain": [
       "[1485, 2370, 1292, 1484, 1293, 1179, 1740, 1291, 899, 621, 709]"
      ]
     },
     "execution_count": 207,
     "metadata": {},
     "output_type": "execute_result"
    }
   ],
   "source": []
  },
  {
   "cell_type": "code",
   "execution_count": 243,
   "metadata": {},
   "outputs": [
    {
     "data": {
      "text/plain": [
       "10"
      ]
     },
     "execution_count": 243,
     "metadata": {},
     "output_type": "execute_result"
    }
   ],
   "source": [
    "parad_label = ['Dynamite','Circuit Malfunction','Short Runway','Hit Mountain','Broken Fuelsage','Poor Altitude','Engine Failure','Hijacking','Engine Flame'\n",
    "            ,'Radio Failure']\n",
    "parad_label.remove('Gold')\n",
    "len(parad_label)"
   ]
  },
  {
   "cell_type": "code",
   "execution_count": 177,
   "metadata": {},
   "outputs": [],
   "source": [
    "pickle.dump(bat, open(\"pima.pickle.dat\", \"wb\"))\n",
    "loaded_model = pickle.load(open(\"pima.pickle.dat\", \"rb\"))"
   ]
  },
  {
   "cell_type": "code",
   "execution_count": 181,
   "metadata": {},
   "outputs": [
    {
     "data": {
      "text/plain": [
       "0.14156097098889578"
      ]
     },
     "execution_count": 181,
     "metadata": {},
     "output_type": "execute_result"
    }
   ],
   "source": [
    "plg.bar"
   ]
  },
  {
   "cell_type": "code",
   "execution_count": 234,
   "metadata": {},
   "outputs": [
    {
     "name": "stdout",
     "output_type": "stream",
     "text": [
      "[(1485, 0.08699567, 'hijacker grenade flight return plane'), (2370, 0.059456617, 'circuit struck hill landing practice msl'), (1292, 0.032274697, 'feet short gear runway main'), (1484, 0.030867463, 'route forest en seat mountain passengers fire'), (1293, 0.02891132, 'skin fuselage left side'), (1179, 0.026001437, 'poor feet ceiling'), (1740, 0.025946256, 'engine landed failure injuries'), (1291, 0.025053818, 'gold'), (899, 0.021039072, 'hijacker hair jar flight gel brandished'), (621, 0.017748943, 'caused gear left fire engine main'), (709, 0.017394185, 'flight radio contact crew')]\n"
     ]
    }
   ],
   "source": [
    "l = list()\n",
    "for i,z in enumerate(loaded_model.feature_importances_):\n",
    "    if i in x:\n",
    "        #print(i,z,k[i])\n",
    "        l.append((i,z,k[i]))\n",
    "l = sorted(l,key = lambda x:x[1],reverse = True)\n",
    "print(l)"
   ]
  },
  {
   "cell_type": "code",
   "execution_count": null,
   "metadata": {},
   "outputs": [],
   "source": []
  },
  {
   "cell_type": "code",
   "execution_count": 235,
   "metadata": {},
   "outputs": [],
   "source": [
    "#tf_result"
   ]
  },
  {
   "cell_type": "code",
   "execution_count": 186,
   "metadata": {},
   "outputs": [],
   "source": [
    "pickle.dump(all_feature, open(\"all_feature.dat\", \"wb\"))"
   ]
  },
  {
   "cell_type": "code",
   "execution_count": 190,
   "metadata": {},
   "outputs": [
    {
     "data": {
      "text/plain": [
       "0.1433881657332438"
      ]
     },
     "execution_count": 190,
     "metadata": {},
     "output_type": "execute_result"
    }
   ],
   "source": [
    "#Overall\n",
    "mean_squared_error(loaded_model.predict(all_feature), df[y_columns])"
   ]
  },
  {
   "cell_type": "code",
   "execution_count": 191,
   "metadata": {},
   "outputs": [
    {
     "data": {
      "text/plain": [
       "0.14765083546149083"
      ]
     },
     "execution_count": 191,
     "metadata": {},
     "output_type": "execute_result"
    }
   ],
   "source": [
    "#Test\n",
    "mean_squared_error(bat.predict(x_test),y_test)"
   ]
  },
  {
   "cell_type": "code",
   "execution_count": 192,
   "metadata": {},
   "outputs": [
    {
     "data": {
      "text/plain": [
       "0.14156097098889578"
      ]
     },
     "execution_count": 192,
     "metadata": {},
     "output_type": "execute_result"
    }
   ],
   "source": [
    "#Train\n",
    "mean_squared_error(bat.predict(x_train),y_train)"
   ]
  },
  {
   "cell_type": "code",
   "execution_count": 251,
   "metadata": {},
   "outputs": [
    {
     "data": {
      "text/plain": [
       "<BarContainer object of 10 artists>"
      ]
     },
     "execution_count": 251,
     "metadata": {},
     "output_type": "execute_result"
    },
    {
     "data": {
      "image/png": "[encoded data removed]",
      "text/plain": [
       "<Figure size 432x288 with 1 Axes>"
      ]
     },
     "metadata": {
      "needs_background": "light"
     },
     "output_type": "display_data"
    }
   ],
   "source": [
    "weights = [0.08699567, 0.059456617, 0.032274697, 0.030867463, 0.02891132, 0.026001437, 0.025946256, 0.021039072, 0.017748943, 0.017394185]\n",
    "parad_label = ['Dynamite','Circuit Malfunction','Short Runway','Hit Mountain','Broken Fuelsage','Altitude Insufficient','Engine Failure','Hijacking','Engine Flame'\n",
    "            ,'Radio Failure']\n",
    "plt.xticks(rotation = 90)\n",
    "plt.bar(parad_label,weights)"
   ]
  },
  {
   "cell_type": "code",
   "execution_count": 268,
   "metadata": {},
   "outputs": [
    {
     "data": {
      "image/png": "[encoded data removed]",
      "text/plain": [
       "<Figure size 1152x648 with 1 Axes>"
      ]
     },
     "metadata": {
      "needs_background": "light"
     },
     "output_type": "display_data"
    }
   ],
   "source": [
    "plt.figure(figsize = (16,9))\n",
    "plt.scatter([i for i in range(len(y_test))],bat.predict(x_test),color = 'red',label = 'Predictions')\n",
    "plt.scatter([i for i in range(len(y_test))],y_test,label = 'Actual')\n",
    "plt.xlabel('Counts',fontsize= 13)\n",
    "plt.ylabel('Predicted Proportion',fontsize = 13)\n",
    "plt.xticks(fontsize = 11)\n",
    "plt.yticks(fontsize = 11)\n",
    "plt.legend(fontsize = 19)\n",
    "plt.title('XGB Predicted Values',fontsize = 16)\n",
    "plt.savefig('experiment4.jpg')"
   ]
  },
  {
   "cell_type": "code",
   "execution_count": null,
   "metadata": {},
   "outputs": [],
   "source": []
  }
 ],
 "metadata": {
  "kernelspec": {
   "display_name": "Python 3",
   "language": "python",
   "name": "python3"
  },
  "language_info": {
   "codemirror_mode": {
    "name": "ipython",
    "version": 3
   },
   "file_extension": ".py",
   "mimetype": "text/x-python",
   "name": "python",
   "nbconvert_exporter": "python",
   "pygments_lexer": "ipython3",
   "version": "3.6.10"
  },
  "pycharm": {
   "stem_cell": {
    "cell_type": "raw",
    "metadata": {
     "collapsed": false
    },
    "source": []
   }
  }
 },
 "nbformat": 4,
 "nbformat_minor": 2
}
