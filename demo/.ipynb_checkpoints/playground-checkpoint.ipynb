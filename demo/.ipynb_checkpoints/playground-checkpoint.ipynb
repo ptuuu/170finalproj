{
 "cells": [
  {
   "cell_type": "code",
   "execution_count": 1,
   "metadata": {
    "pycharm": {
     "is_executing": false
    }
   },
   "outputs": [],
   "source": [
    "import pandas as pd\n",
    "import numpy as np\n",
    "import matplotlib.pyplot as plt\n",
    "from collections import defaultdict"
   ]
  },
  {
   "cell_type": "code",
   "execution_count": 2,
   "metadata": {
    "pycharm": {
     "is_executing": false
    }
   },
   "outputs": [],
   "source": [
    "df = pd.read_csv('./raw_data/datawithcor.csv')"
   ]
  },
  {
   "cell_type": "code",
   "execution_count": 3,
   "metadata": {
    "pycharm": {
     "is_executing": false
    }
   },
   "outputs": [],
   "source": [
    "df = df.dropna(subset=['Fatality_Rate'])"
   ]
  },
  {
   "cell_type": "code",
   "execution_count": 4,
   "metadata": {
    "pycharm": {
     "is_executing": false
    }
   },
   "outputs": [
    {
     "data": {
      "text/html": [
       "<div>\n",
       "<style scoped>\n",
       "    .dataframe tbody tr th:only-of-type {\n",
       "        vertical-align: middle;\n",
       "    }\n",
       "\n",
       "    .dataframe tbody tr th {\n",
       "        vertical-align: top;\n",
       "    }\n",
       "\n",
       "    .dataframe thead th {\n",
       "        text-align: right;\n",
       "    }\n",
       "</style>\n",
       "<table border=\"1\" class=\"dataframe\">\n",
       "  <thead>\n",
       "    <tr style=\"text-align: right;\">\n",
       "      <th></th>\n",
       "      <th>Unnamed: 0</th>\n",
       "      <th>year</th>\n",
       "      <th>id</th>\n",
       "      <th>Date</th>\n",
       "      <th>Type</th>\n",
       "      <th>Operator</th>\n",
       "      <th>Registration</th>\n",
       "      <th>Crew</th>\n",
       "      <th>Passengers</th>\n",
       "      <th>Total</th>\n",
       "      <th>...</th>\n",
       "      <th>Total_Fatality</th>\n",
       "      <th>Total_Occupants</th>\n",
       "      <th>Fatality_Rate</th>\n",
       "      <th>Make</th>\n",
       "      <th>Index</th>\n",
       "      <th>Location.1</th>\n",
       "      <th>Add</th>\n",
       "      <th>Coor</th>\n",
       "      <th>Lat</th>\n",
       "      <th>Long</th>\n",
       "    </tr>\n",
       "  </thead>\n",
       "  <tbody>\n",
       "    <tr>\n",
       "      <th>0</th>\n",
       "      <td>0</td>\n",
       "      <td>1919</td>\n",
       "      <td>1-02-AUG-1919</td>\n",
       "      <td>Saturday 2 August 1919</td>\n",
       "      <td>Caproni</td>\n",
       "      <td>Caproni</td>\n",
       "      <td>registration unknown</td>\n",
       "      <td>Fatalities: 2 / Occupants: 2</td>\n",
       "      <td>Fatalities: 12 / Occupants: 12</td>\n",
       "      <td>Fatalities: 14 / Occupants: 14</td>\n",
       "      <td>...</td>\n",
       "      <td>14</td>\n",
       "      <td>14</td>\n",
       "      <td>1.0</td>\n",
       "      <td>ca.48</td>\n",
       "      <td>1</td>\n",
       "      <td>Verona (Italy)</td>\n",
       "      <td>Verona, Veneto, Italia</td>\n",
       "      <td>45 26m 18.5849s N, 10 59m 32.6839s E</td>\n",
       "      <td>45.438496</td>\n",
       "      <td>10.992412</td>\n",
       "    </tr>\n",
       "  </tbody>\n",
       "</table>\n",
       "<p>1 rows × 32 columns</p>\n",
       "</div>"
      ],
      "text/plain": [
       "   Unnamed: 0  year             id                    Date     Type Operator  \\\n",
       "0           0  1919  1-02-AUG-1919  Saturday 2 August 1919  Caproni  Caproni   \n",
       "\n",
       "           Registration                          Crew  \\\n",
       "0  registration unknown  Fatalities: 2 / Occupants: 2   \n",
       "\n",
       "                       Passengers                           Total  ...  \\\n",
       "0  Fatalities: 12 / Occupants: 12  Fatalities: 14 / Occupants: 14  ...   \n",
       "\n",
       "  Total_Fatality  Total_Occupants  Fatality_Rate   Make Index      Location.1  \\\n",
       "0             14               14            1.0  ca.48     1  Verona (Italy)   \n",
       "\n",
       "                      Add                                  Coor        Lat  \\\n",
       "0  Verona, Veneto, Italia  45 26m 18.5849s N, 10 59m 32.6839s E  45.438496   \n",
       "\n",
       "        Long  \n",
       "0  10.992412  \n",
       "\n",
       "[1 rows x 32 columns]"
      ]
     },
     "execution_count": 4,
     "metadata": {},
     "output_type": "execute_result"
    }
   ],
   "source": [
    "df.head(1)"
   ]
  },
  {
   "cell_type": "code",
   "execution_count": 5,
   "metadata": {
    "pycharm": {
     "is_executing": false
    }
   },
   "outputs": [
    {
     "data": {
      "text/html": [
       "<div>\n",
       "<style scoped>\n",
       "    .dataframe tbody tr th:only-of-type {\n",
       "        vertical-align: middle;\n",
       "    }\n",
       "\n",
       "    .dataframe tbody tr th {\n",
       "        vertical-align: top;\n",
       "    }\n",
       "\n",
       "    .dataframe thead th {\n",
       "        text-align: right;\n",
       "    }\n",
       "</style>\n",
       "<table border=\"1\" class=\"dataframe\">\n",
       "  <thead>\n",
       "    <tr style=\"text-align: right;\">\n",
       "      <th></th>\n",
       "      <th>Type</th>\n",
       "      <th>Unnamed: 0</th>\n",
       "      <th>Unnamed: 11</th>\n",
       "      <th>Unnamed: 12</th>\n",
       "      <th>Total_Fatality</th>\n",
       "      <th>Total_Occupants</th>\n",
       "      <th>Index</th>\n",
       "      <th>Lat</th>\n",
       "      <th>Long</th>\n",
       "      <th>Fatality_Rate</th>\n",
       "    </tr>\n",
       "  </thead>\n",
       "  <tbody>\n",
       "    <tr>\n",
       "      <th>0</th>\n",
       "      <td>Aero</td>\n",
       "      <td>164239</td>\n",
       "      <td>0.0</td>\n",
       "      <td>0.0</td>\n",
       "      <td>23</td>\n",
       "      <td>65</td>\n",
       "      <td>96647</td>\n",
       "      <td>-3.668262</td>\n",
       "      <td>80.081579</td>\n",
       "      <td>0.353846</td>\n",
       "    </tr>\n",
       "    <tr>\n",
       "      <th>1</th>\n",
       "      <td>Aeromarine</td>\n",
       "      <td>16</td>\n",
       "      <td>0.0</td>\n",
       "      <td>0.0</td>\n",
       "      <td>4</td>\n",
       "      <td>9</td>\n",
       "      <td>10</td>\n",
       "      <td>0.000000</td>\n",
       "      <td>0.000000</td>\n",
       "      <td>0.444444</td>\n",
       "    </tr>\n",
       "    <tr>\n",
       "      <th>2</th>\n",
       "      <td>Airbus</td>\n",
       "      <td>4427942</td>\n",
       "      <td>0.0</td>\n",
       "      <td>0.0</td>\n",
       "      <td>3993</td>\n",
       "      <td>34972</td>\n",
       "      <td>2665075</td>\n",
       "      <td>3034.836987</td>\n",
       "      <td>3183.907070</td>\n",
       "      <td>0.114177</td>\n",
       "    </tr>\n",
       "    <tr>\n",
       "      <th>3</th>\n",
       "      <td>Airspeed</td>\n",
       "      <td>75684</td>\n",
       "      <td>0.0</td>\n",
       "      <td>0.0</td>\n",
       "      <td>29</td>\n",
       "      <td>262</td>\n",
       "      <td>35246</td>\n",
       "      <td>260.885018</td>\n",
       "      <td>-1.354895</td>\n",
       "      <td>0.110687</td>\n",
       "    </tr>\n",
       "    <tr>\n",
       "      <th>4</th>\n",
       "      <td>Alenia</td>\n",
       "      <td>139416</td>\n",
       "      <td>0.0</td>\n",
       "      <td>0.0</td>\n",
       "      <td>20</td>\n",
       "      <td>81</td>\n",
       "      <td>80059</td>\n",
       "      <td>172.000915</td>\n",
       "      <td>47.101637</td>\n",
       "      <td>0.246914</td>\n",
       "    </tr>\n",
       "  </tbody>\n",
       "</table>\n",
       "</div>"
      ],
      "text/plain": [
       "         Type  Unnamed: 0  Unnamed: 11  Unnamed: 12  Total_Fatality  \\\n",
       "0        Aero      164239          0.0          0.0              23   \n",
       "1  Aeromarine          16          0.0          0.0               4   \n",
       "2      Airbus     4427942          0.0          0.0            3993   \n",
       "3    Airspeed       75684          0.0          0.0              29   \n",
       "4      Alenia      139416          0.0          0.0              20   \n",
       "\n",
       "   Total_Occupants    Index          Lat         Long  Fatality_Rate  \n",
       "0               65    96647    -3.668262    80.081579       0.353846  \n",
       "1                9       10     0.000000     0.000000       0.444444  \n",
       "2            34972  2665075  3034.836987  3183.907070       0.114177  \n",
       "3              262    35246   260.885018    -1.354895       0.110687  \n",
       "4               81    80059   172.000915    47.101637       0.246914  "
      ]
     },
     "execution_count": 5,
     "metadata": {},
     "output_type": "execute_result"
    }
   ],
   "source": [
    "by_type = df.groupby(['Type']).sum().drop(columns=['year', 'Fatality_Rate']).reset_index()\n",
    "by_type['Fatality_Rate'] = by_type['Total_Fatality'] / by_type['Total_Occupants']\n",
    "by_type.head()"
   ]
  },
  {
   "cell_type": "code",
   "execution_count": 6,
   "metadata": {
    "pycharm": {
     "is_executing": false
    }
   },
   "outputs": [
    {
     "data": {
      "text/html": [
       "<div>\n",
       "<style scoped>\n",
       "    .dataframe tbody tr th:only-of-type {\n",
       "        vertical-align: middle;\n",
       "    }\n",
       "\n",
       "    .dataframe tbody tr th {\n",
       "        vertical-align: top;\n",
       "    }\n",
       "\n",
       "    .dataframe thead th {\n",
       "        text-align: right;\n",
       "    }\n",
       "</style>\n",
       "<table border=\"1\" class=\"dataframe\">\n",
       "  <thead>\n",
       "    <tr style=\"text-align: right;\">\n",
       "      <th></th>\n",
       "      <th>Type</th>\n",
       "      <th>Unnamed: 0</th>\n",
       "      <th>Unnamed: 11</th>\n",
       "      <th>Unnamed: 12</th>\n",
       "      <th>Total_Fatality</th>\n",
       "      <th>Total_Occupants</th>\n",
       "      <th>Index</th>\n",
       "      <th>Lat</th>\n",
       "      <th>Long</th>\n",
       "      <th>Fatality_Rate</th>\n",
       "    </tr>\n",
       "  </thead>\n",
       "  <tbody>\n",
       "    <tr>\n",
       "      <th>55</th>\n",
       "      <td>Fairchild</td>\n",
       "      <td>2312185</td>\n",
       "      <td>0.0</td>\n",
       "      <td>0.0</td>\n",
       "      <td>1987</td>\n",
       "      <td>3325</td>\n",
       "      <td>1115447</td>\n",
       "      <td>1464.448111</td>\n",
       "      <td>-436.662327</td>\n",
       "      <td>0.597594</td>\n",
       "    </tr>\n",
       "    <tr>\n",
       "      <th>76</th>\n",
       "      <td>Ilyushin</td>\n",
       "      <td>3239568</td>\n",
       "      <td>0.0</td>\n",
       "      <td>0.0</td>\n",
       "      <td>6084</td>\n",
       "      <td>10783</td>\n",
       "      <td>1688562</td>\n",
       "      <td>2341.529497</td>\n",
       "      <td>2783.806819</td>\n",
       "      <td>0.564221</td>\n",
       "    </tr>\n",
       "    <tr>\n",
       "      <th>51</th>\n",
       "      <td>Douglas</td>\n",
       "      <td>18966606</td>\n",
       "      <td>0.0</td>\n",
       "      <td>0.0</td>\n",
       "      <td>20659</td>\n",
       "      <td>37966</td>\n",
       "      <td>8638484</td>\n",
       "      <td>21013.840420</td>\n",
       "      <td>-10014.286776</td>\n",
       "      <td>0.544145</td>\n",
       "    </tr>\n",
       "    <tr>\n",
       "      <th>46</th>\n",
       "      <td>Curtiss</td>\n",
       "      <td>2881015</td>\n",
       "      <td>0.0</td>\n",
       "      <td>0.0</td>\n",
       "      <td>2056</td>\n",
       "      <td>3796</td>\n",
       "      <td>1302744</td>\n",
       "      <td>1908.349633</td>\n",
       "      <td>-4945.002471</td>\n",
       "      <td>0.541623</td>\n",
       "    </tr>\n",
       "    <tr>\n",
       "      <th>7</th>\n",
       "      <td>Antonov</td>\n",
       "      <td>14625869</td>\n",
       "      <td>0.0</td>\n",
       "      <td>0.0</td>\n",
       "      <td>6540</td>\n",
       "      <td>12714</td>\n",
       "      <td>8398189</td>\n",
       "      <td>10319.262971</td>\n",
       "      <td>13664.421401</td>\n",
       "      <td>0.514394</td>\n",
       "    </tr>\n",
       "    <tr>\n",
       "      <th>92</th>\n",
       "      <td>Lockheed</td>\n",
       "      <td>8918912</td>\n",
       "      <td>0.0</td>\n",
       "      <td>0.0</td>\n",
       "      <td>8614</td>\n",
       "      <td>18621</td>\n",
       "      <td>4570092</td>\n",
       "      <td>5445.596352</td>\n",
       "      <td>-4174.457457</td>\n",
       "      <td>0.462596</td>\n",
       "    </tr>\n",
       "    <tr>\n",
       "      <th>150</th>\n",
       "      <td>Vickers</td>\n",
       "      <td>2473217</td>\n",
       "      <td>0.0</td>\n",
       "      <td>0.0</td>\n",
       "      <td>2472</td>\n",
       "      <td>6729</td>\n",
       "      <td>1162637</td>\n",
       "      <td>3414.916905</td>\n",
       "      <td>1104.912994</td>\n",
       "      <td>0.367365</td>\n",
       "    </tr>\n",
       "    <tr>\n",
       "      <th>146</th>\n",
       "      <td>Tupolev</td>\n",
       "      <td>2970103</td>\n",
       "      <td>0.0</td>\n",
       "      <td>0.0</td>\n",
       "      <td>6070</td>\n",
       "      <td>16572</td>\n",
       "      <td>1645494</td>\n",
       "      <td>3402.389429</td>\n",
       "      <td>3206.746187</td>\n",
       "      <td>0.366280</td>\n",
       "    </tr>\n",
       "    <tr>\n",
       "      <th>48</th>\n",
       "      <td>De</td>\n",
       "      <td>10075417</td>\n",
       "      <td>0.0</td>\n",
       "      <td>0.0</td>\n",
       "      <td>3012</td>\n",
       "      <td>9147</td>\n",
       "      <td>5732861</td>\n",
       "      <td>6563.023803</td>\n",
       "      <td>-1922.487611</td>\n",
       "      <td>0.329288</td>\n",
       "    </tr>\n",
       "    <tr>\n",
       "      <th>45</th>\n",
       "      <td>Convair</td>\n",
       "      <td>2662625</td>\n",
       "      <td>0.0</td>\n",
       "      <td>0.0</td>\n",
       "      <td>1503</td>\n",
       "      <td>4898</td>\n",
       "      <td>1390703</td>\n",
       "      <td>1275.327886</td>\n",
       "      <td>-2742.351294</td>\n",
       "      <td>0.306860</td>\n",
       "    </tr>\n",
       "    <tr>\n",
       "      <th>61</th>\n",
       "      <td>Fokker</td>\n",
       "      <td>4778109</td>\n",
       "      <td>0.0</td>\n",
       "      <td>0.0</td>\n",
       "      <td>2627</td>\n",
       "      <td>10883</td>\n",
       "      <td>2703578</td>\n",
       "      <td>1813.627117</td>\n",
       "      <td>4112.180577</td>\n",
       "      <td>0.241386</td>\n",
       "    </tr>\n",
       "    <tr>\n",
       "      <th>96</th>\n",
       "      <td>Mcdonnell</td>\n",
       "      <td>5890060</td>\n",
       "      <td>0.0</td>\n",
       "      <td>0.0</td>\n",
       "      <td>6402</td>\n",
       "      <td>34583</td>\n",
       "      <td>3314223</td>\n",
       "      <td>2675.158588</td>\n",
       "      <td>474.924109</td>\n",
       "      <td>0.185120</td>\n",
       "    </tr>\n",
       "    <tr>\n",
       "      <th>24</th>\n",
       "      <td>Boeing</td>\n",
       "      <td>19022591</td>\n",
       "      <td>0.0</td>\n",
       "      <td>0.0</td>\n",
       "      <td>19650</td>\n",
       "      <td>114862</td>\n",
       "      <td>10784339</td>\n",
       "      <td>10491.840198</td>\n",
       "      <td>4497.493281</td>\n",
       "      <td>0.171075</td>\n",
       "    </tr>\n",
       "    <tr>\n",
       "      <th>2</th>\n",
       "      <td>Airbus</td>\n",
       "      <td>4427942</td>\n",
       "      <td>0.0</td>\n",
       "      <td>0.0</td>\n",
       "      <td>3993</td>\n",
       "      <td>34972</td>\n",
       "      <td>2665075</td>\n",
       "      <td>3034.836987</td>\n",
       "      <td>3183.907070</td>\n",
       "      <td>0.114177</td>\n",
       "    </tr>\n",
       "  </tbody>\n",
       "</table>\n",
       "</div>"
      ],
      "text/plain": [
       "          Type  Unnamed: 0  Unnamed: 11  Unnamed: 12  Total_Fatality  \\\n",
       "55   Fairchild     2312185          0.0          0.0            1987   \n",
       "76    Ilyushin     3239568          0.0          0.0            6084   \n",
       "51     Douglas    18966606          0.0          0.0           20659   \n",
       "46     Curtiss     2881015          0.0          0.0            2056   \n",
       "7      Antonov    14625869          0.0          0.0            6540   \n",
       "92    Lockheed     8918912          0.0          0.0            8614   \n",
       "150    Vickers     2473217          0.0          0.0            2472   \n",
       "146    Tupolev     2970103          0.0          0.0            6070   \n",
       "48          De    10075417          0.0          0.0            3012   \n",
       "45     Convair     2662625          0.0          0.0            1503   \n",
       "61      Fokker     4778109          0.0          0.0            2627   \n",
       "96   Mcdonnell     5890060          0.0          0.0            6402   \n",
       "24      Boeing    19022591          0.0          0.0           19650   \n",
       "2       Airbus     4427942          0.0          0.0            3993   \n",
       "\n",
       "     Total_Occupants     Index           Lat          Long  Fatality_Rate  \n",
       "55              3325   1115447   1464.448111   -436.662327       0.597594  \n",
       "76             10783   1688562   2341.529497   2783.806819       0.564221  \n",
       "51             37966   8638484  21013.840420 -10014.286776       0.544145  \n",
       "46              3796   1302744   1908.349633  -4945.002471       0.541623  \n",
       "7              12714   8398189  10319.262971  13664.421401       0.514394  \n",
       "92             18621   4570092   5445.596352  -4174.457457       0.462596  \n",
       "150             6729   1162637   3414.916905   1104.912994       0.367365  \n",
       "146            16572   1645494   3402.389429   3206.746187       0.366280  \n",
       "48              9147   5732861   6563.023803  -1922.487611       0.329288  \n",
       "45              4898   1390703   1275.327886  -2742.351294       0.306860  \n",
       "61             10883   2703578   1813.627117   4112.180577       0.241386  \n",
       "96             34583   3314223   2675.158588    474.924109       0.185120  \n",
       "24            114862  10784339  10491.840198   4497.493281       0.171075  \n",
       "2              34972   2665075   3034.836987   3183.907070       0.114177  "
      ]
     },
     "execution_count": 6,
     "metadata": {},
     "output_type": "execute_result"
    }
   ],
   "source": [
    "by_type_over_1500 = by_type[by_type['Total_Fatality'] > 1500].sort_values('Fatality_Rate',ascending = False)\n",
    "by_type_over_1500"
   ]
  },
  {
   "cell_type": "code",
   "execution_count": 7,
   "metadata": {
    "pycharm": {
     "is_executing": false
    }
   },
   "outputs": [
    {
     "data": {
      "image/png": "[encoded data removed]",
      "text/plain": [
       "<Figure size 1152x648 with 1 Axes>"
      ]
     },
     "metadata": {
      "needs_background": "light"
     },
     "output_type": "display_data"
    }
   ],
   "source": [
    "fig, ax = plt.subplots(figsize=(16, 9))\n",
    "ax.bar(by_type_over_1500['Type'], by_type_over_1500['Fatality_Rate'])\n",
    "ax.set_xlabel('Type')\n",
    "ax.set_ylabel('Fatality Rate')\n",
    "ax.set_title('Fatality Rate by Type (Total Fatality > 1500)')\n",
    "plt.show()"
   ]
  },
  {
   "cell_type": "code",
   "execution_count": 8,
   "metadata": {
    "pycharm": {
     "is_executing": false
    }
   },
   "outputs": [
    {
     "data": {
      "text/html": [
       "<div>\n",
       "<style scoped>\n",
       "    .dataframe tbody tr th:only-of-type {\n",
       "        vertical-align: middle;\n",
       "    }\n",
       "\n",
       "    .dataframe tbody tr th {\n",
       "        vertical-align: top;\n",
       "    }\n",
       "\n",
       "    .dataframe thead th {\n",
       "        text-align: right;\n",
       "    }\n",
       "</style>\n",
       "<table border=\"1\" class=\"dataframe\">\n",
       "  <thead>\n",
       "    <tr style=\"text-align: right;\">\n",
       "      <th></th>\n",
       "      <th>year</th>\n",
       "      <th>Unnamed: 0</th>\n",
       "      <th>Unnamed: 11</th>\n",
       "      <th>Unnamed: 12</th>\n",
       "      <th>Total_Fatality</th>\n",
       "      <th>Total_Occupants</th>\n",
       "      <th>Index</th>\n",
       "      <th>Lat</th>\n",
       "      <th>Long</th>\n",
       "      <th>Total_Survival</th>\n",
       "      <th>Fatality_Rate</th>\n",
       "    </tr>\n",
       "  </thead>\n",
       "  <tbody>\n",
       "    <tr>\n",
       "      <th>0</th>\n",
       "      <td>1919</td>\n",
       "      <td>1</td>\n",
       "      <td>0.0</td>\n",
       "      <td>0.0</td>\n",
       "      <td>15</td>\n",
       "      <td>21</td>\n",
       "      <td>3</td>\n",
       "      <td>45.438496</td>\n",
       "      <td>10.992412</td>\n",
       "      <td>6</td>\n",
       "      <td>0.714286</td>\n",
       "    </tr>\n",
       "    <tr>\n",
       "      <th>1</th>\n",
       "      <td>1920</td>\n",
       "      <td>11</td>\n",
       "      <td>0.0</td>\n",
       "      <td>0.0</td>\n",
       "      <td>4</td>\n",
       "      <td>20</td>\n",
       "      <td>12</td>\n",
       "      <td>107.878208</td>\n",
       "      <td>13.825043</td>\n",
       "      <td>16</td>\n",
       "      <td>0.200000</td>\n",
       "    </tr>\n",
       "    <tr>\n",
       "      <th>2</th>\n",
       "      <td>1921</td>\n",
       "      <td>17</td>\n",
       "      <td>0.0</td>\n",
       "      <td>0.0</td>\n",
       "      <td>2</td>\n",
       "      <td>3</td>\n",
       "      <td>13</td>\n",
       "      <td>45.951182</td>\n",
       "      <td>8.634267</td>\n",
       "      <td>1</td>\n",
       "      <td>0.666667</td>\n",
       "    </tr>\n",
       "    <tr>\n",
       "      <th>3</th>\n",
       "      <td>1922</td>\n",
       "      <td>28</td>\n",
       "      <td>0.0</td>\n",
       "      <td>0.0</td>\n",
       "      <td>5</td>\n",
       "      <td>9</td>\n",
       "      <td>17</td>\n",
       "      <td>100.166880</td>\n",
       "      <td>4.098468</td>\n",
       "      <td>4</td>\n",
       "      <td>0.555556</td>\n",
       "    </tr>\n",
       "    <tr>\n",
       "      <th>4</th>\n",
       "      <td>1923</td>\n",
       "      <td>73</td>\n",
       "      <td>0.0</td>\n",
       "      <td>0.0</td>\n",
       "      <td>11</td>\n",
       "      <td>37</td>\n",
       "      <td>48</td>\n",
       "      <td>149.959558</td>\n",
       "      <td>7.232417</td>\n",
       "      <td>26</td>\n",
       "      <td>0.297297</td>\n",
       "    </tr>\n",
       "  </tbody>\n",
       "</table>\n",
       "</div>"
      ],
      "text/plain": [
       "   year  Unnamed: 0  Unnamed: 11  Unnamed: 12  Total_Fatality  \\\n",
       "0  1919           1          0.0          0.0              15   \n",
       "1  1920          11          0.0          0.0               4   \n",
       "2  1921          17          0.0          0.0               2   \n",
       "3  1922          28          0.0          0.0               5   \n",
       "4  1923          73          0.0          0.0              11   \n",
       "\n",
       "   Total_Occupants  Index         Lat       Long  Total_Survival  \\\n",
       "0               21      3   45.438496  10.992412               6   \n",
       "1               20     12  107.878208  13.825043              16   \n",
       "2                3     13   45.951182   8.634267               1   \n",
       "3                9     17  100.166880   4.098468               4   \n",
       "4               37     48  149.959558   7.232417              26   \n",
       "\n",
       "   Fatality_Rate  \n",
       "0       0.714286  \n",
       "1       0.200000  \n",
       "2       0.666667  \n",
       "3       0.555556  \n",
       "4       0.297297  "
      ]
     },
     "execution_count": 8,
     "metadata": {},
     "output_type": "execute_result"
    }
   ],
   "source": [
    "by_year = df.groupby(['year']).sum().drop(columns=['Fatality_Rate']).reset_index()\n",
    "by_year['Total_Survival'] = by_year['Total_Occupants'] - by_year['Total_Fatality']\n",
    "by_year['Fatality_Rate'] = by_year['Total_Fatality'] / by_year['Total_Occupants']\n",
    "by_year.head()"
   ]
  },
  {
   "cell_type": "code",
   "execution_count": 9,
   "metadata": {
    "pycharm": {
     "is_executing": false
    }
   },
   "outputs": [
    {
     "data": {
      "image/png": "[encoded data removed]",
      "text/plain": [
       "<Figure size 1152x648 with 1 Axes>"
      ]
     },
     "metadata": {
      "needs_background": "light"
     },
     "output_type": "display_data"
    }
   ],
   "source": [
    "fig, ax = plt.subplots(figsize=(16, 9))\n",
    "ax.plot(by_year['year'], by_year['Total_Fatality'], label='Total Fatality')\n",
    "ax.plot(by_year['year'], by_year['Total_Occupants'], label='Total Occupants')\n",
    "ax.set_xlabel('Year')\n",
    "ax.set_ylabel('Number')\n",
    "ax.set_title('Total Fatality vs Total Occupants over Year')\n",
    "ax.legend()\n",
    "plt.show()"
   ]
  },
  {
   "cell_type": "code",
   "execution_count": 10,
   "metadata": {
    "pycharm": {
     "is_executing": false
    }
   },
   "outputs": [
    {
     "data": {
      "image/png": "[encoded data removed]",
      "text/plain": [
       "<Figure size 1152x648 with 1 Axes>"
      ]
     },
     "metadata": {
      "needs_background": "light"
     },
     "output_type": "display_data"
    }
   ],
   "source": [
    "fig, ax = plt.subplots(figsize=(16, 9))\n",
    "ax.plot(by_year['year'], by_year['Fatality_Rate'])\n",
    "ax.set_xlabel('Year')\n",
    "ax.set_ylabel('Rate')\n",
    "ax.set_title('Fatality Rate over Year')\n",
    "plt.show()"
   ]
  },
  {
   "cell_type": "code",
   "execution_count": 11,
   "metadata": {
    "pycharm": {
     "is_executing": false
    }
   },
   "outputs": [
    {
     "data": {
      "image/png": "[encoded data removed]",
      "text/plain": [
       "<Figure size 1152x648 with 1 Axes>"
      ]
     },
     "metadata": {
      "needs_background": "light"
     },
     "output_type": "display_data"
    }
   ],
   "source": [
    "fig, ax = plt.subplots(figsize=(16, 9))\n",
    "ax.bar(by_year['year'], by_year['Total_Fatality'], label='Total Fatality')\n",
    "ax.bar(by_year['year'], by_year['Total_Survival'], bottom=by_year['Total_Fatality'], label='Total Survival')\n",
    "ax.set_xlabel('Year')\n",
    "ax.set_ylabel('Number')\n",
    "ax.legend()\n",
    "ax.set_title('Total Fatality and Total Survival Each Year')\n",
    "plt.show()"
   ]
  },
  {
   "cell_type": "code",
   "execution_count": 12,
   "metadata": {
    "pycharm": {
     "is_executing": false
    }
   },
   "outputs": [
    {
     "data": {
      "text/html": [
       "<div>\n",
       "<style scoped>\n",
       "    .dataframe tbody tr th:only-of-type {\n",
       "        vertical-align: middle;\n",
       "    }\n",
       "\n",
       "    .dataframe tbody tr th {\n",
       "        vertical-align: top;\n",
       "    }\n",
       "\n",
       "    .dataframe thead th {\n",
       "        text-align: right;\n",
       "    }\n",
       "</style>\n",
       "<table border=\"1\" class=\"dataframe\">\n",
       "  <thead>\n",
       "    <tr style=\"text-align: right;\">\n",
       "      <th></th>\n",
       "      <th>Operator</th>\n",
       "      <th>Unnamed: 0</th>\n",
       "      <th>Unnamed: 11</th>\n",
       "      <th>Unnamed: 12</th>\n",
       "      <th>Total_Fatality</th>\n",
       "      <th>Total_Occupants</th>\n",
       "      <th>Index</th>\n",
       "      <th>Lat</th>\n",
       "      <th>Long</th>\n",
       "    </tr>\n",
       "  </thead>\n",
       "  <tbody>\n",
       "    <tr>\n",
       "      <th>0</th>\n",
       "      <td>2nd Arkhangelsk United Aviation Division</td>\n",
       "      <td>44167</td>\n",
       "      <td>0.0</td>\n",
       "      <td>0.0</td>\n",
       "      <td>0</td>\n",
       "      <td>24</td>\n",
       "      <td>27797</td>\n",
       "      <td>67.870106</td>\n",
       "      <td>44.15311</td>\n",
       "    </tr>\n",
       "  </tbody>\n",
       "</table>\n",
       "</div>"
      ],
      "text/plain": [
       "                                   Operator  Unnamed: 0  Unnamed: 11  \\\n",
       "0  2nd Arkhangelsk United Aviation Division       44167          0.0   \n",
       "\n",
       "   Unnamed: 12  Total_Fatality  Total_Occupants  Index        Lat      Long  \n",
       "0          0.0               0               24  27797  67.870106  44.15311  "
      ]
     },
     "execution_count": 12,
     "metadata": {},
     "output_type": "execute_result"
    }
   ],
   "source": [
    "by_operator = df.groupby(['Operator']).sum().drop(columns=['year', 'Fatality_Rate']).reset_index()\n",
    "by_operator.head(1)"
   ]
  },
  {
   "cell_type": "code",
   "execution_count": 13,
   "metadata": {
    "pycharm": {
     "is_executing": false
    }
   },
   "outputs": [
    {
     "data": {
      "text/html": [
       "<div>\n",
       "<style scoped>\n",
       "    .dataframe tbody tr th:only-of-type {\n",
       "        vertical-align: middle;\n",
       "    }\n",
       "\n",
       "    .dataframe tbody tr th {\n",
       "        vertical-align: top;\n",
       "    }\n",
       "\n",
       "    .dataframe thead th {\n",
       "        text-align: right;\n",
       "    }\n",
       "</style>\n",
       "<table border=\"1\" class=\"dataframe\">\n",
       "  <thead>\n",
       "    <tr style=\"text-align: right;\">\n",
       "      <th></th>\n",
       "      <th>Operator</th>\n",
       "      <th>Unnamed: 0</th>\n",
       "      <th>Unnamed: 11</th>\n",
       "      <th>Unnamed: 12</th>\n",
       "      <th>Total_Fatality</th>\n",
       "      <th>Total_Occupants</th>\n",
       "      <th>Index</th>\n",
       "      <th>Lat</th>\n",
       "      <th>Long</th>\n",
       "    </tr>\n",
       "  </thead>\n",
       "  <tbody>\n",
       "    <tr>\n",
       "      <th>4127</th>\n",
       "      <td>United States Air Force - USAF</td>\n",
       "      <td>6051265</td>\n",
       "      <td>0.0</td>\n",
       "      <td>0.0</td>\n",
       "      <td>4797</td>\n",
       "      <td>7811</td>\n",
       "      <td>2908634</td>\n",
       "      <td>4311.894988</td>\n",
       "      <td>1613.003409</td>\n",
       "    </tr>\n",
       "    <tr>\n",
       "      <th>4130</th>\n",
       "      <td>United States Army Air Force - USAAF</td>\n",
       "      <td>1415400</td>\n",
       "      <td>0.0</td>\n",
       "      <td>0.0</td>\n",
       "      <td>3017</td>\n",
       "      <td>4082</td>\n",
       "      <td>436792</td>\n",
       "      <td>4767.182227</td>\n",
       "      <td>3398.496582</td>\n",
       "    </tr>\n",
       "    <tr>\n",
       "      <th>3298</th>\n",
       "      <td>Royal Air Force - RAF</td>\n",
       "      <td>1404188</td>\n",
       "      <td>0.0</td>\n",
       "      <td>0.0</td>\n",
       "      <td>1716</td>\n",
       "      <td>2620</td>\n",
       "      <td>572223</td>\n",
       "      <td>3416.469041</td>\n",
       "      <td>1859.608046</td>\n",
       "    </tr>\n",
       "    <tr>\n",
       "      <th>402</th>\n",
       "      <td>Air France</td>\n",
       "      <td>831338</td>\n",
       "      <td>0.0</td>\n",
       "      <td>0.0</td>\n",
       "      <td>1631</td>\n",
       "      <td>6428</td>\n",
       "      <td>417889</td>\n",
       "      <td>1600.465197</td>\n",
       "      <td>271.975128</td>\n",
       "    </tr>\n",
       "    <tr>\n",
       "      <th>3023</th>\n",
       "      <td>Pan American World Airways (Pan Am)</td>\n",
       "      <td>574441</td>\n",
       "      <td>0.0</td>\n",
       "      <td>0.0</td>\n",
       "      <td>1504</td>\n",
       "      <td>4532</td>\n",
       "      <td>266271</td>\n",
       "      <td>584.398111</td>\n",
       "      <td>-428.101551</td>\n",
       "    </tr>\n",
       "    <tr>\n",
       "      <th>4139</th>\n",
       "      <td>United States Navy</td>\n",
       "      <td>1658065</td>\n",
       "      <td>0.0</td>\n",
       "      <td>0.0</td>\n",
       "      <td>1445</td>\n",
       "      <td>2479</td>\n",
       "      <td>764809</td>\n",
       "      <td>866.698133</td>\n",
       "      <td>-516.286607</td>\n",
       "    </tr>\n",
       "    <tr>\n",
       "      <th>668</th>\n",
       "      <td>American Airlines</td>\n",
       "      <td>911609</td>\n",
       "      <td>0.0</td>\n",
       "      <td>0.0</td>\n",
       "      <td>1424</td>\n",
       "      <td>6870</td>\n",
       "      <td>487413</td>\n",
       "      <td>795.650907</td>\n",
       "      <td>-1910.025248</td>\n",
       "    </tr>\n",
       "    <tr>\n",
       "      <th>4117</th>\n",
       "      <td>United Airlines</td>\n",
       "      <td>800903</td>\n",
       "      <td>0.0</td>\n",
       "      <td>0.0</td>\n",
       "      <td>1145</td>\n",
       "      <td>5739</td>\n",
       "      <td>412887</td>\n",
       "      <td>720.152124</td>\n",
       "      <td>-1809.110770</td>\n",
       "    </tr>\n",
       "  </tbody>\n",
       "</table>\n",
       "</div>"
      ],
      "text/plain": [
       "                                  Operator  Unnamed: 0  Unnamed: 11  \\\n",
       "4127        United States Air Force - USAF     6051265          0.0   \n",
       "4130  United States Army Air Force - USAAF     1415400          0.0   \n",
       "3298                 Royal Air Force - RAF     1404188          0.0   \n",
       "402                             Air France      831338          0.0   \n",
       "3023   Pan American World Airways (Pan Am)      574441          0.0   \n",
       "4139                    United States Navy     1658065          0.0   \n",
       "668                      American Airlines      911609          0.0   \n",
       "4117                       United Airlines      800903          0.0   \n",
       "\n",
       "      Unnamed: 12  Total_Fatality  Total_Occupants    Index          Lat  \\\n",
       "4127          0.0            4797             7811  2908634  4311.894988   \n",
       "4130          0.0            3017             4082   436792  4767.182227   \n",
       "3298          0.0            1716             2620   572223  3416.469041   \n",
       "402           0.0            1631             6428   417889  1600.465197   \n",
       "3023          0.0            1504             4532   266271   584.398111   \n",
       "4139          0.0            1445             2479   764809   866.698133   \n",
       "668           0.0            1424             6870   487413   795.650907   \n",
       "4117          0.0            1145             5739   412887   720.152124   \n",
       "\n",
       "             Long  \n",
       "4127  1613.003409  \n",
       "4130  3398.496582  \n",
       "3298  1859.608046  \n",
       "402    271.975128  \n",
       "3023  -428.101551  \n",
       "4139  -516.286607  \n",
       "668  -1910.025248  \n",
       "4117 -1809.110770  "
      ]
     },
     "execution_count": 13,
     "metadata": {},
     "output_type": "execute_result"
    }
   ],
   "source": [
    "by_operator_over_1000 = by_operator[by_operator['Total_Fatality'] > 1000].sort_values('Total_Fatality',ascending = False)\n",
    "by_operator_over_1000"
   ]
  },
  {
   "cell_type": "code",
   "execution_count": 14,
   "metadata": {
    "pycharm": {
     "is_executing": false
    }
   },
   "outputs": [
    {
     "data": {
      "image/png": "[encoded data removed]",
      "text/plain": [
       "<Figure size 1152x648 with 1 Axes>"
      ]
     },
     "metadata": {
      "needs_background": "light"
     },
     "output_type": "display_data"
    }
   ],
   "source": [
    "fig, ax = plt.subplots(figsize=(16, 9))\n",
    "ax.bar(by_operator_over_1000['Operator'], by_operator_over_1000['Total_Fatality'])\n",
    "ax.set_xlabel('Operator')\n",
    "ax.set_ylabel('Fatality Rate')\n",
    "for tick in ax.get_xticklabels():\n",
    "    tick.set_rotation(90)\n",
    "ax.set_title('Fatality Count by Operator (Total Fatality > 1000)')\n",
    "plt.show()"
   ]
  },
  {
   "cell_type": "code",
   "execution_count": 15,
   "metadata": {
    "pycharm": {
     "is_executing": false
    }
   },
   "outputs": [
    {
     "data": {
      "text/html": [
       "<div>\n",
       "<style scoped>\n",
       "    .dataframe tbody tr th:only-of-type {\n",
       "        vertical-align: middle;\n",
       "    }\n",
       "\n",
       "    .dataframe tbody tr th {\n",
       "        vertical-align: top;\n",
       "    }\n",
       "\n",
       "    .dataframe thead th {\n",
       "        text-align: right;\n",
       "    }\n",
       "</style>\n",
       "<table border=\"1\" class=\"dataframe\">\n",
       "  <thead>\n",
       "    <tr style=\"text-align: right;\">\n",
       "      <th></th>\n",
       "      <th>Phase</th>\n",
       "      <th>Unnamed: 0</th>\n",
       "      <th>Unnamed: 11</th>\n",
       "      <th>Unnamed: 12</th>\n",
       "      <th>Total_Fatality</th>\n",
       "      <th>Total_Occupants</th>\n",
       "      <th>Index</th>\n",
       "      <th>Lat</th>\n",
       "      <th>Long</th>\n",
       "      <th>Fatality_Rate</th>\n",
       "    </tr>\n",
       "  </thead>\n",
       "  <tbody>\n",
       "    <tr>\n",
       "      <th>0</th>\n",
       "      <td>()</td>\n",
       "      <td>12532</td>\n",
       "      <td>0.0</td>\n",
       "      <td>0.0</td>\n",
       "      <td>0</td>\n",
       "      <td>2</td>\n",
       "      <td>6487</td>\n",
       "      <td>0.000000</td>\n",
       "      <td>0.000000</td>\n",
       "      <td>0.000000</td>\n",
       "    </tr>\n",
       "    <tr>\n",
       "      <th>1</th>\n",
       "      <td>(CMB)</td>\n",
       "      <td>10707</td>\n",
       "      <td>0.0</td>\n",
       "      <td>0.0</td>\n",
       "      <td>11</td>\n",
       "      <td>12</td>\n",
       "      <td>3257</td>\n",
       "      <td>146.945572</td>\n",
       "      <td>46.359399</td>\n",
       "      <td>0.916667</td>\n",
       "    </tr>\n",
       "    <tr>\n",
       "      <th>2</th>\n",
       "      <td>Approach (APR)</td>\n",
       "      <td>30773489</td>\n",
       "      <td>0.0</td>\n",
       "      <td>0.0</td>\n",
       "      <td>34573</td>\n",
       "      <td>56742</td>\n",
       "      <td>16571824</td>\n",
       "      <td>15602.181786</td>\n",
       "      <td>-7625.562698</td>\n",
       "      <td>0.609302</td>\n",
       "    </tr>\n",
       "    <tr>\n",
       "      <th>3</th>\n",
       "      <td>Edgar Springs, MO (   United States of America)</td>\n",
       "      <td>5931</td>\n",
       "      <td>0.0</td>\n",
       "      <td>0.0</td>\n",
       "      <td>0</td>\n",
       "      <td>6</td>\n",
       "      <td>1999</td>\n",
       "      <td>0.000000</td>\n",
       "      <td>0.000000</td>\n",
       "      <td>0.000000</td>\n",
       "    </tr>\n",
       "    <tr>\n",
       "      <th>4</th>\n",
       "      <td>En route (ENR)</td>\n",
       "      <td>51944046</td>\n",
       "      <td>0.0</td>\n",
       "      <td>0.0</td>\n",
       "      <td>56599</td>\n",
       "      <td>135025</td>\n",
       "      <td>27411340</td>\n",
       "      <td>47331.260996</td>\n",
       "      <td>-13384.071875</td>\n",
       "      <td>0.419174</td>\n",
       "    </tr>\n",
       "    <tr>\n",
       "      <th>5</th>\n",
       "      <td>Initial climb (ICL)</td>\n",
       "      <td>12418229</td>\n",
       "      <td>0.0</td>\n",
       "      <td>0.0</td>\n",
       "      <td>10323</td>\n",
       "      <td>18272</td>\n",
       "      <td>6688080</td>\n",
       "      <td>6767.536770</td>\n",
       "      <td>-1929.300895</td>\n",
       "      <td>0.564963</td>\n",
       "    </tr>\n",
       "    <tr>\n",
       "      <th>6</th>\n",
       "      <td>Landing (LDG)</td>\n",
       "      <td>49213185</td>\n",
       "      <td>0.0</td>\n",
       "      <td>0.0</td>\n",
       "      <td>4406</td>\n",
       "      <td>109401</td>\n",
       "      <td>28294693</td>\n",
       "      <td>28846.293104</td>\n",
       "      <td>18978.477114</td>\n",
       "      <td>0.040274</td>\n",
       "    </tr>\n",
       "    <tr>\n",
       "      <th>7</th>\n",
       "      <td>Maneuvering (MNV)</td>\n",
       "      <td>4296040</td>\n",
       "      <td>0.0</td>\n",
       "      <td>0.0</td>\n",
       "      <td>1081</td>\n",
       "      <td>1477</td>\n",
       "      <td>2315602</td>\n",
       "      <td>4613.002050</td>\n",
       "      <td>-2840.846036</td>\n",
       "      <td>0.731889</td>\n",
       "    </tr>\n",
       "    <tr>\n",
       "      <th>8</th>\n",
       "      <td>Pushback / towing (PBT)</td>\n",
       "      <td>735069</td>\n",
       "      <td>0.0</td>\n",
       "      <td>0.0</td>\n",
       "      <td>8</td>\n",
       "      <td>3620</td>\n",
       "      <td>449388</td>\n",
       "      <td>826.814193</td>\n",
       "      <td>-105.978889</td>\n",
       "      <td>0.002210</td>\n",
       "    </tr>\n",
       "    <tr>\n",
       "      <th>9</th>\n",
       "      <td>Takeoff (TOF)</td>\n",
       "      <td>18782235</td>\n",
       "      <td>0.0</td>\n",
       "      <td>0.0</td>\n",
       "      <td>4953</td>\n",
       "      <td>37765</td>\n",
       "      <td>10463132</td>\n",
       "      <td>12317.606590</td>\n",
       "      <td>6344.230384</td>\n",
       "      <td>0.131153</td>\n",
       "    </tr>\n",
       "    <tr>\n",
       "      <th>10</th>\n",
       "      <td>Taxi (TXI)</td>\n",
       "      <td>4873624</td>\n",
       "      <td>0.0</td>\n",
       "      <td>0.0</td>\n",
       "      <td>515</td>\n",
       "      <td>14532</td>\n",
       "      <td>2865712</td>\n",
       "      <td>2675.592405</td>\n",
       "      <td>135.038485</td>\n",
       "      <td>0.035439</td>\n",
       "    </tr>\n",
       "  </tbody>\n",
       "</table>\n",
       "</div>"
      ],
      "text/plain": [
       "                                              Phase  Unnamed: 0  Unnamed: 11  \\\n",
       "0                                                ()       12532          0.0   \n",
       "1                                             (CMB)       10707          0.0   \n",
       "2                                    Approach (APR)    30773489          0.0   \n",
       "3   Edgar Springs, MO (   United States of America)        5931          0.0   \n",
       "4                                    En route (ENR)    51944046          0.0   \n",
       "5                               Initial climb (ICL)    12418229          0.0   \n",
       "6                                     Landing (LDG)    49213185          0.0   \n",
       "7                                 Maneuvering (MNV)     4296040          0.0   \n",
       "8                           Pushback / towing (PBT)      735069          0.0   \n",
       "9                                     Takeoff (TOF)    18782235          0.0   \n",
       "10                                       Taxi (TXI)     4873624          0.0   \n",
       "\n",
       "    Unnamed: 12  Total_Fatality  Total_Occupants     Index           Lat  \\\n",
       "0           0.0               0                2      6487      0.000000   \n",
       "1           0.0              11               12      3257    146.945572   \n",
       "2           0.0           34573            56742  16571824  15602.181786   \n",
       "3           0.0               0                6      1999      0.000000   \n",
       "4           0.0           56599           135025  27411340  47331.260996   \n",
       "5           0.0           10323            18272   6688080   6767.536770   \n",
       "6           0.0            4406           109401  28294693  28846.293104   \n",
       "7           0.0            1081             1477   2315602   4613.002050   \n",
       "8           0.0               8             3620    449388    826.814193   \n",
       "9           0.0            4953            37765  10463132  12317.606590   \n",
       "10          0.0             515            14532   2865712   2675.592405   \n",
       "\n",
       "            Long  Fatality_Rate  \n",
       "0       0.000000       0.000000  \n",
       "1      46.359399       0.916667  \n",
       "2   -7625.562698       0.609302  \n",
       "3       0.000000       0.000000  \n",
       "4  -13384.071875       0.419174  \n",
       "5   -1929.300895       0.564963  \n",
       "6   18978.477114       0.040274  \n",
       "7   -2840.846036       0.731889  \n",
       "8    -105.978889       0.002210  \n",
       "9    6344.230384       0.131153  \n",
       "10    135.038485       0.035439  "
      ]
     },
     "execution_count": 15,
     "metadata": {},
     "output_type": "execute_result"
    }
   ],
   "source": [
    "by_phase = df.groupby(['Phase']).sum().drop(columns=['year', 'Fatality_Rate']).reset_index()\n",
    "by_phase['Fatality_Rate'] = by_phase['Total_Fatality'] / by_phase['Total_Occupants']\n",
    "by_phase"
   ]
  },
  {
   "cell_type": "code",
   "execution_count": 16,
   "metadata": {
    "pycharm": {
     "is_executing": false
    }
   },
   "outputs": [],
   "source": [
    "by_phase_over_1000 = by_phase[by_phase['Total_Fatality'] > 1000]\n",
    "by_phase_over_1000 = by_phase_over_1000.sort_values('Total_Fatality',ascending = False)"
   ]
  },
  {
   "cell_type": "code",
   "execution_count": 17,
   "metadata": {
    "pycharm": {
     "is_executing": false
    }
   },
   "outputs": [
    {
     "data": {
      "image/png": "[encoded data removed]",
      "text/plain": [
       "<Figure size 1152x648 with 1 Axes>"
      ]
     },
     "metadata": {
      "needs_background": "light"
     },
     "output_type": "display_data"
    }
   ],
   "source": [
    "fig, ax = plt.subplots(figsize=(16, 9))\n",
    "ax.bar(by_phase_over_1000['Phase'], by_phase_over_1000['Total_Fatality'])\n",
    "ax.set_xlabel('Phase')\n",
    "ax.set_ylabel('Fatality Counts')\n",
    "ax.set_title('Fatality Count by Phase (Total Fatality > 1000)')\n",
    "plt.show()"
   ]
  },
  {
   "cell_type": "code",
   "execution_count": 18,
   "metadata": {
    "pycharm": {
     "is_executing": false
    }
   },
   "outputs": [],
   "source": [
    "by_type_make = df.groupby(['Type', 'Make']).sum().drop(columns=['year', 'Fatality_Rate']).reset_index()\n",
    "by_type_make['Fatality_Rate'] = by_type_make['Total_Fatality'] / by_type_make['Total_Occupants']\n",
    "by_type_make.head()\n",
    "by_type_make = by_type_make.sort_values('Fatality_Rate',ascending = False)"
   ]
  },
  {
   "cell_type": "code",
   "execution_count": 19,
   "metadata": {
    "pycharm": {
     "is_executing": false
    }
   },
   "outputs": [
    {
     "data": {
      "text/html": [
       "<div>\n",
       "<style scoped>\n",
       "    .dataframe tbody tr th:only-of-type {\n",
       "        vertical-align: middle;\n",
       "    }\n",
       "\n",
       "    .dataframe tbody tr th {\n",
       "        vertical-align: top;\n",
       "    }\n",
       "\n",
       "    .dataframe thead th {\n",
       "        text-align: right;\n",
       "    }\n",
       "</style>\n",
       "<table border=\"1\" class=\"dataframe\">\n",
       "  <thead>\n",
       "    <tr style=\"text-align: right;\">\n",
       "      <th></th>\n",
       "      <th>Type</th>\n",
       "      <th>Make</th>\n",
       "      <th>Unnamed: 0</th>\n",
       "      <th>Unnamed: 11</th>\n",
       "      <th>Unnamed: 12</th>\n",
       "      <th>Total_Fatality</th>\n",
       "      <th>Total_Occupants</th>\n",
       "      <th>Index</th>\n",
       "      <th>Lat</th>\n",
       "      <th>Long</th>\n",
       "      <th>Fatality_Rate</th>\n",
       "    </tr>\n",
       "  </thead>\n",
       "  <tbody>\n",
       "    <tr>\n",
       "      <th>2106</th>\n",
       "      <td>Ilyushin</td>\n",
       "      <td>il-18v</td>\n",
       "      <td>429411</td>\n",
       "      <td>0.0</td>\n",
       "      <td>0.0</td>\n",
       "      <td>1349</td>\n",
       "      <td>2222</td>\n",
       "      <td>220453</td>\n",
       "      <td>216.492454</td>\n",
       "      <td>289.274863</td>\n",
       "      <td>0.607111</td>\n",
       "    </tr>\n",
       "    <tr>\n",
       "      <th>1701</th>\n",
       "      <td>Douglas</td>\n",
       "      <td>dc-6b</td>\n",
       "      <td>517812</td>\n",
       "      <td>0.0</td>\n",
       "      <td>0.0</td>\n",
       "      <td>1048</td>\n",
       "      <td>1741</td>\n",
       "      <td>252765</td>\n",
       "      <td>628.420381</td>\n",
       "      <td>-1017.371659</td>\n",
       "      <td>0.601953</td>\n",
       "    </tr>\n",
       "    <tr>\n",
       "      <th>1417</th>\n",
       "      <td>Douglas</td>\n",
       "      <td>c-47-dl (dc-3)</td>\n",
       "      <td>892093</td>\n",
       "      <td>0.0</td>\n",
       "      <td>0.0</td>\n",
       "      <td>1131</td>\n",
       "      <td>1929</td>\n",
       "      <td>373709</td>\n",
       "      <td>1153.402153</td>\n",
       "      <td>-1215.649285</td>\n",
       "      <td>0.586314</td>\n",
       "    </tr>\n",
       "    <tr>\n",
       "      <th>2737</th>\n",
       "      <td>Tupolev</td>\n",
       "      <td>tu-154m</td>\n",
       "      <td>544737</td>\n",
       "      <td>0.0</td>\n",
       "      <td>0.0</td>\n",
       "      <td>1589</td>\n",
       "      <td>3207</td>\n",
       "      <td>321390</td>\n",
       "      <td>529.983477</td>\n",
       "      <td>697.221775</td>\n",
       "      <td>0.495479</td>\n",
       "    </tr>\n",
       "    <tr>\n",
       "      <th>2473</th>\n",
       "      <td>Mcdonnell</td>\n",
       "      <td>douglas dc-9-32</td>\n",
       "      <td>817192</td>\n",
       "      <td>0.0</td>\n",
       "      <td>0.0</td>\n",
       "      <td>1355</td>\n",
       "      <td>3813</td>\n",
       "      <td>449034</td>\n",
       "      <td>498.822807</td>\n",
       "      <td>-476.274380</td>\n",
       "      <td>0.355363</td>\n",
       "    </tr>\n",
       "  </tbody>\n",
       "</table>\n",
       "</div>"
      ],
      "text/plain": [
       "           Type             Make  Unnamed: 0  Unnamed: 11  Unnamed: 12  \\\n",
       "2106   Ilyushin           il-18v      429411          0.0          0.0   \n",
       "1701    Douglas            dc-6b      517812          0.0          0.0   \n",
       "1417    Douglas   c-47-dl (dc-3)      892093          0.0          0.0   \n",
       "2737    Tupolev          tu-154m      544737          0.0          0.0   \n",
       "2473  Mcdonnell  douglas dc-9-32      817192          0.0          0.0   \n",
       "\n",
       "      Total_Fatality  Total_Occupants   Index          Lat         Long  \\\n",
       "2106            1349             2222  220453   216.492454   289.274863   \n",
       "1701            1048             1741  252765   628.420381 -1017.371659   \n",
       "1417            1131             1929  373709  1153.402153 -1215.649285   \n",
       "2737            1589             3207  321390   529.983477   697.221775   \n",
       "2473            1355             3813  449034   498.822807  -476.274380   \n",
       "\n",
       "      Fatality_Rate  \n",
       "2106       0.607111  \n",
       "1701       0.601953  \n",
       "1417       0.586314  \n",
       "2737       0.495479  \n",
       "2473       0.355363  "
      ]
     },
     "execution_count": 19,
     "metadata": {},
     "output_type": "execute_result"
    }
   ],
   "source": [
    "by_type_make_over_1000 = by_type_make[by_type_make['Total_Fatality'] > 1000]\n",
    "by_type_make_over_1000"
   ]
  },
  {
   "cell_type": "code",
   "execution_count": 20,
   "metadata": {
    "pycharm": {
     "is_executing": false
    }
   },
   "outputs": [
    {
     "data": {
      "image/png": "[encoded data removed]",
      "text/plain": [
       "<Figure size 1152x648 with 1 Axes>"
      ]
     },
     "metadata": {
      "needs_background": "light"
     },
     "output_type": "display_data"
    }
   ],
   "source": [
    "fig, ax = plt.subplots(figsize=(16, 9))\n",
    "ax.bar(by_type_make_over_1000['Make'], by_type_make_over_1000['Fatality_Rate'])\n",
    "ax.set_xlabel('Make')\n",
    "ax.set_ylabel('Fatality Rate')\n",
    "ax.set_title('Fatality Rate by Make (Total Fatality > 1000)')\n",
    "plt.show()"
   ]
  },
  {
   "cell_type": "code",
   "execution_count": 21,
   "metadata": {
    "pycharm": {
     "is_executing": false
    }
   },
   "outputs": [
    {
     "data": {
      "text/html": [
       "<div>\n",
       "<style scoped>\n",
       "    .dataframe tbody tr th:only-of-type {\n",
       "        vertical-align: middle;\n",
       "    }\n",
       "\n",
       "    .dataframe tbody tr th {\n",
       "        vertical-align: top;\n",
       "    }\n",
       "\n",
       "    .dataframe thead th {\n",
       "        text-align: right;\n",
       "    }\n",
       "</style>\n",
       "<table border=\"1\" class=\"dataframe\">\n",
       "  <thead>\n",
       "    <tr style=\"text-align: right;\">\n",
       "      <th></th>\n",
       "      <th>Departure airport</th>\n",
       "      <th>Destination airport</th>\n",
       "      <th>Unnamed: 0</th>\n",
       "      <th>Unnamed: 11</th>\n",
       "      <th>Unnamed: 12</th>\n",
       "      <th>Total_Fatality</th>\n",
       "      <th>Total_Occupants</th>\n",
       "      <th>Index</th>\n",
       "      <th>Lat</th>\n",
       "      <th>Long</th>\n",
       "      <th>Fatality_Rate</th>\n",
       "    </tr>\n",
       "  </thead>\n",
       "  <tbody>\n",
       "    <tr>\n",
       "      <th>0</th>\n",
       "      <td>-</td>\n",
       "      <td>-</td>\n",
       "      <td>369363</td>\n",
       "      <td>0.0</td>\n",
       "      <td>0.0</td>\n",
       "      <td>0</td>\n",
       "      <td>55</td>\n",
       "      <td>219795</td>\n",
       "      <td>113.049426</td>\n",
       "      <td>39.031182</td>\n",
       "      <td>0.000000</td>\n",
       "    </tr>\n",
       "    <tr>\n",
       "      <th>1</th>\n",
       "      <td>?</td>\n",
       "      <td>?</td>\n",
       "      <td>9143546</td>\n",
       "      <td>0.0</td>\n",
       "      <td>0.0</td>\n",
       "      <td>2862</td>\n",
       "      <td>6477</td>\n",
       "      <td>4717529</td>\n",
       "      <td>12859.143794</td>\n",
       "      <td>1299.043876</td>\n",
       "      <td>0.441871</td>\n",
       "    </tr>\n",
       "    <tr>\n",
       "      <th>2</th>\n",
       "      <td>?</td>\n",
       "      <td>Aalborg Air Base (AAL/EKYT), Denmark</td>\n",
       "      <td>473</td>\n",
       "      <td>0.0</td>\n",
       "      <td>0.0</td>\n",
       "      <td>3</td>\n",
       "      <td>4</td>\n",
       "      <td>274</td>\n",
       "      <td>0.000000</td>\n",
       "      <td>0.000000</td>\n",
       "      <td>0.750000</td>\n",
       "    </tr>\n",
       "    <tr>\n",
       "      <th>3</th>\n",
       "      <td>?</td>\n",
       "      <td>Abidjan-Felix Houphouet Boigny Airport (ABJ/DI...</td>\n",
       "      <td>13143</td>\n",
       "      <td>0.0</td>\n",
       "      <td>0.0</td>\n",
       "      <td>3</td>\n",
       "      <td>3</td>\n",
       "      <td>6873</td>\n",
       "      <td>0.000000</td>\n",
       "      <td>0.000000</td>\n",
       "      <td>1.000000</td>\n",
       "    </tr>\n",
       "    <tr>\n",
       "      <th>4</th>\n",
       "      <td>?</td>\n",
       "      <td>Abingdon RAF Station (ABB/EGUD), United Kingdom</td>\n",
       "      <td>7470</td>\n",
       "      <td>0.0</td>\n",
       "      <td>0.0</td>\n",
       "      <td>0</td>\n",
       "      <td>3</td>\n",
       "      <td>3018</td>\n",
       "      <td>0.000000</td>\n",
       "      <td>0.000000</td>\n",
       "      <td>0.000000</td>\n",
       "    </tr>\n",
       "  </tbody>\n",
       "</table>\n",
       "</div>"
      ],
      "text/plain": [
       "  Departure airport                                Destination airport  \\\n",
       "0                 -                                                  -   \n",
       "1                 ?                                                  ?   \n",
       "2                 ?               Aalborg Air Base (AAL/EKYT), Denmark   \n",
       "3                 ?  Abidjan-Felix Houphouet Boigny Airport (ABJ/DI...   \n",
       "4                 ?    Abingdon RAF Station (ABB/EGUD), United Kingdom   \n",
       "\n",
       "   Unnamed: 0  Unnamed: 11  Unnamed: 12  Total_Fatality  Total_Occupants  \\\n",
       "0      369363          0.0          0.0               0               55   \n",
       "1     9143546          0.0          0.0            2862             6477   \n",
       "2         473          0.0          0.0               3                4   \n",
       "3       13143          0.0          0.0               3                3   \n",
       "4        7470          0.0          0.0               0                3   \n",
       "\n",
       "     Index           Lat         Long  Fatality_Rate  \n",
       "0   219795    113.049426    39.031182       0.000000  \n",
       "1  4717529  12859.143794  1299.043876       0.441871  \n",
       "2      274      0.000000     0.000000       0.750000  \n",
       "3     6873      0.000000     0.000000       1.000000  \n",
       "4     3018      0.000000     0.000000       0.000000  "
      ]
     },
     "execution_count": 21,
     "metadata": {},
     "output_type": "execute_result"
    }
   ],
   "source": [
    "by_depart_dest = df.groupby(['Departure airport', 'Destination airport']).sum().drop(columns=['year', 'Fatality_Rate']).reset_index()\n",
    "by_depart_dest['Fatality_Rate'] = by_depart_dest['Total_Fatality'] / by_depart_dest['Total_Occupants']\n",
    "by_depart_dest.head()"
   ]
  },
  {
   "cell_type": "code",
   "execution_count": 22,
   "metadata": {
    "pycharm": {
     "is_executing": false
    }
   },
   "outputs": [
    {
     "data": {
      "text/plain": [
       "Departure airport\n",
       "?                                                                2862\n",
       "Tenerife-Los Rodeos International Airport (TCI/GCXO), Spain       615\n",
       "Tokyo-Haneda Airport (HND/RJTT), Japan                            520\n",
       "Paris-Orly Airport (ORY/LFPO), France                             346\n",
       "Montreal-Mirabel International Airport, QC (YMX/CYMX), Canada     329\n",
       "Bombay-Santacruz Airport (BOM/VABB), India                        325\n",
       "Delhi-Indira Gandhi International Airport (DEL/VIDP), India       312\n",
       "Riyadh International Airport (RUH/OERY), Saudi Arabia             301\n",
       "Name: Total_Fatality, dtype: int64"
      ]
     },
     "execution_count": 22,
     "metadata": {},
     "output_type": "execute_result"
    }
   ],
   "source": [
    "by_depart_dest_over_300 = by_depart_dest[by_depart_dest['Total_Fatality'] > 300].groupby('Departure airport')\n",
    "by_depart_dest_over_300.sum()['Total_Fatality'].nlargest(10)"
   ]
  },
  {
   "cell_type": "code",
   "execution_count": 23,
   "metadata": {
    "pycharm": {
     "is_executing": false,
     "name": "#%%\n"
    }
   },
   "outputs": [
    {
     "data": {
      "text/html": [
       "<div>\n",
       "<style scoped>\n",
       "    .dataframe tbody tr th:only-of-type {\n",
       "        vertical-align: middle;\n",
       "    }\n",
       "\n",
       "    .dataframe tbody tr th {\n",
       "        vertical-align: top;\n",
       "    }\n",
       "\n",
       "    .dataframe thead th {\n",
       "        text-align: right;\n",
       "    }\n",
       "</style>\n",
       "<table border=\"1\" class=\"dataframe\">\n",
       "  <thead>\n",
       "    <tr style=\"text-align: right;\">\n",
       "      <th></th>\n",
       "      <th>Type</th>\n",
       "      <th>Make</th>\n",
       "      <th>Unnamed: 0</th>\n",
       "      <th>Unnamed: 11</th>\n",
       "      <th>Unnamed: 12</th>\n",
       "      <th>Total_Fatality</th>\n",
       "      <th>Total_Occupants</th>\n",
       "      <th>Index</th>\n",
       "      <th>Lat</th>\n",
       "      <th>Long</th>\n",
       "      <th>Fatality_Rate</th>\n",
       "    </tr>\n",
       "  </thead>\n",
       "  <tbody>\n",
       "    <tr>\n",
       "      <th>840</th>\n",
       "      <td>Boeing</td>\n",
       "      <td>777-2h6er</td>\n",
       "      <td>43171</td>\n",
       "      <td>0.0</td>\n",
       "      <td>0.0</td>\n",
       "      <td>537</td>\n",
       "      <td>537</td>\n",
       "      <td>26976</td>\n",
       "      <td>48.148266</td>\n",
       "      <td>38.648265</td>\n",
       "      <td>1.000000</td>\n",
       "    </tr>\n",
       "    <tr>\n",
       "      <th>2279</th>\n",
       "      <td>Lockheed</td>\n",
       "      <td>c-130h hercules</td>\n",
       "      <td>592055</td>\n",
       "      <td>0.0</td>\n",
       "      <td>0.0</td>\n",
       "      <td>902</td>\n",
       "      <td>1112</td>\n",
       "      <td>341724</td>\n",
       "      <td>285.214714</td>\n",
       "      <td>-10.596749</td>\n",
       "      <td>0.811151</td>\n",
       "    </tr>\n",
       "    <tr>\n",
       "      <th>2103</th>\n",
       "      <td>Ilyushin</td>\n",
       "      <td>il-18d</td>\n",
       "      <td>212536</td>\n",
       "      <td>0.0</td>\n",
       "      <td>0.0</td>\n",
       "      <td>597</td>\n",
       "      <td>743</td>\n",
       "      <td>115019</td>\n",
       "      <td>65.155474</td>\n",
       "      <td>78.966693</td>\n",
       "      <td>0.803499</td>\n",
       "    </tr>\n",
       "    <tr>\n",
       "      <th>2277</th>\n",
       "      <td>Lockheed</td>\n",
       "      <td>c-130e hercules</td>\n",
       "      <td>663483</td>\n",
       "      <td>0.0</td>\n",
       "      <td>0.0</td>\n",
       "      <td>521</td>\n",
       "      <td>743</td>\n",
       "      <td>347907</td>\n",
       "      <td>591.832641</td>\n",
       "      <td>85.603866</td>\n",
       "      <td>0.701211</td>\n",
       "    </tr>\n",
       "    <tr>\n",
       "      <th>1477</th>\n",
       "      <td>Douglas</td>\n",
       "      <td>c-47a-90-dl (dc-3)</td>\n",
       "      <td>489305</td>\n",
       "      <td>0.0</td>\n",
       "      <td>0.0</td>\n",
       "      <td>528</td>\n",
       "      <td>775</td>\n",
       "      <td>209670</td>\n",
       "      <td>865.886139</td>\n",
       "      <td>-84.945508</td>\n",
       "      <td>0.681290</td>\n",
       "    </tr>\n",
       "    <tr>\n",
       "      <th>2717</th>\n",
       "      <td>Tupolev</td>\n",
       "      <td>tu-104b</td>\n",
       "      <td>145683</td>\n",
       "      <td>0.0</td>\n",
       "      <td>0.0</td>\n",
       "      <td>626</td>\n",
       "      <td>971</td>\n",
       "      <td>72682</td>\n",
       "      <td>52.266796</td>\n",
       "      <td>104.375618</td>\n",
       "      <td>0.644696</td>\n",
       "    </tr>\n",
       "    <tr>\n",
       "      <th>1415</th>\n",
       "      <td>Douglas</td>\n",
       "      <td>c-47 (dc-3)</td>\n",
       "      <td>651316</td>\n",
       "      <td>0.0</td>\n",
       "      <td>0.0</td>\n",
       "      <td>673</td>\n",
       "      <td>1065</td>\n",
       "      <td>291761</td>\n",
       "      <td>465.833655</td>\n",
       "      <td>-1453.245968</td>\n",
       "      <td>0.631925</td>\n",
       "    </tr>\n",
       "    <tr>\n",
       "      <th>2106</th>\n",
       "      <td>Ilyushin</td>\n",
       "      <td>il-18v</td>\n",
       "      <td>429411</td>\n",
       "      <td>0.0</td>\n",
       "      <td>0.0</td>\n",
       "      <td>1349</td>\n",
       "      <td>2222</td>\n",
       "      <td>220453</td>\n",
       "      <td>216.492454</td>\n",
       "      <td>289.274863</td>\n",
       "      <td>0.607111</td>\n",
       "    </tr>\n",
       "    <tr>\n",
       "      <th>1701</th>\n",
       "      <td>Douglas</td>\n",
       "      <td>dc-6b</td>\n",
       "      <td>517812</td>\n",
       "      <td>0.0</td>\n",
       "      <td>0.0</td>\n",
       "      <td>1048</td>\n",
       "      <td>1741</td>\n",
       "      <td>252765</td>\n",
       "      <td>628.420381</td>\n",
       "      <td>-1017.371659</td>\n",
       "      <td>0.601953</td>\n",
       "    </tr>\n",
       "    <tr>\n",
       "      <th>2224</th>\n",
       "      <td>Lisunov</td>\n",
       "      <td>li-2</td>\n",
       "      <td>701515</td>\n",
       "      <td>0.0</td>\n",
       "      <td>0.0</td>\n",
       "      <td>651</td>\n",
       "      <td>1101</td>\n",
       "      <td>277445</td>\n",
       "      <td>1558.692086</td>\n",
       "      <td>2099.942991</td>\n",
       "      <td>0.591281</td>\n",
       "    </tr>\n",
       "  </tbody>\n",
       "</table>\n",
       "</div>"
      ],
      "text/plain": [
       "          Type                Make  Unnamed: 0  Unnamed: 11  Unnamed: 12  \\\n",
       "840     Boeing           777-2h6er       43171          0.0          0.0   \n",
       "2279  Lockheed     c-130h hercules      592055          0.0          0.0   \n",
       "2103  Ilyushin              il-18d      212536          0.0          0.0   \n",
       "2277  Lockheed     c-130e hercules      663483          0.0          0.0   \n",
       "1477   Douglas  c-47a-90-dl (dc-3)      489305          0.0          0.0   \n",
       "2717   Tupolev             tu-104b      145683          0.0          0.0   \n",
       "1415   Douglas         c-47 (dc-3)      651316          0.0          0.0   \n",
       "2106  Ilyushin              il-18v      429411          0.0          0.0   \n",
       "1701   Douglas               dc-6b      517812          0.0          0.0   \n",
       "2224   Lisunov                li-2      701515          0.0          0.0   \n",
       "\n",
       "      Total_Fatality  Total_Occupants   Index          Lat         Long  \\\n",
       "840              537              537   26976    48.148266    38.648265   \n",
       "2279             902             1112  341724   285.214714   -10.596749   \n",
       "2103             597              743  115019    65.155474    78.966693   \n",
       "2277             521              743  347907   591.832641    85.603866   \n",
       "1477             528              775  209670   865.886139   -84.945508   \n",
       "2717             626              971   72682    52.266796   104.375618   \n",
       "1415             673             1065  291761   465.833655 -1453.245968   \n",
       "2106            1349             2222  220453   216.492454   289.274863   \n",
       "1701            1048             1741  252765   628.420381 -1017.371659   \n",
       "2224             651             1101  277445  1558.692086  2099.942991   \n",
       "\n",
       "      Fatality_Rate  \n",
       "840        1.000000  \n",
       "2279       0.811151  \n",
       "2103       0.803499  \n",
       "2277       0.701211  \n",
       "1477       0.681290  \n",
       "2717       0.644696  \n",
       "1415       0.631925  \n",
       "2106       0.607111  \n",
       "1701       0.601953  \n",
       "2224       0.591281  "
      ]
     },
     "execution_count": 23,
     "metadata": {},
     "output_type": "execute_result"
    }
   ],
   "source": [
    "by_type_make_over_500 = by_type_make[by_type_make['Total_Fatality'] > 500].head(10)\n",
    "by_type_make_over_500"
   ]
  },
  {
   "cell_type": "code",
   "execution_count": 24,
   "metadata": {
    "pycharm": {
     "is_executing": false,
     "name": "#%%\n"
    }
   },
   "outputs": [
    {
     "data": {
      "image/png": "[encoded data removed]",
      "text/plain": [
       "<Figure size 1152x648 with 1 Axes>"
      ]
     },
     "metadata": {
      "needs_background": "light"
     },
     "output_type": "display_data"
    }
   ],
   "source": [
    "fig, ax = plt.subplots(figsize=(16,9))\n",
    "ax.bar(by_type_make_over_500['Make'], by_type_make_over_500['Fatality_Rate'])\n",
    "ax.grid(visible = True)\n",
    "ax.set_xlabel('Make')\n",
    "ax.set_ylabel('Fatality Rate')\n",
    "ax.set_title('Fatality Rate by Make (Total Fatality > 500)')\n",
    "plt.xticks(rotation = 90)\n",
    "plt.show()"
   ]
  },
  {
   "cell_type": "code",
   "execution_count": 25,
   "metadata": {
    "pycharm": {
     "is_executing": false
    }
   },
   "outputs": [
    {
     "data": {
      "text/plain": [
       "0.19388619388619388"
      ]
     },
     "execution_count": 25,
     "metadata": {},
     "output_type": "execute_result"
    }
   ],
   "source": [
    "Temp = df.copy()\n",
    "a = Temp[Temp['Nature']=='Military'].shape[0]\n",
    "a/Temp.shape[0]\n",
    "#Temp = Temp.groupby('isMilitary')[['isMilitary']].count()\n"
   ]
  },
  {
   "cell_type": "code",
   "execution_count": 26,
   "metadata": {
    "pycharm": {
     "is_executing": false,
     "name": "#%%\n"
    }
   },
   "outputs": [
    {
     "ename": "FileNotFoundError",
     "evalue": "[Errno 2] No such file or directory: 'download.jpg'",
     "output_type": "error",
     "traceback": [
      "\u001b[0;31m-------------------------\u001b[0m",
      "\u001b[0;31mFileNotFoundError\u001b[0mTraceback (most recent call last)",
      "\u001b[0;32m<ipython-input-26-a47d98591c16>\u001b[0m in \u001b[0;36m<module>\u001b[0;34m\u001b[0m\n\u001b[1;32m      6\u001b[0m \u001b[0mtext\u001b[0m \u001b[0;34m=\u001b[0m \u001b[0mtext\u001b[0m\u001b[0;34m.\u001b[0m\u001b[0mreplace\u001b[0m\u001b[0;34m(\u001b[0m\u001b[0;34m'the'\u001b[0m\u001b[0;34m,\u001b[0m\u001b[0;34m''\u001b[0m\u001b[0;34m)\u001b[0m\u001b[0;34m\u001b[0m\u001b[0;34m\u001b[0m\u001b[0m\n\u001b[1;32m      7\u001b[0m \u001b[0mtext\u001b[0m \u001b[0;34m=\u001b[0m \u001b[0mtext\u001b[0m\u001b[0;34m.\u001b[0m\u001b[0mreplace\u001b[0m\u001b[0;34m(\u001b[0m\u001b[0;34m'to'\u001b[0m\u001b[0;34m,\u001b[0m\u001b[0;34m''\u001b[0m\u001b[0;34m)\u001b[0m\u001b[0;34m\u001b[0m\u001b[0;34m\u001b[0m\u001b[0m\n\u001b[0;32m----> 8\u001b[0;31m \u001b[0mplane_mask\u001b[0m \u001b[0;34m=\u001b[0m \u001b[0mnp\u001b[0m\u001b[0;34m.\u001b[0m\u001b[0marray\u001b[0m\u001b[0;34m(\u001b[0m\u001b[0mImage\u001b[0m\u001b[0;34m.\u001b[0m\u001b[0mopen\u001b[0m\u001b[0;34m(\u001b[0m\u001b[0;34m'download.jpg'\u001b[0m\u001b[0;34m)\u001b[0m\u001b[0;34m)\u001b[0m\u001b[0;34m\u001b[0m\u001b[0;34m\u001b[0m\u001b[0m\n\u001b[0m\u001b[1;32m      9\u001b[0m \u001b[0mstopwords\u001b[0m \u001b[0;34m=\u001b[0m \u001b[0mset\u001b[0m\u001b[0;34m(\u001b[0m\u001b[0mSTOPWORDS\u001b[0m\u001b[0;34m)\u001b[0m\u001b[0;34m\u001b[0m\u001b[0;34m\u001b[0m\u001b[0m\n\u001b[1;32m     10\u001b[0m \u001b[0mstopwords\u001b[0m\u001b[0;34m.\u001b[0m\u001b[0madd\u001b[0m\u001b[0;34m(\u001b[0m\u001b[0;34m'aircraft'\u001b[0m\u001b[0;34m)\u001b[0m\u001b[0;34m\u001b[0m\u001b[0;34m\u001b[0m\u001b[0m\n",
      "\u001b[0;32m/anaconda3/envs/DataSci/lib/python3.6/site-packages/PIL/Image.py\u001b[0m in \u001b[0;36mopen\u001b[0;34m(fp, mode)\u001b[0m\n\u001b[1;32m   2841\u001b[0m \u001b[0;34m\u001b[0m\u001b[0m\n\u001b[1;32m   2842\u001b[0m     \u001b[0;32mif\u001b[0m \u001b[0mfilename\u001b[0m\u001b[0;34m:\u001b[0m\u001b[0;34m\u001b[0m\u001b[0;34m\u001b[0m\u001b[0m\n\u001b[0;32m-> 2843\u001b[0;31m         \u001b[0mfp\u001b[0m \u001b[0;34m=\u001b[0m \u001b[0mbuiltins\u001b[0m\u001b[0;34m.\u001b[0m\u001b[0mopen\u001b[0m\u001b[0;34m(\u001b[0m\u001b[0mfilename\u001b[0m\u001b[0;34m,\u001b[0m \u001b[0;34m\"rb\"\u001b[0m\u001b[0;34m)\u001b[0m\u001b[0;34m\u001b[0m\u001b[0;34m\u001b[0m\u001b[0m\n\u001b[0m\u001b[1;32m   2844\u001b[0m         \u001b[0mexclusive_fp\u001b[0m \u001b[0;34m=\u001b[0m \u001b[0;32mTrue\u001b[0m\u001b[0;34m\u001b[0m\u001b[0;34m\u001b[0m\u001b[0m\n\u001b[1;32m   2845\u001b[0m \u001b[0;34m\u001b[0m\u001b[0m\n",
      "\u001b[0;31mFileNotFoundError\u001b[0m: [Errno 2] No such file or directory: 'download.jpg'"
     ]
    }
   ],
   "source": [
    "from PIL import Image\n",
    "from wordcloud import WordCloud, STOPWORDS\n",
    "\n",
    "text = str(df.Narrative.tolist()).lower()\n",
    "text = text.replace('The','')\n",
    "text = text.replace('the','')\n",
    "text = text.replace('to','')\n",
    "plane_mask = np.array(Image.open('download.jpg'))\n",
    "stopwords = set(STOPWORDS)\n",
    "stopwords.add('aircraft')\n",
    "stopwords.add('plane')\n",
    "stopwords.add('of')\n",
    "#stopwords.add('The')\n",
    "wc = WordCloud(background_color=\"white\",width = 1600,height = 1400, max_words=2000, mask = plane_mask,\n",
    "               stopwords=stopwords,mode = 'RGB',random_state = 25)\n",
    "wc.generate(text)\n",
    "\n",
    "plt.figure(figsize = (50,50))\n",
    "plt.imshow(wc, interpolation='bilinear')\n",
    "plt.axis(\"off\")\n",
    "plt.title('Brief Summary', loc='Center', fontsize=40)\n",
    "plt.savefig('./aircraft_wordcloud.png', dpi=50)\n",
    "plt.show()\n"
   ]
  },
  {
   "cell_type": "code",
   "execution_count": null,
   "metadata": {
    "pycharm": {
     "is_executing": false,
     "name": "#%%\n"
    }
   },
   "outputs": [],
   "source": [
    "by_type = df.groupby(['Operator']).sum().drop(columns=['year', 'Fatality_Rate']).reset_index()\n",
    "by_type['Fatality_Rate'] = by_type['Total_Fatality'] / by_type['Total_Occupants']\n",
    "by_type.head()\n",
    "by_type_over_1500 = by_type[by_type['Total_Fatality'] > 1000].sort_values('Fatality_Rate',ascending = False)\n",
    "by_type_over_1500\n",
    "fig, ax = plt.subplots(figsize=(16, 9))\n",
    "ax.bar(by_type_over_1500['Operator'], by_type_over_1500['Fatality_Rate'])\n",
    "ax.set_xlabel('Type')\n",
    "ax.set_ylabel('Fatality Rate')\n",
    "ax.set_title('Fatality Rate by Type (Total Fatality > 1500)')\n",
    "for tick in ax.get_xticklabels():\n",
    "    tick.set_rotation(90)\n",
    "plt.show()"
   ]
  },
  {
   "cell_type": "code",
   "execution_count": null,
   "metadata": {},
   "outputs": [],
   "source": [
    "#Year Accident Distribution\n",
    "df.groupby('year').count()['id'].plot()"
   ]
  },
  {
   "cell_type": "code",
   "execution_count": null,
   "metadata": {},
   "outputs": [],
   "source": [
    "print(df.head(1))"
   ]
  },
  {
   "cell_type": "code",
   "execution_count": null,
   "metadata": {},
   "outputs": [],
   "source": [
    "plt.plot(sorted(df['Fatality_Rate']))\n",
    "plt.title('Fatality Rate(Line)',fontsize = 12)\n",
    "plt.xlabel('Counts',fontsize = 10)\n",
    "plt.ylabel('Rate',fontsize = 10)\n",
    "plt.xticks(fontsize = 10)\n",
    "plt.yticks(fontsize = 10)\n",
    "plt.savefig('并排放2.jpg')"
   ]
  },
  {
   "cell_type": "code",
   "execution_count": null,
   "metadata": {},
   "outputs": [],
   "source": [
    "plt.hist(sorted(df['Fatality_Rate']))\n",
    "plt.title('Fatality Rate(Histogram)',fontsize = 14)\n",
    "plt.xlabel('Actual Fatality Rate',fontsize = 12)\n",
    "plt.ylabel('Counts',fontsize = 12)\n",
    "plt.xticks(fontsize = 10)\n",
    "plt.yticks(fontsize = 10)\n",
    "plt.savefig('并排放1.jpg')"
   ]
  },
  {
   "cell_type": "code",
   "execution_count": null,
   "metadata": {},
   "outputs": [],
   "source": []
  }
 ],
 "metadata": {
  "kernelspec": {
   "display_name": "Python 3",
   "language": "python",
   "name": "python3"
  },
  "language_info": {
   "codemirror_mode": {
    "name": "ipython",
    "version": 3
   },
   "file_extension": ".py",
   "mimetype": "text/x-python",
   "name": "python",
   "nbconvert_exporter": "python",
   "pygments_lexer": "ipython3",
   "version": "3.6.10"
  },
  "pycharm": {
   "stem_cell": {
    "cell_type": "raw",
    "metadata": {
     "collapsed": false
    },
    "source": []
   }
  }
 },
 "nbformat": 4,
 "nbformat_minor": 2
}
