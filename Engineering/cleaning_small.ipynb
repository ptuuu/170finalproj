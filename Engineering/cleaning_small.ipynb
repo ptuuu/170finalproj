{
 "cells": [
  {
   "cell_type": "code",
   "execution_count": 1,
   "metadata": {},
   "outputs": [],
   "source": [
    "import pandas as pd\n",
    "import time\n",
    "import geopy\n",
    "import datetime\n",
    "from geopy.geocoders import Nominatim\n",
    "df = pd.read_csv( \"../data/AS1908-2016.csv\")\n",
    "def showcols(dataframe,lazyprinting = False):\n",
    "    '''\n",
    "    :param dataframe:\n",
    "    :return nothing, but print out the dataframe column and corresponding indexes instead.\n",
    "    The dataframe is not iterable through external package imports,\n",
    "    so it must be defined within the jupyter kernel.\n",
    "    '''\n",
    "    if lazyprinting:\n",
    "        print(dataframe.columns)\n",
    "    for i in enumerate(dataframe.columns):\n",
    "        print (i)"
   ]
  },
  {
   "cell_type": "code",
   "execution_count": 2,
   "metadata": {
    "pycharm": {
     "name": "#%%\n"
    }
   },
   "outputs": [
    {
     "name": "stdout",
     "output_type": "stream",
     "text": [
      "(0, 'Date')\n",
      "(1, 'Time')\n",
      "(2, 'Location')\n",
      "(3, 'Operator')\n",
      "(4, 'Flight #')\n",
      "(5, 'Route')\n",
      "(6, 'AC Type')\n",
      "(7, 'Registration')\n",
      "(8, 'cn/ln')\n",
      "(9, 'Aboard')\n",
      "(10, 'Aboard Passangers')\n",
      "(11, 'Aboard Crew')\n",
      "(12, 'Fatalities')\n",
      "(13, 'Fatalities Passangers')\n",
      "(14, 'Fatalities Crew')\n",
      "(15, 'Ground')\n",
      "(16, 'Summary')\n"
     ]
    }
   ],
   "source": [
    "df\n",
    "df[['Route']].describe()\n",
    "a = enumerate(df.columns)\n",
    "for i in a:\n",
    "    print(i)"
   ]
  },
  {
   "cell_type": "code",
   "execution_count": 3,
   "metadata": {
    "pycharm": {
     "name": "#%%\n"
    }
   },
   "outputs": [
    {
     "name": "stdout",
     "output_type": "stream",
     "text": [
      "(0, 'Date')\n",
      "(1, 'Time')\n",
      "(2, 'Location')\n",
      "(3, 'Operator')\n",
      "(4, 'Flight #')\n",
      "(5, 'Route')\n",
      "(6, 'AC Type')\n",
      "(7, 'Registration')\n",
      "(8, 'cn/ln')\n",
      "(9, 'Aboard Passangers')\n",
      "(10, 'Aboard Crew')\n",
      "(11, 'Fatalities Passangers')\n",
      "(12, 'Fatalities Crew')\n",
      "(13, 'Summary')\n"
     ]
    },
    {
     "name": "stderr",
     "output_type": "stream",
     "text": [
      "/anaconda3/envs/DataSci/lib/python3.6/site-packages/pandas/core/frame.py:4153: SettingWithCopyWarning: \n",
      "A value is trying to be set on a copy of a slice from a DataFrame\n",
      "\n",
      "See the caveats in the documentation: https://pandas.pydata.org/pandas-docs/stable/user_guide/indexing.html#returning-a-view-versus-a-copy\n",
      "  downcast=downcast,\n"
     ]
    }
   ],
   "source": [
    "da = df.drop(df.columns[[9,12,15]],axis = 1, inplace = False)\n",
    "da\n",
    "a = enumerate(da.columns)\n",
    "for i in a:\n",
    "    print(i)\n",
    "da[['Aboard Passangers',\n",
    "    'Fatalities Passangers',\n",
    "    'Aboard Crew',\n",
    "    'Fatalities Crew']].fillna(0,inplace = True)\n",
    "da['Total Aborad'] = da['Aboard Passangers']+da['Aboard Crew']\n",
    "da['Total Fatalities'] = da['Fatalities Crew'] + da['Fatalities Passangers']\n",
    "da['Fatality Rate'] = da['Total Fatalities']/da['Total Aborad']"
   ]
  },
  {
   "cell_type": "code",
   "execution_count": 4,
   "metadata": {
    "pycharm": {
     "name": "#%%\n"
    }
   },
   "outputs": [],
   "source": [
    "da[['Total Aborad','Total Fatalities','Fatality Rate']]\n",
    "da.drop(da[da['Fatality Rate'].isnull()].index,inplace = True)\n",
    "da.drop(da[da['Fatality Rate']>1].index,inplace = True)\n",
    "da.describe()\n",
    "da = da.reset_index()\n",
    "da.to_csv(path_or_buf='../data/cleanedsmall.csv',index = False)"
   ]
  },
  {
   "cell_type": "code",
   "execution_count": 8,
   "metadata": {
    "pycharm": {
     "name": "#%%\n"
    }
   },
   "outputs": [
    {
     "name": "stdout",
     "output_type": "stream",
     "text": [
      "   index        Date   Time             Location              Operator  \\\n",
      "0      0  09/17/1908  17:18  Fort Myer, Virginia  Military - U.S. Army   \n",
      "\n",
      "  Flight #          Route           AC Type Registration cn/ln  \\\n",
      "0      NaN  Demonstration  Wright Flyer III          NaN     1   \n",
      "\n",
      "   Aboard Passangers  Aboard Crew  Fatalities Passangers  Fatalities Crew  \\\n",
      "0                1.0          1.0                    1.0              0.0   \n",
      "\n",
      "                                             Summary  Total Aborad  \\\n",
      "0  During a demonstration flight, a U.S. Army fly...           2.0   \n",
      "\n",
      "   Total Fatalities  Fatality Rate                            Raw_Time  \n",
      "0               1.0            0.5  (1908, 9, 17, 0, 0, 0, 3, 261, -1)  \n"
     ]
    },
    {
     "data": {
      "text/plain": [
       "<bound method DataFrame.info of       index        Date   Time                            Location  \\\n",
       "0         0  09/17/1908  17:18                 Fort Myer, Virginia   \n",
       "1         1  09/07/1909    NaN             Juvisy-sur-Orge, France   \n",
       "2         2  07/12/1912  06:30           Atlantic City, New Jersey   \n",
       "3         3  08/06/1913    NaN  Victoria, British Columbia, Canada   \n",
       "4        10  10/01/1916  23:45                Potters Bar, England   \n",
       "...     ...         ...    ...                                 ...   \n",
       "4704   4962  04/16/2019  11:00                 Puerto Montt, Chile   \n",
       "4705   4963  05/05/2019  18:30               Near Monclava, Mexico   \n",
       "4706   4964  05/05/2019  18:30                      Moscow, Russia   \n",
       "4707   4965  06/03/2019  13:00                    Near Lipo, India   \n",
       "4708   4966  07/30/2019  02:00                   Rawalpindi, India   \n",
       "\n",
       "                                     Operator Flight #  \\\n",
       "0                        Military - U.S. Army      NaN   \n",
       "1                                         NaN      NaN   \n",
       "2                        Military - U.S. Navy      NaN   \n",
       "3                                     Private      NaN   \n",
       "4                      Military - German Navy      NaN   \n",
       "...                                       ...      ...   \n",
       "4704              Archipelagos Service Aereos      NaN   \n",
       "4705                  TVPX Aircraft Solutions      NaN   \n",
       "4706  Aeroflot Russian International Airlines      NaN   \n",
       "4707              Military - Indian Air Force      NaN   \n",
       "4708                 Military - Pakistan Army      NaN   \n",
       "\n",
       "                         Route                                   AC Type  \\\n",
       "0                Demonstration                          Wright Flyer III   \n",
       "1                     Air show                            Wright Byplane   \n",
       "2                  Test flight                                 Dirigible   \n",
       "3                          nan                          Curtiss seaplane   \n",
       "4                          nan                   Zeppelin L-31 (airship)   \n",
       "...                        ...                                       ...   \n",
       "4704    Puerto Montt - Ayacara  Pilatus-Britten Norman BN-2B-27 Islander   \n",
       "4705     Las Vegas - Monterrey           Canadair CL-600-2B16-Challenger   \n",
       "4706         Moscow - Murmansk                   Sukhoi Superjet-100-95B   \n",
       "4707  Jorhat-Rowriah - Mechuka                             Antonov An-32   \n",
       "4708                  Training                  Beechcraft B300 King Air   \n",
       "\n",
       "     Registration  cn/ln  Aboard Passangers  Aboard Crew  \\\n",
       "0             NaN      1                1.0          1.0   \n",
       "1             SC1    NaN                0.0          1.0   \n",
       "2             NaN    NaN                0.0          5.0   \n",
       "3             NaN    NaN                0.0          1.0   \n",
       "4             NaN    NaN                0.0         19.0   \n",
       "...           ...    ...                ...          ...   \n",
       "4704      CC-CYR    2169                5.0          1.0   \n",
       "4705       N601VH   5043               11.0          2.0   \n",
       "4706    RA-89098   95135               73.0          5.0   \n",
       "4707        K2752   1009                5.0          8.0   \n",
       "4708          766   B766                0.0          5.0   \n",
       "\n",
       "      Fatalities Passangers  Fatalities Crew  \\\n",
       "0                       1.0              0.0   \n",
       "1                       0.0              0.0   \n",
       "2                       0.0              5.0   \n",
       "3                       0.0              1.0   \n",
       "4                       0.0             19.0   \n",
       "...                     ...              ...   \n",
       "4704                    5.0              1.0   \n",
       "4705                   11.0              2.0   \n",
       "4706                   40.0              1.0   \n",
       "4707                    5.0              8.0   \n",
       "4708                    0.0              5.0   \n",
       "\n",
       "                                                Summary  Total Aborad  \\\n",
       "0     During a demonstration flight, a U.S. Army fly...           2.0   \n",
       "1     Eugene Lefebvre was the first pilot to ever be...           1.0   \n",
       "2     First U.S. dirigible Akron exploded just offsh...           5.0   \n",
       "3     The first fatal airplane accident in Canada oc...           1.0   \n",
       "4     Shot down in flames by the British 39th Home D...          19.0   \n",
       "...                                                 ...           ...   \n",
       "4704  While the aircraft was in the initial climb, p...           6.0   \n",
       "4705  The aircraft crashed while en route on a retur...          13.0   \n",
       "4706  Forty-five minutes after taking off from Mosco...          78.0   \n",
       "4707                 Crashed about 34km WNW of Mechuka.          13.0   \n",
       "4708  The Pakistani military plane, on a training fl...           5.0   \n",
       "\n",
       "      Total Fatalities  Fatality Rate                            Raw_Time  \n",
       "0                  1.0       0.500000  (1908, 9, 17, 0, 0, 0, 3, 261, -1)  \n",
       "1                  0.0       0.000000   (1909, 9, 7, 0, 0, 0, 1, 250, -1)  \n",
       "2                  5.0       1.000000  (1912, 7, 12, 0, 0, 0, 4, 194, -1)  \n",
       "3                  1.0       1.000000   (1913, 8, 6, 0, 0, 0, 2, 218, -1)  \n",
       "4                 19.0       1.000000  (1916, 10, 1, 0, 0, 0, 6, 275, -1)  \n",
       "...                ...            ...                                 ...  \n",
       "4704               6.0       1.000000  (2019, 4, 16, 0, 0, 0, 1, 106, -1)  \n",
       "4705              13.0       1.000000   (2019, 5, 5, 0, 0, 0, 6, 125, -1)  \n",
       "4706              41.0       0.525641   (2019, 5, 5, 0, 0, 0, 6, 125, -1)  \n",
       "4707              13.0       1.000000   (2019, 6, 3, 0, 0, 0, 0, 154, -1)  \n",
       "4708               5.0       1.000000  (2019, 7, 30, 0, 0, 0, 1, 211, -1)  \n",
       "\n",
       "[4709 rows x 19 columns]>"
      ]
     },
     "execution_count": 8,
     "metadata": {},
     "output_type": "execute_result"
    }
   ],
   "source": [
    "da['Route'] = [str(i).lstrip('\\t').strip() for i in da['Route']]\n",
    "da['Raw_Time'] = da['Date'].apply(lambda x:time.strptime(x,\"%m/%d/%Y\"))\n",
    "print(da.head(1))\n",
    "da.info"
   ]
  },
  {
   "cell_type": "code",
   "execution_count": null,
   "metadata": {
    "pycharm": {
     "is_executing": true,
     "name": "#%%\n"
    }
   },
   "outputs": [
    {
     "name": "stderr",
     "output_type": "stream",
     "text": [
      "RateLimiter caught an error, retrying (0/2 tries). Called with (*('Near Bangkok, Thailand',), **{}).\n",
      "Traceback (most recent call last):\n",
      "  File \"/home/ptuuu/anaconda3/envs/DS/lib/python3.6/site-packages/geopy/geocoders/base.py\", line 355, in _call_geocoder\n",
      "    page = requester(req, timeout=timeout, **kwargs)\n",
      "  File \"/home/ptuuu/anaconda3/envs/DS/lib/python3.6/urllib/request.py\", line 526, in open\n",
      "    response = self._open(req, data)\n",
      "  File \"/home/ptuuu/anaconda3/envs/DS/lib/python3.6/urllib/request.py\", line 544, in _open\n",
      "    '_open', req)\n",
      "  File \"/home/ptuuu/anaconda3/envs/DS/lib/python3.6/urllib/request.py\", line 504, in _call_chain\n",
      "    result = func(*args)\n",
      "  File \"/home/ptuuu/anaconda3/envs/DS/lib/python3.6/urllib/request.py\", line 1361, in https_open\n",
      "    context=self._context, check_hostname=self._check_hostname)\n",
      "  File \"/home/ptuuu/anaconda3/envs/DS/lib/python3.6/urllib/request.py\", line 1321, in do_open\n",
      "    r = h.getresponse()\n",
      "  File \"/home/ptuuu/anaconda3/envs/DS/lib/python3.6/http/client.py\", line 1354, in getresponse\n",
      "    response.begin()\n",
      "  File \"/home/ptuuu/anaconda3/envs/DS/lib/python3.6/http/client.py\", line 307, in begin\n",
      "    version, status, reason = self._read_status()\n",
      "  File \"/home/ptuuu/anaconda3/envs/DS/lib/python3.6/http/client.py\", line 268, in _read_status\n",
      "    line = str(self.fp.readline(_MAXLINE + 1), \"iso-8859-1\")\n",
      "  File \"/home/ptuuu/anaconda3/envs/DS/lib/python3.6/socket.py\", line 586, in readinto\n",
      "    return self._sock.recv_into(b)\n",
      "  File \"/home/ptuuu/anaconda3/envs/DS/lib/python3.6/ssl.py\", line 1012, in recv_into\n",
      "    return self.read(nbytes, buffer)\n",
      "  File \"/home/ptuuu/anaconda3/envs/DS/lib/python3.6/ssl.py\", line 874, in read\n",
      "    return self._sslobj.read(len, buffer)\n",
      "  File \"/home/ptuuu/anaconda3/envs/DS/lib/python3.6/ssl.py\", line 631, in read\n",
      "    v = self._sslobj.read(len, buffer)\n",
      "socket.timeout: The read operation timed out\n",
      "\n",
      "During handling of the above exception, another exception occurred:\n",
      "\n",
      "Traceback (most recent call last):\n",
      "  File \"/home/ptuuu/anaconda3/envs/DS/lib/python3.6/site-packages/geopy/extra/rate_limiter.py\", line 126, in __call__\n",
      "    return self.func(*args, **kwargs)\n",
      "  File \"/home/ptuuu/anaconda3/envs/DS/lib/python3.6/site-packages/geopy/geocoders/osm.py\", line 406, in geocode\n",
      "    self._call_geocoder(url, timeout=timeout), exactly_one\n",
      "  File \"/home/ptuuu/anaconda3/envs/DS/lib/python3.6/site-packages/geopy/geocoders/base.py\", line 382, in _call_geocoder\n",
      "    raise GeocoderTimedOut('Service timed out')\n",
      "geopy.exc.GeocoderTimedOut: Service timed out\n",
      "RateLimiter caught an error, retrying (0/2 tries). Called with (*('Near Bangkok, Thailand',), **{}).\n",
      "Traceback (most recent call last):\n",
      "  File \"/home/ptuuu/anaconda3/envs/DS/lib/python3.6/site-packages/geopy/geocoders/base.py\", line 355, in _call_geocoder\n",
      "    page = requester(req, timeout=timeout, **kwargs)\n",
      "  File \"/home/ptuuu/anaconda3/envs/DS/lib/python3.6/urllib/request.py\", line 526, in open\n",
      "    response = self._open(req, data)\n",
      "  File \"/home/ptuuu/anaconda3/envs/DS/lib/python3.6/urllib/request.py\", line 544, in _open\n",
      "    '_open', req)\n",
      "  File \"/home/ptuuu/anaconda3/envs/DS/lib/python3.6/urllib/request.py\", line 504, in _call_chain\n",
      "    result = func(*args)\n",
      "  File \"/home/ptuuu/anaconda3/envs/DS/lib/python3.6/urllib/request.py\", line 1361, in https_open\n",
      "    context=self._context, check_hostname=self._check_hostname)\n",
      "  File \"/home/ptuuu/anaconda3/envs/DS/lib/python3.6/urllib/request.py\", line 1321, in do_open\n",
      "    r = h.getresponse()\n",
      "  File \"/home/ptuuu/anaconda3/envs/DS/lib/python3.6/http/client.py\", line 1354, in getresponse\n",
      "    response.begin()\n",
      "  File \"/home/ptuuu/anaconda3/envs/DS/lib/python3.6/http/client.py\", line 307, in begin\n",
      "    version, status, reason = self._read_status()\n",
      "  File \"/home/ptuuu/anaconda3/envs/DS/lib/python3.6/http/client.py\", line 268, in _read_status\n",
      "    line = str(self.fp.readline(_MAXLINE + 1), \"iso-8859-1\")\n",
      "  File \"/home/ptuuu/anaconda3/envs/DS/lib/python3.6/socket.py\", line 586, in readinto\n",
      "    return self._sock.recv_into(b)\n",
      "  File \"/home/ptuuu/anaconda3/envs/DS/lib/python3.6/ssl.py\", line 1012, in recv_into\n",
      "    return self.read(nbytes, buffer)\n",
      "  File \"/home/ptuuu/anaconda3/envs/DS/lib/python3.6/ssl.py\", line 874, in read\n",
      "    return self._sslobj.read(len, buffer)\n",
      "  File \"/home/ptuuu/anaconda3/envs/DS/lib/python3.6/ssl.py\", line 631, in read\n",
      "    v = self._sslobj.read(len, buffer)\n",
      "socket.timeout: The read operation timed out\n",
      "\n",
      "During handling of the above exception, another exception occurred:\n",
      "\n",
      "Traceback (most recent call last):\n",
      "  File \"/home/ptuuu/anaconda3/envs/DS/lib/python3.6/site-packages/geopy/extra/rate_limiter.py\", line 126, in __call__\n",
      "    return self.func(*args, **kwargs)\n",
      "  File \"/home/ptuuu/anaconda3/envs/DS/lib/python3.6/site-packages/geopy/geocoders/osm.py\", line 406, in geocode\n",
      "    self._call_geocoder(url, timeout=timeout), exactly_one\n",
      "  File \"/home/ptuuu/anaconda3/envs/DS/lib/python3.6/site-packages/geopy/geocoders/base.py\", line 382, in _call_geocoder\n",
      "    raise GeocoderTimedOut('Service timed out')\n",
      "geopy.exc.GeocoderTimedOut: Service timed out\n",
      "RateLimiter caught an error, retrying (0/2 tries). Called with (*('Zheng Zou AB, China',), **{}).\n",
      "Traceback (most recent call last):\n",
      "  File \"/home/ptuuu/anaconda3/envs/DS/lib/python3.6/site-packages/geopy/geocoders/base.py\", line 355, in _call_geocoder\n",
      "    page = requester(req, timeout=timeout, **kwargs)\n",
      "  File \"/home/ptuuu/anaconda3/envs/DS/lib/python3.6/urllib/request.py\", line 526, in open\n",
      "    response = self._open(req, data)\n",
      "  File \"/home/ptuuu/anaconda3/envs/DS/lib/python3.6/urllib/request.py\", line 544, in _open\n",
      "    '_open', req)\n",
      "  File \"/home/ptuuu/anaconda3/envs/DS/lib/python3.6/urllib/request.py\", line 504, in _call_chain\n",
      "    result = func(*args)\n",
      "  File \"/home/ptuuu/anaconda3/envs/DS/lib/python3.6/urllib/request.py\", line 1361, in https_open\n",
      "    context=self._context, check_hostname=self._check_hostname)\n",
      "  File \"/home/ptuuu/anaconda3/envs/DS/lib/python3.6/urllib/request.py\", line 1321, in do_open\n",
      "    r = h.getresponse()\n",
      "  File \"/home/ptuuu/anaconda3/envs/DS/lib/python3.6/http/client.py\", line 1354, in getresponse\n",
      "    response.begin()\n",
      "  File \"/home/ptuuu/anaconda3/envs/DS/lib/python3.6/http/client.py\", line 307, in begin\n",
      "    version, status, reason = self._read_status()\n",
      "  File \"/home/ptuuu/anaconda3/envs/DS/lib/python3.6/http/client.py\", line 268, in _read_status\n",
      "    line = str(self.fp.readline(_MAXLINE + 1), \"iso-8859-1\")\n",
      "  File \"/home/ptuuu/anaconda3/envs/DS/lib/python3.6/socket.py\", line 586, in readinto\n",
      "    return self._sock.recv_into(b)\n",
      "  File \"/home/ptuuu/anaconda3/envs/DS/lib/python3.6/ssl.py\", line 1012, in recv_into\n",
      "    return self.read(nbytes, buffer)\n",
      "  File \"/home/ptuuu/anaconda3/envs/DS/lib/python3.6/ssl.py\", line 874, in read\n",
      "    return self._sslobj.read(len, buffer)\n",
      "  File \"/home/ptuuu/anaconda3/envs/DS/lib/python3.6/ssl.py\", line 631, in read\n",
      "    v = self._sslobj.read(len, buffer)\n",
      "socket.timeout: The read operation timed out\n",
      "\n",
      "During handling of the above exception, another exception occurred:\n",
      "\n",
      "Traceback (most recent call last):\n",
      "  File \"/home/ptuuu/anaconda3/envs/DS/lib/python3.6/site-packages/geopy/extra/rate_limiter.py\", line 126, in __call__\n",
      "    return self.func(*args, **kwargs)\n",
      "  File \"/home/ptuuu/anaconda3/envs/DS/lib/python3.6/site-packages/geopy/geocoders/osm.py\", line 406, in geocode\n",
      "    self._call_geocoder(url, timeout=timeout), exactly_one\n",
      "  File \"/home/ptuuu/anaconda3/envs/DS/lib/python3.6/site-packages/geopy/geocoders/base.py\", line 382, in _call_geocoder\n",
      "    raise GeocoderTimedOut('Service timed out')\n",
      "geopy.exc.GeocoderTimedOut: Service timed out\n"
     ]
    }
   ],
   "source": [
    "geolocator = Nominatim(user_agent='capstoneproj')\n",
    "from geopy.extra import rate_limiter\n",
    "geocode=rate_limiter.RateLimiter(geolocator.geocode,min_delay_seconds= 1)\n",
    "da['Coordinate'] = da['Location'].apply(geocode).apply(lambda location: (location.latitude, location.longitude))\n",
    "print('Done')"
   ]
  },
  {
   "cell_type": "code",
   "execution_count": null,
   "metadata": {
    "pycharm": {
     "is_executing": true,
     "name": "#%%\n"
    }
   },
   "outputs": [],
   "source": [
    "print('Hi')\n"
   ]
  },
  {
   "cell_type": "code",
   "execution_count": null,
   "metadata": {
    "pycharm": {
     "is_executing": true,
     "name": "#%%\n"
    }
   },
   "outputs": [],
   "source": []
  },
  {
   "cell_type": "code",
   "execution_count": null,
   "metadata": {
    "pycharm": {
     "is_executing": true,
     "name": "#%%\n"
    }
   },
   "outputs": [],
   "source": [
    "\n"
   ]
  },
  {
   "cell_type": "markdown",
   "metadata": {},
   "source": [
    "georec = []\n",
    "for i in range(0,len(da['Location'])):\n",
    "    geolocator = Nominatim(user_agent='capstoneproj')\n",
    "    location = geolocator.geocode(da['Location'][i])\n",
    "    georec.append(location)\n",
    "    time.sleep(1)\n",
    "print('Done')\n",
    "\n"
   ]
  }
 ],
 "metadata": {
  "kernelspec": {
   "display_name": "Python 3",
   "language": "python",
   "name": "python3"
  },
  "language_info": {
   "codemirror_mode": {
    "name": "ipython",
    "version": 3
   },
   "file_extension": ".py",
   "mimetype": "text/x-python",
   "name": "python",
   "nbconvert_exporter": "python",
   "pygments_lexer": "ipython3",
   "version": "3.6.10"
  }
 },
 "nbformat": 4,
 "nbformat_minor": 1
}
